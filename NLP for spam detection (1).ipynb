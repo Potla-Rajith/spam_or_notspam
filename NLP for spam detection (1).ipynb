{
 "cells": [
  {
   "cell_type": "code",
   "execution_count": 1,
   "id": "70e96763",
   "metadata": {},
   "outputs": [],
   "source": [
    "import pandas as pd\n",
    "import numpy as np"
   ]
  },
  {
   "cell_type": "code",
   "execution_count": 2,
   "id": "3f1344fb",
   "metadata": {},
   "outputs": [],
   "source": [
    "path='C:/Users/rajit/spam or not.xlsx'\n"
   ]
  },
  {
   "cell_type": "code",
   "execution_count": 3,
   "id": "3afd74a8",
   "metadata": {},
   "outputs": [
    {
     "data": {
      "text/plain": [
       "'C:\\\\Users\\\\rajit'"
      ]
     },
     "execution_count": 3,
     "metadata": {},
     "output_type": "execute_result"
    }
   ],
   "source": [
    "pwd"
   ]
  },
  {
   "cell_type": "code",
   "execution_count": 4,
   "id": "cceba9cb",
   "metadata": {},
   "outputs": [],
   "source": [
    "df= pd.read_excel(path)"
   ]
  },
  {
   "cell_type": "code",
   "execution_count": 5,
   "id": "0a8cf6b1",
   "metadata": {},
   "outputs": [
    {
     "data": {
      "text/html": [
       "<div>\n",
       "<style scoped>\n",
       "    .dataframe tbody tr th:only-of-type {\n",
       "        vertical-align: middle;\n",
       "    }\n",
       "\n",
       "    .dataframe tbody tr th {\n",
       "        vertical-align: top;\n",
       "    }\n",
       "\n",
       "    .dataframe thead th {\n",
       "        text-align: right;\n",
       "    }\n",
       "</style>\n",
       "<table border=\"1\" class=\"dataframe\">\n",
       "  <thead>\n",
       "    <tr style=\"text-align: right;\">\n",
       "      <th></th>\n",
       "      <th>label</th>\n",
       "      <th>text</th>\n",
       "    </tr>\n",
       "  </thead>\n",
       "  <tbody>\n",
       "    <tr>\n",
       "      <th>0</th>\n",
       "      <td>1.0</td>\n",
       "      <td>ounce feather bowl hummingbird opec moment ala...</td>\n",
       "    </tr>\n",
       "    <tr>\n",
       "      <th>1</th>\n",
       "      <td>1.0</td>\n",
       "      <td>wulvob get your medircations online qnb ikud v...</td>\n",
       "    </tr>\n",
       "    <tr>\n",
       "      <th>2</th>\n",
       "      <td>0.0</td>\n",
       "      <td>computer connection from cnn com wednesday es...</td>\n",
       "    </tr>\n",
       "    <tr>\n",
       "      <th>3</th>\n",
       "      <td>1.0</td>\n",
       "      <td>university degree obtain a prosperous future m...</td>\n",
       "    </tr>\n",
       "    <tr>\n",
       "      <th>4</th>\n",
       "      <td>0.0</td>\n",
       "      <td>thanks for all your answers guys i know i shou...</td>\n",
       "    </tr>\n",
       "    <tr>\n",
       "      <th>5</th>\n",
       "      <td>0.0</td>\n",
       "      <td>larry king live at escapenumber escapenumber p...</td>\n",
       "    </tr>\n",
       "    <tr>\n",
       "      <th>6</th>\n",
       "      <td>0.0</td>\n",
       "      <td>michael pobega wrote i'm not sure if it's the ...</td>\n",
       "    </tr>\n",
       "    <tr>\n",
       "      <th>7</th>\n",
       "      <td>0.0</td>\n",
       "      <td>hi i have this error tr sample escapenumber es...</td>\n",
       "    </tr>\n",
       "    <tr>\n",
       "      <th>8</th>\n",
       "      <td>1.0</td>\n",
       "      <td>works gateway world art explore tattooing full...</td>\n",
       "    </tr>\n",
       "    <tr>\n",
       "      <th>9</th>\n",
       "      <td>1.0</td>\n",
       "      <td>upon this account he is not only very cautious...</td>\n",
       "    </tr>\n",
       "  </tbody>\n",
       "</table>\n",
       "</div>"
      ],
      "text/plain": [
       "   label                                               text\n",
       "0    1.0  ounce feather bowl hummingbird opec moment ala...\n",
       "1    1.0  wulvob get your medircations online qnb ikud v...\n",
       "2    0.0   computer connection from cnn com wednesday es...\n",
       "3    1.0  university degree obtain a prosperous future m...\n",
       "4    0.0  thanks for all your answers guys i know i shou...\n",
       "5    0.0  larry king live at escapenumber escapenumber p...\n",
       "6    0.0  michael pobega wrote i'm not sure if it's the ...\n",
       "7    0.0  hi i have this error tr sample escapenumber es...\n",
       "8    1.0  works gateway world art explore tattooing full...\n",
       "9    1.0  upon this account he is not only very cautious..."
      ]
     },
     "execution_count": 5,
     "metadata": {},
     "output_type": "execute_result"
    }
   ],
   "source": [
    "df.head(10) # 1 indicates that mail is spam and 0 indicates it is not spam"
   ]
  },
  {
   "cell_type": "markdown",
   "id": "3bd1a76f",
   "metadata": {},
   "source": [
    "# 1 indicates that mail is spam and 0 indicates it is not spam"
   ]
  },
  {
   "cell_type": "code",
   "execution_count": 6,
   "id": "2d33c655",
   "metadata": {},
   "outputs": [],
   "source": [
    "import string  # to handle punctuations and special symbols\n",
    "from nltk.corpus import stopwords # to handle stop words"
   ]
  },
  {
   "cell_type": "code",
   "execution_count": 7,
   "id": "9d84c2d2",
   "metadata": {},
   "outputs": [
    {
     "name": "stdout",
     "output_type": "stream",
     "text": [
      "Requirement already satisfied: nltk in c:\\users\\rajit\\anaconda3\\lib\\site-packages (3.6.1)\n",
      "Requirement already satisfied: click in c:\\users\\rajit\\anaconda3\\lib\\site-packages (from nltk) (7.1.2)\n",
      "Requirement already satisfied: joblib in c:\\users\\rajit\\anaconda3\\lib\\site-packages (from nltk) (1.3.2)\n",
      "Requirement already satisfied: regex in c:\\users\\rajit\\anaconda3\\lib\\site-packages (from nltk) (2021.4.4)\n",
      "Requirement already satisfied: tqdm in c:\\users\\rajit\\anaconda3\\lib\\site-packages (from nltk) (4.59.0)\n",
      "Note: you may need to restart the kernel to use updated packages.\n"
     ]
    }
   ],
   "source": [
    "pip install nltk"
   ]
  },
  {
   "cell_type": "code",
   "execution_count": 8,
   "id": "2ef2c946",
   "metadata": {},
   "outputs": [
    {
     "name": "stderr",
     "output_type": "stream",
     "text": [
      "[nltk_data] Downloading package stopwords to\n",
      "[nltk_data]     C:\\Users\\rajit\\AppData\\Roaming\\nltk_data...\n",
      "[nltk_data]   Package stopwords is already up-to-date!\n"
     ]
    },
    {
     "data": {
      "text/plain": [
       "True"
      ]
     },
     "execution_count": 8,
     "metadata": {},
     "output_type": "execute_result"
    }
   ],
   "source": [
    "import nltk\n",
    "nltk.download('stopwords')"
   ]
  },
  {
   "cell_type": "code",
   "execution_count": 9,
   "id": "fe2b6e33",
   "metadata": {},
   "outputs": [
    {
     "data": {
      "text/html": [
       "<div>\n",
       "<style scoped>\n",
       "    .dataframe tbody tr th:only-of-type {\n",
       "        vertical-align: middle;\n",
       "    }\n",
       "\n",
       "    .dataframe tbody tr th {\n",
       "        vertical-align: top;\n",
       "    }\n",
       "\n",
       "    .dataframe thead th {\n",
       "        text-align: right;\n",
       "    }\n",
       "</style>\n",
       "<table border=\"1\" class=\"dataframe\">\n",
       "  <thead>\n",
       "    <tr style=\"text-align: right;\">\n",
       "      <th></th>\n",
       "      <th>label</th>\n",
       "      <th>text</th>\n",
       "    </tr>\n",
       "  </thead>\n",
       "  <tbody>\n",
       "    <tr>\n",
       "      <th>0</th>\n",
       "      <td>1.0</td>\n",
       "      <td>ounce feather bowl hummingbird opec moment ala...</td>\n",
       "    </tr>\n",
       "    <tr>\n",
       "      <th>1</th>\n",
       "      <td>1.0</td>\n",
       "      <td>wulvob get your medircations online qnb ikud v...</td>\n",
       "    </tr>\n",
       "    <tr>\n",
       "      <th>2</th>\n",
       "      <td>0.0</td>\n",
       "      <td>computer connection from cnn com wednesday es...</td>\n",
       "    </tr>\n",
       "    <tr>\n",
       "      <th>3</th>\n",
       "      <td>1.0</td>\n",
       "      <td>university degree obtain a prosperous future m...</td>\n",
       "    </tr>\n",
       "    <tr>\n",
       "      <th>4</th>\n",
       "      <td>0.0</td>\n",
       "      <td>thanks for all your answers guys i know i shou...</td>\n",
       "    </tr>\n",
       "    <tr>\n",
       "      <th>5</th>\n",
       "      <td>0.0</td>\n",
       "      <td>larry king live at escapenumber escapenumber p...</td>\n",
       "    </tr>\n",
       "    <tr>\n",
       "      <th>6</th>\n",
       "      <td>0.0</td>\n",
       "      <td>michael pobega wrote i'm not sure if it's the ...</td>\n",
       "    </tr>\n",
       "    <tr>\n",
       "      <th>7</th>\n",
       "      <td>0.0</td>\n",
       "      <td>hi i have this error tr sample escapenumber es...</td>\n",
       "    </tr>\n",
       "    <tr>\n",
       "      <th>8</th>\n",
       "      <td>1.0</td>\n",
       "      <td>works gateway world art explore tattooing full...</td>\n",
       "    </tr>\n",
       "    <tr>\n",
       "      <th>9</th>\n",
       "      <td>1.0</td>\n",
       "      <td>upon this account he is not only very cautious...</td>\n",
       "    </tr>\n",
       "  </tbody>\n",
       "</table>\n",
       "</div>"
      ],
      "text/plain": [
       "   label                                               text\n",
       "0    1.0  ounce feather bowl hummingbird opec moment ala...\n",
       "1    1.0  wulvob get your medircations online qnb ikud v...\n",
       "2    0.0   computer connection from cnn com wednesday es...\n",
       "3    1.0  university degree obtain a prosperous future m...\n",
       "4    0.0  thanks for all your answers guys i know i shou...\n",
       "5    0.0  larry king live at escapenumber escapenumber p...\n",
       "6    0.0  michael pobega wrote i'm not sure if it's the ...\n",
       "7    0.0  hi i have this error tr sample escapenumber es...\n",
       "8    1.0  works gateway world art explore tattooing full...\n",
       "9    1.0  upon this account he is not only very cautious..."
      ]
     },
     "execution_count": 9,
     "metadata": {},
     "output_type": "execute_result"
    }
   ],
   "source": [
    "df.head(10)"
   ]
  },
  {
   "cell_type": "code",
   "execution_count": 10,
   "id": "9ec4a30e",
   "metadata": {},
   "outputs": [
    {
     "data": {
      "text/html": [
       "<div>\n",
       "<style scoped>\n",
       "    .dataframe tbody tr th:only-of-type {\n",
       "        vertical-align: middle;\n",
       "    }\n",
       "\n",
       "    .dataframe tbody tr th {\n",
       "        vertical-align: top;\n",
       "    }\n",
       "\n",
       "    .dataframe thead th {\n",
       "        text-align: right;\n",
       "    }\n",
       "</style>\n",
       "<table border=\"1\" class=\"dataframe\">\n",
       "  <thead>\n",
       "    <tr style=\"text-align: right;\">\n",
       "      <th></th>\n",
       "      <th>label</th>\n",
       "      <th>text</th>\n",
       "    </tr>\n",
       "  </thead>\n",
       "  <tbody>\n",
       "    <tr>\n",
       "      <th>count</th>\n",
       "      <td>3499.000000</td>\n",
       "      <td>3497</td>\n",
       "    </tr>\n",
       "    <tr>\n",
       "      <th>unique</th>\n",
       "      <td>NaN</td>\n",
       "      <td>3497</td>\n",
       "    </tr>\n",
       "    <tr>\n",
       "      <th>top</th>\n",
       "      <td>NaN</td>\n",
       "      <td>ounce feather bowl hummingbird opec moment ala...</td>\n",
       "    </tr>\n",
       "    <tr>\n",
       "      <th>freq</th>\n",
       "      <td>NaN</td>\n",
       "      <td>1</td>\n",
       "    </tr>\n",
       "    <tr>\n",
       "      <th>mean</th>\n",
       "      <td>0.534724</td>\n",
       "      <td>NaN</td>\n",
       "    </tr>\n",
       "    <tr>\n",
       "      <th>std</th>\n",
       "      <td>0.498864</td>\n",
       "      <td>NaN</td>\n",
       "    </tr>\n",
       "    <tr>\n",
       "      <th>min</th>\n",
       "      <td>0.000000</td>\n",
       "      <td>NaN</td>\n",
       "    </tr>\n",
       "    <tr>\n",
       "      <th>25%</th>\n",
       "      <td>0.000000</td>\n",
       "      <td>NaN</td>\n",
       "    </tr>\n",
       "    <tr>\n",
       "      <th>50%</th>\n",
       "      <td>1.000000</td>\n",
       "      <td>NaN</td>\n",
       "    </tr>\n",
       "    <tr>\n",
       "      <th>75%</th>\n",
       "      <td>1.000000</td>\n",
       "      <td>NaN</td>\n",
       "    </tr>\n",
       "    <tr>\n",
       "      <th>max</th>\n",
       "      <td>1.000000</td>\n",
       "      <td>NaN</td>\n",
       "    </tr>\n",
       "  </tbody>\n",
       "</table>\n",
       "</div>"
      ],
      "text/plain": [
       "              label                                               text\n",
       "count   3499.000000                                               3497\n",
       "unique          NaN                                               3497\n",
       "top             NaN  ounce feather bowl hummingbird opec moment ala...\n",
       "freq            NaN                                                  1\n",
       "mean       0.534724                                                NaN\n",
       "std        0.498864                                                NaN\n",
       "min        0.000000                                                NaN\n",
       "25%        0.000000                                                NaN\n",
       "50%        1.000000                                                NaN\n",
       "75%        1.000000                                                NaN\n",
       "max        1.000000                                                NaN"
      ]
     },
     "execution_count": 10,
     "metadata": {},
     "output_type": "execute_result"
    }
   ],
   "source": [
    "df.describe(include='all')"
   ]
  },
  {
   "cell_type": "code",
   "execution_count": 11,
   "id": "b111e985",
   "metadata": {},
   "outputs": [
    {
     "name": "stdout",
     "output_type": "stream",
     "text": [
      "<class 'pandas.core.frame.DataFrame'>\n",
      "RangeIndex: 4999 entries, 0 to 4998\n",
      "Data columns (total 2 columns):\n",
      " #   Column  Non-Null Count  Dtype  \n",
      "---  ------  --------------  -----  \n",
      " 0   label   3499 non-null   float64\n",
      " 1   text    3497 non-null   object \n",
      "dtypes: float64(1), object(1)\n",
      "memory usage: 78.2+ KB\n"
     ]
    }
   ],
   "source": [
    "df.info()"
   ]
  },
  {
   "cell_type": "code",
   "execution_count": null,
   "id": "5975dae4",
   "metadata": {},
   "outputs": [],
   "source": []
  },
  {
   "cell_type": "code",
   "execution_count": 12,
   "id": "4231d346",
   "metadata": {},
   "outputs": [
    {
     "data": {
      "text/html": [
       "<div>\n",
       "<style scoped>\n",
       "    .dataframe tbody tr th:only-of-type {\n",
       "        vertical-align: middle;\n",
       "    }\n",
       "\n",
       "    .dataframe tbody tr th {\n",
       "        vertical-align: top;\n",
       "    }\n",
       "\n",
       "    .dataframe thead tr th {\n",
       "        text-align: left;\n",
       "    }\n",
       "\n",
       "    .dataframe thead tr:last-of-type th {\n",
       "        text-align: right;\n",
       "    }\n",
       "</style>\n",
       "<table border=\"1\" class=\"dataframe\">\n",
       "  <thead>\n",
       "    <tr>\n",
       "      <th></th>\n",
       "      <th colspan=\"8\" halign=\"left\">label</th>\n",
       "    </tr>\n",
       "    <tr>\n",
       "      <th></th>\n",
       "      <th>count</th>\n",
       "      <th>mean</th>\n",
       "      <th>std</th>\n",
       "      <th>min</th>\n",
       "      <th>25%</th>\n",
       "      <th>50%</th>\n",
       "      <th>75%</th>\n",
       "      <th>max</th>\n",
       "    </tr>\n",
       "    <tr>\n",
       "      <th>text</th>\n",
       "      <th></th>\n",
       "      <th></th>\n",
       "      <th></th>\n",
       "      <th></th>\n",
       "      <th></th>\n",
       "      <th></th>\n",
       "      <th></th>\n",
       "      <th></th>\n",
       "    </tr>\n",
       "  </thead>\n",
       "  <tbody>\n",
       "    <tr>\n",
       "      <th>\\\\ let employers find you on job banks job search engines while more than escapenumber of today's employers rely on the internet to fill their job openings most hiring managers search resumes on their favorite job banks before posting a job opportunity they cherry pick the right resumes to avoid an onslaught of unqualified job applications with our online resume posting services employers contact you asking for an employment application or to set up a job interview multiply your employment opportunities http lists lexico com t escapenumber escapenumber escapenumber escapenumber \\\\ word of the day for thursday july escapenumber escapenumber heterodox \\\\het uh ruh doks\\\\ adjective escapenumber contrary to or differing from some acknowledged standard especially in church doctrine or dogma unorthodox escapenumber holding unorthodox opinions or doctrines they fight with members of other faiths who seem to challenge their claim to a monopoly of absolute truth they also persecute their co religionists for interpreting a tradition differently or for holding heterodox beliefs karen armstrong islam a short history most of the kurds were sunni muslims but perhaps a quarter or a third adhered to heterodox varieties of islam that preserved traces of earlier religions susan meisalis kurdistan in the shadow of history moreover heterodox behaviour in the form of eccentric chess moves was even encouraged if it led to good results jon speelman chess independent october escapenumber escapenumber mr buckley is an american exotic of the far right who wins some sympathy for his frankness and boldness since in this sorry world the heterodox are always laughed at whether right or left richard l strout all that is out of joint and needs setting right new york times april escapenumber escapenumber heterodox comes from greek heterodoxos of another opinion from hetero other doxa opinion from dokein to believe dictionary com entry and pronunciation for heterodox note audio pronunciation available only to premium members to learn more about the benefits of premium membership visit our site yesterday's word previous words help \\\\ let employers find you on job banks job search engines while more than escapenumber of today's employers rely on the internet to fill their job openings most hiring managers search resumes on their favorite job banks before posting a job opportunity they cherry pick the right resumes to avoid an onslaught of unqualified job applications with our online resume posting services employers contact you asking for an employment application or to set up a job interview multiply your employment opportunities http lists lexico com t escapenumber escapenumber escapenumber escapenumber \\\\ what's another word for thesaurus enrich your vocabulary at thesaurus com http www thesaurus com you are currently subscribed to dictionary com word of the day as ktwarwic speedy uwaterloo ca to subscribe to the list by email send a blank message to join wordoftheday lists lexico com to unsubscribe via email send a blank message to leave escapenumber escapenumberk lists lexico com subscriptions can be turned on and off from the web at http www dictionary com wordoftheday list dictionary com word of the day http www dictionary com wordoftheday c escapenumber by lexico publishing group llc escapenumber pine ave escapenumber long beach ca escapenumber</th>\n",
       "      <td>1.0</td>\n",
       "      <td>0.0</td>\n",
       "      <td>NaN</td>\n",
       "      <td>0.0</td>\n",
       "      <td>0.0</td>\n",
       "      <td>0.0</td>\n",
       "      <td>0.0</td>\n",
       "      <td>0.0</td>\n",
       "    </tr>\n",
       "    <tr>\n",
       "      <th>a home jobsite the p ower marketing association online e mail us submit news release font size escapenumberd escapenumber the power report upcoming escapenumber conferences power d elivery escapenumber planning i getting the basics right atlanta ga april escapenumber escapenumber escapenumber outsour cing escapenumber for utilities chicago il april escapenumber escapenumber escapenumber marketi ng escapenumber green power chicago il april escapenumber escapenumber escapenumber fundame ntals escapenumber of distribution engineering atlanta ga april escapenumber escapenumber escapenumber sox escapenumber for escapenumber electric gas and water utilities an introduction to escapenumber sarbanes oxley chicago il april escapenumber escapenumber escapenumber escapenumberrd annual escapenumber renewable portfolio standards westminster co april escapenumber escapenumber escapenumber improving escapenumber utility performance and compliance through business process escapenumber management and optimization bpm bpo sacramento ca april escapenumber escapenumber escapenumber maximizing value escapenumber of genco assets in caiso mrtu market sacramento ca april escapenumber escapenumber escapenumber a water escapenumber constrained future how producers can minimize impacts in the west san diego ca may escapenumber escapenumber escapenumber recognizing and escapenumber recovering energy theft nashville tn may escapenumber escapenumber escapenumber cost effective escapenumber transmission technology nashville tn may escapenumber escapenumber escapenumber western escapenumber renewable power development summit san francisco ca may escapenumber escapenumber escapenumber solar power project finance investment summit font color escapenumberd escapenumberff san diego ca may escapenumber escapenumber escapenumber gas mar t escapenumber escapenumber chicago il may escapenumber escapenumber escapenumber in depth escapenumber introduction to the natural gas industry dallas tx may escapenumber escapenumber escapenumber natural gas escapenumber transactions trading and origination for non traders dallas tx may escapenumber escapenumber escapenumber developing and escapenumber launching new products and services for utilities dallas tx may escapenumber escapenumber escapenumber performance escapenumber benchmarking for energy utilities seattle wa may escapenumber escapenumber escapenumber pandemic escapenumber preparedness for utilities seattle wa may escapenumber escapenumber escapenumber br br br br br br br br br br br carbon finance investment summit may escapenumber escapenumber escapenumber new york new york for conference brochure click h ere click o n headline to view story industry publications natural gas intelligence apr escapenumber escapenumber natural gas intelligence summudles for ap r escapenumber escapenumber apr escapenumber escapenumber escapelong keters industry publications first enercast featured articles for april escapenumber escapenumber first enercast featured articles for apri l escapenumber escapenumber forecast analysis top stories financial releases weather stories apr escapenumber escapenumber escapelong keters industry publications new sheriff on the grid energybiz insider apr escapenumber escapenumber energybiz insider apr escapenumber escapenumber the na tional electric reliability council is important now that the federal en ergy regulatory commission named it the electric reliability organization the standards that it now sets with ferc's approval are mandatory not voluntary apr escapenumber escapenumber escapelong keters industry publications big fish moves to bigger pond direct hires cerniglia ghi marke ts com apr escapenumber escapenumber ghi markets com apr escapenumber escapenumber direct en ergy recently hired ronald cerniglia as its leading advocate for competit ive markets it escapenumber s a national job with a national focus apr escapenumber escapenumber escapelong keters industry publications national news pacific gas and electric company seeks to increase renewable ener gy resources for its customers san francisco march escapenumber prnewswire first call pacific gas and electric company announced today that it has iss ued a request for offers rfo to solicit renewable energy supply on beha lf of its five million electric customers this marks the company's fifth renewable energy solicitation pursuant to the state of california renewa ble portfolio standard rps program apr escapenumber escapenumber aescapenumberthe ener gy daily constellation energy commodities group to acquire power contracts for georgia electric cooperatives baltimore march escapenumber prnewswire firstcall constellation energy nyse ceg today announced that its wholesale origination and risk management arm constellation energy commodities gro up inc signed agreements related to the acquisition of select power an d gas contracts of progress ventures inc a non regulated subsidiary of progress energy under the agreement progress ventures will apr escapenumber escapenumber aescapenumberthe ener gy daily power plants ship out energy the reasons i've heard for this new power plant are the same reasons given for the other power plants that have be en built in this region they have all been in the name of addressing the growing energy needs of mohave county the newly proposed northern arizo na energy llc project is designed to address a particular energy need th at of peak demand i support generation in mohave county both apr escapenumber escapenumber escapelong daily miner statement by kkr and tpg on txu statement about plant shutdowns a austin april escapenumber prnewswire kohlberg kra vis roberts co and pacific group investors in the proposed buyou t of txu corp by texas energy future holdings limited partnership tef released the following statement today txu's april escapenumbernd letter to the p ublic utility commission puc referencing potential power plant shutdown s was not shared with the investor group in advance and we strongly td apr escapenumber escapenumber escapelong escapenumber smart grid vision meets distribution utility reality by david moore and don mcdonnell the term smart grid is hyperbole that seems to imply a future when the grid runs itself absent human intervention while this is clearly not the case the re is a hard reality emerging the smart grid concept in many ways sugges ts that utility companies executives regulators and elected officials a t all levels of government will indeed face a brutal pass fail apr escapenumber escapenumber escapelong automation engineering t d nymex gas is steady amid expectations for stronger demand during cold snap nymex natural gas is steady as cold incre ases heating demand by geoffrey smith april escapenumber bloomberg natural gas was little changed in new york after rising earlier as a wave of colder t han normal weather boosted heating needs across the u s demand for natu ral gas the country's most widely used heating fuel typically ebbs at t his time of the year as higher temperatures curb demand apr escapenumber escapenumber escapelong g georgia power aims for energy increase mudletta daily journal staff writeratlant a georgia power has announced it will submit a request to the state pub lic service commission on april escapenumber for three contracts for escapenumber escapenumber megawatt s of energy beginning in summer escapenumber expiring contracts with energy provi ders have led the utility to seek additional power from three new locatio ns beginning in june escapenumber the company announced plans to contract apr escapenumber escapenumber escapelong daily journal txu issues apology on plant closing issue dallas april escapenumber prnewswire firstcall to day txu corp nyse txu issued the following statements from txu corp ceo john wilder and michael mccall ceo of txu wholesale mccall 'txu a pologizes for creating any perception of threatening to shut down power p lants in texas txu is not permitted to unilaterally shut down power plan ts such a step can only be done after a review by ercot apr escapenumber escapenumber escapelong escapenumber txu corp subsidiaries to refinance portion of existing short ter m debt dallas march escapenumber prnewswire firstcall txu corp nyse txu announced today that its subsidiaries txu energy company llc the parent company of txu power txu wholesale and txu energ y and txu electric delivery company plan to issue an aggregate escapenumber escapenumber bill ion of senior unsecured floating rate notes maturing by september escapenumber t he notes are expected to include escapenumber billion principal amount of apr escapenumber escapenumber aescapenumberthe ener gy daily new deadline approaches for back energy payments those who fell behind on their energy bil ls during the high cost winter months have one more week to make arrangem ents before utility companies can pull the plug on their service the pub lic service commission of wisconsin issued a reminder last week on the up coming deadline and urged consumers with past due bills to make payment arrangements with their utility providers apr escapenumber escapenumber aescapenumberpost cre scent spectra to parcel assets as ipo in latest mlp a midstream energy player recently spun o ff from duke energy corp is gearing up to siphon part of its assets into a master limited partnership natural gas supplier spectra energy corp will break out a key chunk of its interstate natural gas pipeline and sto rage system into spectra energy partners lp and will offer at least escapenumber escapenumber million units in an initial public offering apr escapenumber escapenumber aescapenumberbiz jour nals mirant exploring sale of company reprints text new york reut ers power company mirant corp mir n quote profile research said on monday it was exploring strategic options including a sale of the com pany sending its shares up escapenumber percent mirant which last year dropped it s unsolicited bid to buy rival nrg energy inc nrg n quote profile re search said it did not expect the options to include acquiring apr escapenumber escapenumber escapelong br beware the ides of march regulators unsheath their daggers by tanya bodell despite more than energy sales have traditionally been regulated by state public utility commissio ns and the federal energy regulatory commission although ferc has had lo ng standing power to audit company books and records at its discretion i n practice investigations were initiated only upon receipt of a formal c omplaint in the last few years however ferc has issued new apr escapenumber escapenumber escapelong automation engineering t d energy firm alters focus eyes big boost in revenue rollcast rea dy to take advantage of demand for alternative energy plants a shift in strategy for a local developer of independent power plants could open the door to a surge of revenue gr owth charlotte based rollcast energy inc was founded in escapenumber by a forme r duke energy corp executive to build and buy power plants if you are a lready a charlotte business journal subscriber please create or sign into your bizjournals com account to link your valid print apr escapenumber escapenumber aescapenumberbiz jour nals nation's chains recognize outstanding electric company customer s ervice the nation's multi site businesses hotel s restaurants supermarkets retail convenience stores health care fac ilities and the federal government today acknowledged the electric util ities that provided them with the best overall customer service last year in the escapenumberth annual edison electric institute eei customer service awar ds program the awards were presented here during eei spring apr escapenumber escapenumber aescapenumberthe ener gy daily brunswick prepares nuclear fuel site site preparation at the brunswick nuclear plant near southport has started for the outdoor storage of spent nuclea r fuel actual storage of the spent fuel in garage sized 'dry cask' bunker s made of steel and concrete will not begin until escapenumber 'we have begun som e on site work and we are on track we have started to clear the area and we are starting to do some soil remediation studies to determine apr escapenumber escapenumber escapelong on star assembly passes wind power bill a bill to reduce environmental reviews re quired of wind turbine proposals in maryland has breezed through the gene ral assembly a move lauded by industry leaders pushing for renewable for ms of energy in the state the house of delegates and senate passed ident ical versions of the bill by overwhelming margins friday gov martin o'm alley is reviewing the proposed legislation and is inclined to apr escapenumber escapenumber escapelong e sun md lawmakers approve wind power measure associated press writer annapolis md a p maryland lawmakers agreed friday on a measure that will make it eas ier to build large wind power projects after the senate voted escapenumber escapenumber to ag ree to a similar bill passed in the house with amendments the measure wo uld allow developers to build wind farms that generate electricity for th e wholesale market by eliminating environmental reviews looking at apr escapenumber escapenumber escapelong on gazette emissions suit gets first test burlington vt a week after the u s supreme court said vehicle carbon dioxide emissions can be regulated like other pollutants an effort by several states including connecticit to do that is about to get its first court test california long has been t he pacesetter in regulating car emissions setting tougher limits than th ose imposed by the federal government apr escapenumber escapenumber escapelong courant zeroing out carbon emission in woodstock michael esposito rides his bike all the t ime from cold nights when leaving his old job at a natural food store to warm days while passing shops selling yoga clothes and soy drinks so th e escapenumber year old is excited about a new plan to reduce this countercultural haven's net carbon dioxide emissions to zero within a decade an ambitiou s attempt to erase the town's 'carbon footprint ' the goal might apr escapenumber escapenumber aescapenumbersan fran cisco chronicle vt bid to curb emissions heads to court exhaust pipes are seen on a new ford pick up in montpelier vt thursday april escapenumber escapenumber a week after the u s sup reme court said vehicle carbon dioxide emissions can be regulated like ot her pollutants an effort by several states to do that is about to get it s first court test trial is set to begin tuesday in u s district court for vermont in a suit by auto makers trying to block california apr escapenumber escapenumber escapelong chronicle are ethanol plants a good idea escapenumberf is the proposed proliferation of ethanol plants good for indiana and the nation escapenumberf it's good for the farmers the construction workers who build the plants and the people eventually emplo yed by the plants even though the facilities are not major employers th ree bio fuel plants have been proposed for posey county as well as plant s in spencer and pike counties but there is a down side apr escapenumber escapenumber escapelong le courier chron escapenumber selling people on solar cells greener pastures fin ally sunpower had a great idea and strategy but cash was running short until it received a escapenumber escapenumber personal check from someone who saw the ligh t if silicon valley had a favorite color th ese days it would be green to represent money and the best new way to ma ke it by creating clean energy to stave off global warming as its name implies the san jose company makes cells that turn sunlight into electri city sunpower which is majority owned by cypress semiconductor corp w ent public in november escapenumber in time to capitalize on the greening apr escapenumber escapenumber aescapenumbersan fran cisco chronicle virginia's electric power play virginia's recently enacted electricity l egislation drew widespread criticism because it increases electric rates gives utilities some pretty hefty profit opportunities and flew through the legislature with no hearings on top of all that the law would end v irginia's experiment with retail electricity competition for all but the very largest customers electricity markets have changed in apr escapenumber escapenumber escapelong on times dced official says energy independence strategy means good things for pa businesses consumers strategy would cut costs create jobs st rengthen state's clean energy production industry lancaster pa apr il escapenumber prnewswire usnewswire governor edward g rendell's energy indep endence strategy will save consumers escapenumber billion over the next escapenumber years promote pennsylvania's energy independence and create escapenumber escapenumber new jobs by rapidly expanding the commonwealth's apr escapenumber escapenumber aescapenumberpr newsw ire heliopower solar selects artichoke creative as agency of record a heliopower a leading provider of solar p ower solutions has selected artichoke creative an encinitas california based integrated advertising agency to handle all of its marketing and p romotion work artichoke will be providing heliopower a variety of market ing services ranging from digital technologies such as email marketing b anner and web design along with traditional mediums including apr escapenumber escapenumber aescapenumberpr newsw ire the pennsylvania nanomaterials commercialization center funds ple xtronics' plexcore pv development for organic solar cells plextronics a world leader in developing and delivering active layer technology for electronic devices announced it has been awarded a escapenumber escapenumber grant from the pennsylvania nanomaterials commercialization center the center this initiative will focus on the continued development of plexcore tm pv active layer technology for org anic solar cells plexcore pv is a new generation of polymer based apr escapenumber escapenumber aescapenumberpr newsw ire investors seek to revive enron class action asked the u s supreme court for help in their effort to recoup billions they lost in the once mighty energy compa ny's collapse shareholders and investors filed a motion asking the court to review an appeals court's ruling that halted their class action lawsui t against investment banks and firms there is no timetable for the suprem e court to decide whether to consider the motion the escapenumber billion apr escapenumber escapenumber aescapenumbermsnbc woodstock new york takes on global warming woodstock new york has plan to erase th e town's 'carbon footprint' by escapenumber residents can keep cars if they produ ce enough clean power to offset emissions woodstock is best known for the escapenumber rock concert that borrowed its name woodstock new york ap mic hael esposito rides his bike all the time from cold nights when leavin g his old job at a natural food store to warm days while passing apr escapenumber escapenumber aescapenumbercnn br click here for more natio nal news international news lng too perilous for offshore site the southern california coast is one of o ur greatest gifts from mother nature from surfing and boating to just ha nging out at the beach the coast provides recreation and respite for fam ilies and draws visitors from every part of the world fueling the regio n's economy now our irreplaceable southern california coast may be at ri sk the world's largest mining company bhp billiton has proposed apr escapenumber escapenumber aescapenumberlos ange les daily news tehran ripening its long alliance with damascus hugh macleod chronicle foreign service d el icio us digg technorati reddit slashdot fark newsvine google bookmarks georgia default verdana times new roman arial escapenumber escapenumber escapenumber escapenumber pdt raqqa syria the high profile visit to damascus last week by house speaker n ancy pelosi at the head of a delegation of lawmakers enraged the bush adm inistration which considers the government of syrian president apr escapenumber escapenumber aescapenumbersan fran cisco chronicle latest report urges world to adapt latest global warming report urges world to begin adapting the poor may be hit the hardest by climate changes ipc c report says calls for stronger action by staff writer of the christi an science monitor global warming is having a measurable effect on earth' s climate including agriculture freshwater resources and plants and an imals on both sea and land apr escapenumber escapenumber escapelong n science monitor bhp billiton responds to local newspapers' fact errors on cabrill o port recent newspaper articles and editorials in southern california newspapers are both premature and factually inaccu rate according to patrick cassidy bhp billiton's director of public aff airs the california state lands commission will meet today in oxnard to consider certification of the final eir on cabrillo port a floating natu ral gas facility planned escapenumber miles off the ventura county coast apr escapenumber escapenumber aescapenumberpr newsw ire latest global warming report urges world to begin adapting latest global warming report urges world to begin adapting the poor may be hit the hardest by climate changes ipc c report says calls for stronger action by peter n spotts staff write r of the christian science monitor global warming is having a measurable effect on earth's climate including agriculture freshwater resources a nd plants and animals on both sea and land apr escapenumber escapenumber escapelong n science monitor click here f or more international news table power report energy news sections national international employment weather copyright escapenumber powermarketers com all rights reserved a href escapenumberd'http cmgr netcontentinc net chandler proxy aspx escapenumberflid escapelong fescapenumber bescapenumbera escapenumber escapenumberf escapelong' questions or com ments legal notices</th>\n",
       "      <td>1.0</td>\n",
       "      <td>0.0</td>\n",
       "      <td>NaN</td>\n",
       "      <td>0.0</td>\n",
       "      <td>0.0</td>\n",
       "      <td>0.0</td>\n",
       "      <td>0.0</td>\n",
       "      <td>0.0</td>\n",
       "    </tr>\n",
       "    <tr>\n",
       "      <th>a home jobsite the p ower marketing association online e mail us submit news release font size escapenumberd escapenumber the power report upcoming escapenumber conferences power d elivery escapenumber planning i getting the basics right atlanta ga april escapenumber escapenumber escapenumber outsour cing escapenumber for utilities chicago il april escapenumber escapenumber escapenumber marketi ng escapenumber green power chicago il april escapenumber escapenumber escapenumber fundame ntals escapenumber of distribution engineering atlanta ga april escapenumber escapenumber escapenumber sox escapenumber for escapenumber electric gas and water utilities an introduction to escapenumber sarbanes oxley chicago il april escapenumber escapenumber escapenumber escapenumberrd annual escapenumber renewable portfolio standards westminster co april escapenumber escapenumber escapenumber improving escapenumber utility performance and compliance through business process escapenumber management and optimization bpm bpo sacramento ca april escapenumber escapenumber escapenumber maximizing value escapenumber of genco assets in caiso mrtu market sacramento ca april escapenumber escapenumber escapenumber a water escapenumber constrained future how producers can minimize impacts in the west san diego ca may escapenumber escapenumber escapenumber recognizing and escapenumber recovering energy theft nashville tn may escapenumber escapenumber escapenumber cost effective escapenumber transmission technology nashville tn may escapenumber escapenumber escapenumber western escapenumber renewable power development summit san francisco ca may escapenumber escapenumber escapenumber solar power project finance investment summit font color escapenumberd escapenumberff san diego ca may escapenumber escapenumber escapenumber gas mar t escapenumber escapenumber chicago il may escapenumber escapenumber escapenumber in depth escapenumber introduction to the natural gas industry dallas tx may escapenumber escapenumber escapenumber natural gas escapenumber transactions trading and origination for non traders dallas tx may escapenumber escapenumber escapenumber developing and escapenumber launching new products and services for utilities dallas tx may escapenumber escapenumber escapenumber performance escapenumber benchmarking for energy utilities seattle wa may escapenumber escapenumber escapenumber pandemic escapenumber preparedness for utilities seattle wa may escapenumber escapenumber escapenumber br br br br br br br br br br br carbon finance investment summit may escapenumber escapenumber escapenumber new york new york for conference brochure click h ere click o n headline to view story industry publications natural gas intelligence apr escapenumber escapenumber natural gas intelligence summudles for ap r escapenumber escapenumber apr escapenumber escapenumber escapelong rketers industry publications first enercast featured articles for april escapenumber escapenumber first enercast featured articles for apri l escapenumber escapenumber forecast analysis top stories financial releases weather stories apr escapenumber escapenumber escapelong rketers industry publications this week at eia volume escapenumber issue escapenumber april escapenumber april escapenumber escapenumber eia apr escapenumber escapenumber this week at eia is a list summarizing and providing urls for every energy information admin istration eia product released during this week apr escapenumber escapenumber escapelong rketers industry publications national news txu energy customers and employees contribute escapenumber million to help texans in need of bill payment ass txu energy is pleased to announce that in an effort to aid those most in need throughout escapenumber txu energy will con tribute escapenumber million in addition to donations from customers and employees to help local residents with bill payment assistance 'hardships like a job loss medical illness or death in the family can create unexpected financial difficulties for anyone apr escapenumber escapenumber escapelong t alert entergy and consumers energy announce closing of palisades nuclea r energy plant transaction new york april escapenumber prnewswire firstcall entergy corporation and consumers energy the principal subsidiary of cms energy announced today the completion of the previously announced purchase by entergy of the escapenumber megawatt palisades nuclear plant near sou th haven michigan for escapenumber million as part of the purchase entergy wil l sell escapenumber percent of the plant's output up to its current escapenumber apr escapenumber escapenumber escapelong t alert naruc lauds doe energy efficiency report cites states' critical role washington the national association of regulatory utility commissioners lauded the energy department's new repor t on state and regional energy efficiency policies for recognizing the im portant role state regulators have in developing energy efficiency progra ms naruc and the national association of state energy officials through the national council on electricity policy contributed heavily apr escapenumber escapenumber escapelong cnet oneok and oneok partners to present at aga financial forum tulsa okla april escapenumber prnewswire firstc all oneok inc oke and oneok partners l p oks will present at the american gas association financial forum on monday april escapenumber escapenumber in or lando fla at escapenumber escapenumber a m eastern daylight time escapenumber escapenumber a m central daylig ht time john w gibson chief executive officer of oneok and president and ceo of oneok partners will present apr escapenumber escapenumber aescapenumberpr news wire via msn money southern natural gas company announces expiration and final resul ts of cash tender offer for its escapenumber escapenumber notes due october escapenumber escapenumber el paso corporation news houston april escapenumber escapenumber prnewswire firstcall southern natural gas company sng a wholly owned subsidiary of el paso corporation nyse ep announced the expiration a nd final results of its previously announced cash tender offer to purchas e any and all of its outstanding escapenumber escapenumber notes due october escapenumber escapenumber cusip n o escapelong the tender offer expired at escapenumber escapenumber midnight new apr escapenumber escapenumber escapelong escapenumber dte energy chief to testify about utility regulations apr escapenumber dte energy chairman and chief ex ecutive officer anthony earley jr will testified before the michigan hou se of representative's energy technology committee wednesday mornin g about changes to the state's utility regulatory environment earley is expected to call for the repeal of the electric choice provisions of mic higan public act escapenumber which was adopted in escapenumber apr escapenumber escapenumber aescapenumberknight ridder tribune business news pacificorp proposes calif energy crisis refunds to pay escapenumber million for refund claims made by three california utilities and four california state agencies as a re sult of the escapenumber escapenumber energy crisis in the u s west pacificorp said th e utility pacificorp is a unit of mid american holdings co which is own ed by berkshire hathaway inc brka n brkb n pacificorp i s based in portland oregon and most of its electricity customers are in utah apr escapenumber escapenumber escapelong mich nuclear power plant sale completed covert township mich ap the palisad es nuclear plant officially has a new owner entergy corp a new orleans based utility holding company has completed its escapenumber million purchase o f the plant from consumers energy co a subsidiary of jackson based cms energy corp the two companies announced wednesday the nuclear regulato ry commission said friday it had approved the transfer to entergy apr escapenumber escapenumber escapelong achrichten de report northwest power system can handle more wind energy but m ore work is needed portland or wind power projects are be ing rapidly developed throughout the northwest and the region's existing power system can most likely accommodate the escapenumber escapenumber megawatts of wind ene rgy anticipated by escapenumber or perhaps much sooner given the current pace o f development however there will be costs to incorporate these new wind sources as well as a need for additional investments in apr escapenumber escapenumber escapelong cnet washington is escapenumberth among wind powered states apr escapenumber washington has leapfrogged into fifth place among the country's most wind powered states thanks to two wi nd farms that came online in escapenumber according to an industry organization the american wind energy association in washington d c moved washing ton ahead of oklahoma in its assessment of wind power capacity after wash ington added several hundred new megawatts of energy from the big apr escapenumber escapenumber aescapenumberknight ridder tribune business news nuclear storage fees at monticello plant revisited by senate comm ittee grumbling from local lawmakers about prop osed xcel energy payments for dry cask storage at the monticello nuclear power plant has one senate committee revisiting the nuclear power issue the senate committee on energy utilities technology and communications temporarily laid aside legislation that would have xcel paying escapenumber escapenumber e ach year for each dry cask containing spent fuel at monticello apr escapenumber escapenumber escapelong n source xcel remains atop wind power rankings xcel energy inc remains the largest wind power provider in the united states according to a wind energy group the american wind energy association released its annual rankings of wind en ergy development in the united states wednesday and rated minneapolis ba sed xcel energy nyse xel as the largest provider of wind power in the u s for the second consecutive year apr escapenumber escapenumber aescapenumbereast ba y business journal ibm hopes new utility coalition can boost grid computing ibm and centerpoint energy houston ele ctric llc today unveiled plans to create a coalition of energy firms that would use web escapenumber escapenumber tools to share information about major projects ibm s aid that it hopes the intelligent utility network iun coalition effort will help boost the adoption of grid computing within the energy sector ibm is working with centerpoint on a escapenumber million five year apr escapenumber escapenumber escapelong rworld long island association offers conditional support for gas termin al escapenumber escapenumber pm edt long island's largest busines s group announced yesterday its conditional support for the bitterly cont roversial floating liquid natural gas terminal proposed for midway betwee n the suffolk county and connecticut coastlines the long island associat ion in a statement listed these conditions for its support of the broad water energy project in long island sound 'all environmental apr escapenumber escapenumber escapelong lia offers broadwater iffy support long island's largest business group anno unced yesterday its conditional support for the bitterly controversial fl oating liquid natural gas terminal proposed for midway between the suffol k county and connecticut coastlines the long island association in a st atement listed these conditions for its support of the broadwater energy project in long island sound 'all environmental safety and apr escapenumber escapenumber escapelong new solar panel design traps more light atlanta sunlight has never really caugh t fire as a power source mostly because generating electricity with sola r cells is more expensive and less efficient than some conventional sourc es but a new solar panel unveiled this month by the georgia tech researc h institute hopes to brighten the future of the energy source the differ ence is in the design traditional solar panels are often flat and apr escapenumber escapenumber aescapenumberboston herald txu energy customers and employees contribute escapenumber million to help texans in need of bill payment assistance txu energy is pleased to announce that in an effort to aid those most in need throughout escapenumber txu energy will con tribute escapenumber million in addition to donations from customers and employees to help local residents with bill payment assistance 'hardships like a job loss medical illness or death in the family can create unexpected financial difficulties for anyone apr escapenumber escapenumber aescapenumberpr news wire entergy and consumers energy announce closing of palisades nuclea r energy plant transaction new york april escapenumber prnewswire firstcall entergy corporation nyse etr and consumers energy the principal s ubsidiary of cms energy nyse cms announced today the completion of th e previously announced purchase by entergy of the escapenumber megawatt palisades nuclear plant near south haven michigan for escapenumber million as part of th e purchase entergy will sell escapenumber percent of the plant's output apr escapenumber escapenumber aescapenumberpr news wire txu infrastrux suspend joint venture dallas april escapenumber prnewswire firstcall txu corp nyse txu txu electric delivery company a subsidiary of t xu corp and infrastrux group a national provider of utility related co nstruction and maintenance services announced today that they have mutua lly agreed to suspend their agreements relating to the infrastrux energy services group lp ies joint venture apr escapenumber escapenumber aescapenumberpr news wire spescom software now operating as enterprise informatics spescom software inc otcbb spco annou nced spescom software inc otcbb spco announced today that it is now doing business as enterprise informatics the official name change to ent erprise informatics inc will occur after the shareholder meeting on apri l escapenumber escapenumber along with the name change the company has established a new identity refined its market position and clarified its market apr escapenumber escapenumber escapelong t wire fitch rates mp environmental funding llc series a new york business wire fitch ratings rates mp environmental funding llc senior secured sinking fund environme ntal control bonds series a as follows escapenumber escapenumber escapenumber escapenumber escapenumber tranche a escapenumber 'aaa' escapenumber escapenumber escapenumber escapenumber escapenumber tranche a escapenumber 'aaa' escapenumber escapenumber escapenumber escapenumber escapenumber tranche a escapenumber 'aaa' escapenumber escapenumber escapenumber escapenumber escapenumber tranche a escapenumber 'aaa' the collatera l securing the bonds consists primarily of environmental control apr escapenumber escapenumber escapelong s wire competitive power ventures to sell cpv wind competitive power ventures inc 'cpv' today announced that it has reached agreement for the sale of cpv wind ve ntures llc 'cpv wind' to iberdrola renewable energies usa ltd 'iber drola' the transaction includes the sale of all interests in cpv wind t o iberdrola and is expected to close by early may founded in escapenumber cpv w ind is a joint venture of cpv and affiliates of arclight capital apr escapenumber escapenumber aescapenumberpr news wire naruc lauds doe energy efficiency report cites states' critical role washington the national association of regulatory utility commissioners lauded the energy department's new repor t on state and regional energy efficiency policies for recognizing the im portant role state regulators have in developing energy efficiency progra ms naruc and the national association of state energy officials through the national council on electricity policy contributed heavily apr escapenumber escapenumber aescapenumberpower o nline report northwest power system can handle more wind energy but m ore work is needed portland or wind power projects are be ing rapidly developed throughout the northwest and the region's existing power system can most likely accommodate the escapenumber escapenumber megawatts of wind ene rgy anticipated by escapenumber or perhaps much sooner given the current pace o f development however there will be costs to incorporate these new wind sources as well as a need for additional investments in apr escapenumber escapenumber aescapenumberpower o nline new solar panel design traps more light ap sunlight has never really caught fire as a power source mostly because generating electricity with solar cells is more expensive and less efficient than some conventional sources but a new solar panel unveiled this month by the georgia tech research institute hopes to brighten the future of the energy source the differen ce is in the design traditional solar panels are often flat and apr escapenumber escapenumber escapelong com transcanada nears decision on two planned power lines in us west a transcanada is close to having agreements in place with enough us southwest utilities to move ahead with detailed permitting and siting for two escapenumber kv power lines that would run from mont ana and wyoming to southern nevada a transcanada official told nevada re gulators wednesday 'it looks like we're approaching the tipping point' i n securing commitments from utilities to back the two lines in apr escapenumber escapenumber aescapenumberplatts br hydro plans to keep up with demand in order to fill a growing electricity su pply demand gap b c hydro will be looking at a host of new solutions to conserve more power build more power generating stations and reach out to smaller communities to help them meet their own power needs we'll co ntinue to see total energy usage rise said bob gammer bc hydro but i f you were to imagine a chart with a trend line indicator of apr escapenumber escapenumber aescapenumbercanada com click here for more natio nal news international news iberdrola begins construction of two wind farms in france spanish utility iberdrola has started t he construction of two wind farms in france and has announced plans to b uild four more in the region before the end of escapenumber the plans are part o f iberdrola's aim to have escapenumber mw of renewable energy projects operationa l in escapenumber of which escapenumber mw will be located abroad the two farms current ly being constructed are the courcelles wind farm located in aude apr escapenumber escapenumber aescapenumberpower e ngineering british energy lines up legal action against credit suisse uk utility british energy has started l egal procedures against swiss financial services group credit suisse rega rding the latter's stake in british energy's eggborough coal fired power station according to a report by forbes in escapenumber british energy gave th ose banks that had acquired bonds in the eggborough facility the option t o acquire the plant in escapenumber apr escapenumber escapenumber aescapenumberpower e ngineering dakshidin corporation successfully installs windmill for u s dis tributor dakshidin corporation pinksheets dksc has dakshidin corporation pinksheets dksc has completed the successfu l installation of a restec windmill in prescott valley arizona this win dmill was purchased by restec's first u s distributor restec internatio nal inc is a wholly owned subsidiary of dakshidin corporation restec is selecting distributors for the windmills over the next few apr escapenumber escapenumber escapelong t wire new oriental energy amp chemical corporation provides updat e on dme production facility expansion new oriental energy amp chemical co rp new new oriental energy amp chemical corp new oriental ot cbb noec a specialty chemical and emerging alternative fuel manufactur er in the people's republic of china prc today announced an update on its planned expansion of its existing dimethyl ether dme manufacturing facility in november escapenumber new oriental began the expansion of its td apr escapenumber escapenumber escapelong t wire skanska to construct propane plant in brazil for usd escapenumber escapenumber m abou t sek escapenumber m stockholm sweden business wire skans ka sto skab has secured a contract to build a propane production unit a t presidente getlio vargas refinery repar in brazil the total contract value is usd escapenumber m skanskas share is escapenumber percent usd escapenumber escapenumber m or about s ek escapenumber m which will be included in order bookings for the second quarter of escapenumber the customer is petrobras the state owned brazilian oil apr escapenumber escapenumber escapelong s wire pakistan intends to import escapenumber mw electricity from iran iran are expected to agree a deal with pakistan to supply her with escapenumber mw of power to meet its growing power de mand according to official sources the two sides will discuss feasibili ty of the project rate transmission line way and timeframe at a meeting this week besides supply of additional escapenumber mw power from iran to pakis tan the experts from both sides will discuss to promote apr escapenumber escapenumber aescapenumberpower e ngineering click here f or more international news table power report energy news sections national international employment weather copyright escapenumber powermarketers com all rights reserved a href escapenumberd'http cmgr netcontentinc net chandler proxy aspx escapenumberflid escapelong escapenumberf escapenumber escapelong escapelong escapenumber' questions or com ments legal notices</th>\n",
       "      <td>1.0</td>\n",
       "      <td>0.0</td>\n",
       "      <td>NaN</td>\n",
       "      <td>0.0</td>\n",
       "      <td>0.0</td>\n",
       "      <td>0.0</td>\n",
       "      <td>0.0</td>\n",
       "      <td>0.0</td>\n",
       "    </tr>\n",
       "    <tr>\n",
       "      <th>a home jobsite the p ower marketing association online e mail us submit news release font size escapenumberd escapenumber the power report upcoming escapenumber conferences power d elivery escapenumber planning i getting the basics right atlanta ga april escapenumber escapenumber escapenumber outsour cing escapenumber for utilities chicago il april escapenumber escapenumber escapenumber marketi ng escapenumber green power chicago il april escapenumber escapenumber escapenumber fundame ntals escapenumber of distribution engineering atlanta ga april escapenumber escapenumber escapenumber sox escapenumber for escapenumber electric gas and water utilities an introduction to escapenumber sarbanes oxley chicago il april escapenumber escapenumber escapenumber escapenumberrd annual escapenumber renewable portfolio standards westminster co april escapenumber escapenumber escapenumber improving escapenumber utility performance and compliance through business process escapenumber management and optimization bpm bpo sacramento ca april escapenumber escapenumber escapenumber maximizing value escapenumber of genco assets in caiso mrtu market sacramento ca april escapenumber escapenumber escapenumber a water escapenumber constrained future how producers can minimize impacts in the west san diego ca may escapenumber escapenumber escapenumber recognizing and escapenumber recovering energy theft nashville tn may escapenumber escapenumber escapenumber cost effective escapenumber transmission technology nashville tn may escapenumber escapenumber escapenumber western escapenumber renewable power development summit san francisco ca may escapenumber escapenumber escapenumber solar power project finance investment summit font color escapenumberd escapenumberff san diego ca may escapenumber escapenumber escapenumber gas mar t escapenumber escapenumber chicago il may escapenumber escapenumber escapenumber in depth escapenumber introduction to the natural gas industry dallas tx may escapenumber escapenumber escapenumber natural gas escapenumber transactions trading and origination for non traders dallas tx may escapenumber escapenumber escapenumber developing and escapenumber launching new products and services for utilities dallas tx may escapenumber escapenumber escapenumber performance escapenumber benchmarking for energy utilities seattle wa may escapenumber escapenumber escapenumber pandemic escapenumber preparedness for utilities seattle wa may escapenumber escapenumber escapenumber br br br br br br br br br br br carbon finance investment summit may escapenumber escapenumber escapenumber new york new york for conference brochure click h ere click o n headline to view story industry publications the power of the tides energybiz insider apr escapenumber escapenumber energybiz insider apr escapenumber escapenumber a pil ot project in new york's east river is evaluating the use of underwater t urbines to generate electricity if the project bears fruit the technolo gy could have widespread applications apr escapenumber escapenumber escapelong rketers industry publications natural gas intelligence apr escapenumber escapenumber natural gas intelligence summudles for ap r escapenumber escapenumber apr escapenumber escapenumber escapelong rketers industry publications first enercast featured articles for april escapenumber escapenumber first enercast featured articles for apri l escapenumber escapenumber forecast analysis top stories financial releases weather stories apr escapenumber escapenumber escapelong rketers industry publications what is driving energy trading transaction and risk management etrm software sales escapenumberf utilipoint com apr escapenumber escapenumber utilipoint com apr escapenumber escapenumber escapenumber is set to be another great year for etrm software vendors sales of etrm sof tware are booming and each vendor i talk to recently tells me they are ha ving a banner year thus far apr escapenumber escapenumber escapelong rketers industry publications national news a new power struggle state power system operator and federal age ncy tell lipa to avoid a practice that could lead to price manipulation a apr escapenumber as workers break ground in yapha nk this week on the lipa backed caithness power plant a little known dis pute between the power authority and a state sanctioned power markets adm inistrator casts lipa's urgent calls for more long island capacity in a p reviously unseen light in a february ruling and other documents in a co mplaint filed by the long island power authority in november apr escapenumber escapenumber aescapenumberknight ridder tribune business news ruling jeopardizes excelsior energy's iron range plans apr escapenumber a escapenumber escapenumber billion coal gasification plant proposed to be built on the iron range may be headed for trouble a conclusion written by two administrative law judges obtained thursday by the news tribune recommends that a power purchase agreement neede d to move the excelsior energy project ahead be denied by the minnesot a public utilities commission on grounds including cost and apr escapenumber escapenumber aescapenumberknight ridder tribune business news san antonio express news david hendricks column apr escapenumber txu puts the texas power market in limbo who's in control at txu corp the giant dallas based energy co mpany escapenumberf plenty of texans want to know since deregulation of the texas power generation business in escapenumber municipal owned utilities like cps en ergy here have tried to predict where the texas power market is headed if the market was clouded before recent events it's indecipherable td apr escapenumber escapenumber aescapenumberknight ridder tribune business news seminole to build nebraska pipeline the tulsa based company's na tural gas conduit would serve ethanol facilities apr escapenumber the tulsa based company's natura l gas conduit would serve ethanol facilities seminole energy services l lc announced plans wednesday to build a natural gas pipeline that would s erve ethanol facilities in central nebraska the exact route and cost of the pipeline has not been determined company officials said but they an ticipate the conduit will span escapenumber miles connecting an existing apr escapenumber escapenumber aescapenumberknight ridder tribune business news victorville power plant clears hurdle city's escapenumber megawatt projec t would supply the power grid apr escapenumber sacramento a escapenumber million hyb rid power plant planned by the city has cleared a major permit hurdle wit h the california energy commission the commission voted escapenumber escapenumber wednesday t hat victorville's permit application has enough data to proceed with an e nvironmental review of the plant the clock is now ticking to a escapenumber month countdown after which the cec must make a decision on licensing apr escapenumber escapenumber aescapenumberknight ridder tribune business news coal to gas plant dealt a setback by judges apr escapenumber the dream of a escapenumber billion coal g asification plant on the iron range the was dealt a setback thursday when two administrative law judges urged the minnesota public utilities commi ssion to deny the plans of excelsior energy a newcomer power company w hile not binding on regulators the ruling is filled with warnings from doubts that the plant will burn coal as cleanly as guaranteed to apr escapenumber escapenumber aescapenumberknight ridder tribune business news ohio's emissions rank fourth in u s carbon dioxide releases up escapenumber from escapenumber escapenumber apr escapenumber emissions of carbon dioxide a g as key to global warming grew by escapenumber percent in ohio from escapenumber to escapenumber an d the state ranked fourth overall in the emissions which were mostly fro m coal burning power plants and vehicles that information is contained in a report released thursday by environment ohio a citizen based advoca cy group ohio ranked behind texas california and pennsylvania apr escapenumber escapenumber aescapenumberknight ridder tribune business news bills promote fire island wind farm apr escapenumber juneau lawmakers proposing to use escapenumber million to place windmills on anchorage's fire island are facing opposition from at least one electric company that says such state money would be better spent for more pressing needs companion bills introduce d by sen lesil mcguire r anchorage and rep harry crawford d anchorag e would allocate money from the state's railbelt energy fund to apr escapenumber escapenumber aescapenumberknight ridder tribune business news house won't ask for txu buyout approval lawmakers satisfied with group's commitments to puc apr escapenumber austin the texas house of rep resentatives isn't likely to vote to require regulatory approval of the b uyout deal for txu corp rep phil king r weatherford said he hasn't s een any amendments to his electricity legislation they are considering th ursday that would do so instead he said there's a general agreement to consider requiring the public utility commission to review apr escapenumber escapenumber aescapenumberknight ridder tribune business news tva ready for final browns ferry review apr escapenumber tva has told the nuclear regulat ory commission that it is ready for a final review of its restart of the unit escapenumber reactor at browns ferry nuclear plant unit escapenumber which tva expects t o return to service in may would be the first new nuclear generation in the united states this century the nrc which oversees tva's three nucle ar plants will send a team to evaluate browns ferry's management apr escapenumber escapenumber aescapenumberknight ridder tribune business news epa moves to ease air pollution standards for ethanol plants washington the environmental protection agency took a major step to stimulate ethanol production by issuing a ru le thursday allowing ethanol plants to operate with fewer environmental r ules and less air pollution equipment the agency rejected pleas by clea n air advocates and increased the amount of nitrogen oxide sulfur dioxid e and other pollutants that will be allowed before an ethanol apr escapenumber escapenumber aescapenumberknight ridder tribune business news senate endorses simmons for post even before former u s rep rob simmons received final approval for his new job legislators were debating on wed nesday what he should do as the state's first business advocate the state senate confirmed gov m jodi rell's nomination of simmons by a escapenumber escapenumber vot e but the debate on the senate floor focused on issues far beyond the fo rmer legislator's resume and accomplishments senate president pro apr escapenumber escapenumber escapelong d courant research and markets bunge limited exxon mobil corporation and archer daniels midland company are among the top five competitors for ver asun energy corporation dublin ireland business wire researc h and markets http www researchandmarkets com reports cescapenumber has anno unced the addition of verasun energy corporation company analysis to th eir offering company analysis assists individual investors managers and companies in evaluating opportunities trends market innovations as wel l as in selecting appropriate information solutions in order to apr escapenumber escapenumber escapelong s wire energy savings announces escapenumberth distribution rate increase energy savings income fund tsx sif un filed notice with the toronto stock exchange on april escapenumber escapenumber announcing its april distribution a distribution of escapenumber escapenumber unit will be paid on a pril escapenumber escapenumber to unitholders of record at the close of business on april escapenumberth escapenumber the units trade on the toronto stock exchange under the symbo l sif un energy savings income fund tsx sif un filed notice apr escapenumber escapenumber escapelong t wire missouri generators developing over escapenumber escapenumber megawatts of new renewa ble energy researched by industrial info resources researched by industrial info resources sugar land texas power produc ers in missouri are looking at renewable energy as an alternative for the state's future power needs the power producers are evaluating sixteen s ites equaling about escapenumber escapenumber megawatts mw of renewable generation these p roposed projects would represent about escapenumber of the new power apr escapenumber escapenumber escapelong t wire midlands minerals announces granting of stock options midlands minerals corporation midlands or the company tsx venture mex announces the company has granted op tions consistent with the company's stock option plan as approved by the shareholders on may escapenumber escapenumber and in accordance with the policies of the tsx venture exchange midlands minerals corporation midlands or the company tsx venture mex announces the company has granted apr escapenumber escapenumber escapelong t wire iomega delivers new rack mount nas iomega corporation nyse iom a global leader in data storage and protection today announced a new rack mount a ddition to its extensive line of network attached storage models for smal l and mid sized businesses the new iomega storcenter tm featuring adva nced performance capacity and energy efficiency in a escapenumberu form factor th e new iomega storcenter pro nas escapenumberr series featuring escapenumber tb and escapenumber apr escapenumber escapenumber aescapenumberbios neb report finds no likely environment impact from emera brunswic k gas line calgary cp the proposed emera brunswi ck pipeline to carry imported natural gas across southern new brunswick t o the united states 'is not likely to result in significant adverse envir onmental effects ' according to a national energy board environmental ass essment the neb released its report wednesday noting that the finding i s contingent on the project receiving regulatory approval and on apr escapenumber escapenumber escapelong n business magazine great river energy extends coal contract with the falkirk mine to escapenumber underwood n d business wire great r iver energy recently extended a contract with the falkirk mining company a wholly owned subsidiary of the north american coal corporation to pro vide all of coal creek station's lignite coal requirements through escapenumber the original contract between great river energy and the falkirk mining company was signed in escapenumber apr escapenumber escapenumber aescapenumberyahoo br aashe releases annual review of sustainability in higher educatio n a new report from the association for the advancement of sustainability in higher education aashe shows an 'expl osion' of sustainability related activity on campuses across the us and c anada aashe digest escapenumber an annual compilation of news stories and resou rces from aashe's weekly newsletter the aashe bulletin offers a compre hensive review of campus sustainability efforts from the past apr escapenumber escapenumber aescapenumberfmlink br click here for more natio nal news international news credit suisse backs japanese firms whose products might help figh t climate change tokyo investors should buy shares of jap anese environment related companies like toshiba and ngk insulators cred it suisse said on the view that they will benefit from expanding busines s opportunities shinichi ichikawa chief strategist at credit suisse in tokyo wrote in a report published wednesday that global warming was a th reat that would prove costly apr escapenumber escapenumber escapelong tional herald tribune chinese and japanese companies sign energy deals tokyo japanese and chinese companies sai d they signed business deals in the energy sector on thursday that could lead to possible joint development of oil and gas projects in the future including in the east china sea the deals were struck at a japan china energy seminar in tokyo during the visit of prime minister wen jiabao of china nippon oil and china national petroleum signed an accord apr escapenumber escapenumber escapelong tional herald tribune endesa and iberdrola open electricity auctions to rivals madrid endesa and iberdrola the two lar gest spanish power producers said thursday they would jointly auction po wer for delivery starting in july letting banks and foreign utilities ga in a foothold in the spanish market the two will together sell escapenumber escapenumber tera watt hours of electricity in a two year period starting july escapenumber iberdrola based in bilbao said in a statement apr escapenumber escapenumber escapelong tional herald tribune swiss re announces final close of eur escapenumber million european clean energy fund swiss re announces the successful close o f the eur escapenumber million european clean energy fund one of the largest fund s of this type in europe the fund a un accredited investment vehicle p rovides capital to european clean energy projects which are environmenta lly beneficial generate carbon credits or tradable renewable energy cert ificates the european clean energy fund raised eur escapenumber escapenumber million apr escapenumber escapenumber aescapenumberpr news wire click here f or more international news table power report energy news sections national international employment weather copyright escapenumber powermarketers com all rights reserved a href escapenumberd'http cmgr netcontentinc net chandler proxy aspx escapenumberflid escapelong escapenumber eaescapenumber escapelong bescapenumberd escapelong' questions or com ments legal notices</th>\n",
       "      <td>1.0</td>\n",
       "      <td>0.0</td>\n",
       "      <td>NaN</td>\n",
       "      <td>0.0</td>\n",
       "      <td>0.0</td>\n",
       "      <td>0.0</td>\n",
       "      <td>0.0</td>\n",
       "      <td>0.0</td>\n",
       "    </tr>\n",
       "    <tr>\n",
       "      <th>a home jobsite the p ower marketing association online e mail us submit news release font size escapenumberd escapenumber the power report upcoming escapenumber conferences risk management escapenumber managing physic al escapenumber financial uncertainty in the power industry new york escapenumber ny june escapenumber escapenumber escapenumber epri's value escapenumber and risk in energy markets introduction principles span san diego ca june escapenumber escapenumber escapenumber alternative escapenumber regulation for electric and gas utilities boston ma june escapenumber escapenumber escapenumber in depth escapenumber introduction to electricity markets alexandria escapenumber va june escapenumber escapenumber escapenumber carbon escapenumber emissions understanding and managing carbon risk alexandria va june escapenumber escapenumber escapenumber customer escapenumber communications for utilities bosto n escapenumber ma june escapenumber escapenumber escapenumber public escapenumber participation in utility siting bosto n escapenumber ma june escapenumber escapenumber escapenumber eei's escapenumber escapenumber transmission and wholesale market school madison wi july escapenumber escapenumber escapenumber carbon escapenumber sequestration development finance summit houst on escapenumber tx july escapenumber escapenumber escapenumber coal combustion escapenumber products charlotte nc july escapenumber escapenumber escapenumber t d asset escapenumber management charlotte nc july escapenumber escapenumber escapenumber wind power escapenumber development tutorial denve r escapenumber co july escapenumber escapenumber escapenumber ferc electric escapenumber escapenumber denve r escapenumber co july escapenumber escapenumber escapenumber electric power escapenumber planning san escapenumber francisco ca july escapenumber escapenumber escapenumber project finance escapenumber tutorial new y ork escapenumber ny july escapenumber escapenumber escapenumber diversity and escapenumber inclusion best practices san escapenumber francisco ca july escapenumber escapenumber escapenumber energy escapenumber efficiency demand response and load management san escapenumber francisco ca july escapenumber escapenumber escapenumber revenue escapenumber management san escapenumber francisco ca july escapenumber escapenumber escapenumber new ferc filing escapenumber and fasb fair valuation standards chica go escapenumber il july escapenumber escapenumber escapenumber power delivery escapenumber planning managing the distribution planning process to maximize escapenumber value chica go escapenumber il aug escapenumber escapenumber escapenumber electric safety escapenumber in utilities washington dc aug escapenumber escapenumber escapenumber protective escapenumber relaying washington dc aug escapenumber escapenumber escapenumber click here for online registration form br br br br br br br br br br br carbon sequestration development f inance summit july escapenumber escapenumber escapenumber houston tx for conference brochure click h ere click o n headline to view story industry publications etrm software implementation facts and figures utilipoint com jun escapenumber escapenumber utilipoint com jun escapenumber escapenumber during th e period of march and april escapenumber utilipoint international inc utilip oint conducted an electronic survey into the implementation of energy tr ading transaction and risk management etrm software jun escapenumber escapenumber escapelong keters industry publications future mergers energybiz insider jun escapenumber escapenumber energybiz insider jun escapenumber escapenumber groupi ngs of mammoth super regional utilities in the united states won't happen any time soon jun escapenumber escapenumber escapelong keters industry publications natural gas intelligence jun escapenumber escapenumber natural gas intelligence summudles for ju n escapenumber escapenumber jun escapenumber escapenumber escapelong keters industry publications first enercast featured articles for june escapenumber escapenumber first enercast featured articles for june escapenumber escapenumber forecast analysis top stories financial releases weather stories jun escapenumber escapenumber escapelong keters industry publications national news pipeline projects approved laterals would connect to new natural gas route jun escapenumber construction could start early ne xt year on six pipeline connectors in eastern wisconsin that would link t o a new natural gas pipeline planned to run from jefferson county to gree n bay the state public service commission on thursday approved the proj ects proposed by wisconsin public service corp of green bay and we energ ies of milwaukee we energies will spend nearly escapenumber million to jun escapenumber escapenumber aescapenumberknight r idder tribune business news electric bills could rise escapenumber a month jun escapenumber electric rates would rise escapenumber escapenumber pe rcent or escapenumber escapenumber a month and natural gas rates escapenumber escapenumber percent or escapenumber escapenumber a mont h for a typical residential customer in wisconsin under a proposal xcel e nergy will file this morning with the state commercial and industrial cu stomers would see an average electric rate increase of about escapenumber percent a nd a natural gas rate increase of between escapenumber escapenumber percent and escapenumber jun escapenumber escapenumber aescapenumberknight r idder tribune business news power up duke asks for n c rate hike residential customers wou ld pay about escapenumber more per year may escapenumber duke energy citing its growing c ustomer base said wednesday that it wants to raise base rates for the fi rst time in escapenumber years in north carolina the charlotte based utility the largest in the carolinas will ask state regulators this week for permis sion to add about escapenumber escapenumber or escapenumber escapenumber percent to the typical homeowner's month ly power bill the increase which would raise escapenumber million a year may escapenumber escapenumber aescapenumberknight ridder tribune business news blowin' in with the wind may escapenumber duke energy corp 's purchase of a n austin based company that generates wind energy power will create more wind projects in the permian basin on tuesday duke energy purchased ti erra energy a small wind energy company that has started two projects in the permian basin one is at notrees and the other is in big spring dav id marks former president of tierra energy and now senior vice may escapenumber escapenumber aescapenumberknight ridder tribune business news bioenergy solutions wins approval to convert dairy waste into nat ural gas jun escapenumber a bakersfield based company has b ecome the first in state history to receive california public utilities c ommission approval for large scale conversion of dairy waste into natural gas bakersfield based bioenergy solutions received puc approval a week ago for a escapenumber year agreement it signed with pacific gas electric co late last year to sell the utility natural gas collected from cow td jun escapenumber escapenumber aescapenumberknight r idder tribune business news tva blueprint calls for more nuclear plants and conservation jun escapenumber columbus miss the tennessee valley authority plans to build more nuclear plants while promoting more energy conservation in the next decade with a leaner staff and improved productivity tva officials said thursday they hope to improve the utilit y's capacity and its environmental performance without raising tva's debt excluding adjustments for fuel costs tva predicts it can spend jun escapenumber escapenumber aescapenumberknight r idder tribune business news aquila boosts natural gas rates typical residential customer wil l pay escapenumber escapenumber more a month jun escapenumber bills for natural gas are going u p in lawrence effective today aquila inc said thursday that it had re ceived approval for collecting another escapenumber escapenumber million a year from its escapenumber escapenumber escapenumber customers in kansas including about escapenumber escapenumber in lawrence the increase approved by the kansas corporation commission means that the typical re sidential customer will pay another escapenumber escapenumber a month while jun escapenumber escapenumber aescapenumberknight r idder tribune business news psc unveils plan to cut state's energy usage goal of reducing el ectricity use escapenumber percent by escapenumber may escapenumber successful could lower utility b ills pollution levels the initiative known as the energy efficiency po rtfolio standard would also seek to reduce natural gas consumption on m ay escapenumber the psc staff started to work on a proposal taking advice from gr oups and people around the state under the guidance of an administrative law judge the judge must provide a status report to psc may escapenumber escapenumber aescapenumberknight ridder tribune business news nipsco utilities ready for summer surge jun escapenumber nipsco told state regulators on t hursday that it is ready to meet peak summer electricity use when custome rs crank up the air conditioning we have a safe secure reliable supp ly of power this summer to meet customer demand said nipsco spokesman t om cuddy the utility will be using its own power plants as well as escapenumber m egawatts of power purchased from other utilities to keep reserve jun escapenumber escapenumber aescapenumberknight r idder tribune business news ucan says power line more than san diego needs jun escapenumber a new power line isn't needed unt il escapenumber to keep the lights on in san diego county and it's not needed at all to deliver electricity from the energy rich imperial valley accordi ng to a consumer group's analysis set to be filed today san diego gas amp electric disputed the report saying the county faces an electricity shortage in escapenumber and the utility says it needs a major transmission jun escapenumber escapenumber aescapenumberknight r idder tribune business news utility files for transmission line jun escapenumber in west texas escapenumber miles is nothin g and that's how close a newly proposed transmission line comes to the p lanned panhandle loop lone star transmission a subsidiary of fpl energ y filed an application thursday to build a line from the area south of b ig spring and abilene to the dallas area that puts its west edge close t o the proposed panhandle loop jun escapenumber escapenumber aescapenumberknight r idder tribune business news state oks escapenumber million langdon wind farm may escapenumber a escapenumber million escapenumber megawatt lang don wind energy center will be built in cavalier county this year nearly doubling the state's existing wind energy output the north dakota publ ic service commission on thursday approved the application from fpl energ y a subsidiary of florida power and light the company plans to start co nstruction this month with completion slated for december may escapenumber escapenumber aescapenumberknight ridder tribune business news columbia will raise price of gas in summer jun escapenumber columbia gas of virginia will rai se natural gas prices an average of escapenumber escapenumber a month during the summer sta rting this month the average bill will climb from escapenumber escapenumber to escapenumber escapenumber that average is based on using escapenumber escapenumber cubic feet or ccf virginia regulators have approved a plan by columbia gas to freeze the cost of delivering gas about escapenumber percent of a customer's bill through the end of jun escapenumber escapenumber aescapenumberknight r idder tribune business news sale fails nisource flails may escapenumber merrillville ind months of a nxiety for nipsco workers and consumers ended wednesday with parent compa ny nisource inc announcing it had broken off sales talks with potential buyers the announcement that the nipsco sale had fallen through came as part of a long promised update on a comprehensive strategic review that took well longer than one year may escapenumber escapenumber aescapenumberknight ridder tribune business news coal plant critics urge mea to say no jun escapenumber palmer matanuska electric asso ciation is asking its members to help select the sites for two new power plants one coal fired the other gas fired but anti coal groups say mea should be asking whether not where that plant should be built they' re sort of asking for window dressing after the main event has passed u tility watch president jim sykes said tuesday jun escapenumber escapenumber aescapenumberknight r idder tribune business news first energy says nuclear power station will meet new security ru les may escapenumber shippingport security personne l at the beaver valley nuclear power station in shippingport are in good shape to meet new security regulations a spokesman for plant owner fir stenergy corp says the associated press reported tuesday that federal regulators are revising work rules to make sure that security guards at n uclear plants remain alert and that they don't work so many hours may escapenumber escapenumber aescapenumberknight ridder tribune business news electricity providers optimistic on supply may escapenumber power should be plentiful in wisc onsin this summer but utility officials say there still could be problem s getting electricity where it's needed and big factories around the st ate want to make sure they are not forced to shut down so that people in ohio for example have enough power to go around for the first time in years wisconsin is not ranked among the nation's top spots for may escapenumber escapenumber aescapenumberknight ridder tribune business news power rates going up effective today two increases will hit your bill escapenumberf one is due to low water supplies the other stems from a court ruling get the details in our q a jun escapenumber just as a potentially record sett ing heat wave strikes southwest idaho you may want to think twice about cranking up that air conditioner starting today the average idaho power residential customer will see monthly bills jump by more than escapenumber percent state regulators thursday approved two increases that take effect toda y the increases will raise the bill of the average customer using jun escapenumber escapenumber aescapenumberknight r idder tribune business news no consumption boost as debt remains high jun escapenumber the government will not introduce a policy to stimulate domestic consumption even though the inflation rat e remains low because household debt is still high says deputy prime min ister kosit panpiemras officials will instead focus on a policy to stim ulate local investment he added household debt has jumped to escapenumber escapenumber ba ht per household from escapenumber escapenumber baht in escapenumber due to the previous jun escapenumber escapenumber aescapenumberknight r idder tribune business news drought could cost tva escapenumber million jun escapenumber columbus miss the lack of ra in is drying up cash reserves for the tennessee valley authority tva pre sident tom kilgore said thursday tva estimates it has lost escapenumber million of hydroelectric power generation over the past eight months due to one of the driest years on record in the tennessee valley without sufficient rainfall tva may end up losing escapenumber million for all of fiscal jun escapenumber escapenumber aescapenumberknight r idder tribune business news pacificorp to construct transmission lines through west the digital utility vegetation managemen t pacificorp yesterday announced plans to build more than escapenumber miles of new escapenumber kv transmission lines originating in wyoming and connecting into utah idaho oregon and the desert southwest the two lines are set for c ompletion in year escapenumber the escapenumber billion plus investment plan includes exis ting projects in the company's escapenumber year business plan and jun escapenumber escapenumber escapelong sion distribution world tva board adopts escapenumber year strategic plan north mississippi the tennessee valley au thority tva board has approved the escapenumber strategic plan which provides the framework and high level direction that will guide tva's strategic de cisions for the next decade after holding nine public meetings throughou t the tennessee valley along with employee briefings on a draft plan pre sented to the board in march tva said it strengthened several jun escapenumber escapenumber escapelong ppi business journal energy bill compromise reached house and senate leaders said late thursd ay night they have agreed on an energy re structuring bill that they expe ct to be approved friday house speaker james a amann d milford and se nate president pro tem donald e williams jr d brooklyn declined to re lease a detailed summary amann called the compromise 'fragile ' 'it's ju st about baked ' williams said jun escapenumber escapenumber escapelong courant firstenergy to install powerspan's emission control technology firstenergy corp recently announced its plans to install an electro catalytic oxidation eco system on units escapenumber a nd escapenumber of its r e burger plant in shadyside ohio combined the units pr oduce escapenumber megawatts mw of electricity or enough to serve approximately escapenumber escapenumber homes eco is a multipollutant control technology for coal based electric generating plants that was developed by powerspan corp jun escapenumber escapenumber escapelong week north dakota regulators ok escapenumber million wind farm north dakota utility regulators have a pproved a escapenumber mw escapenumber million wind project being developed by fpl energy minnkota power cooperative and otter tail power co the farm will have escapenumber wind turbines and will be the largest wind farm in the state to date covering some escapenumber escapenumber escapenumber square miles in cavalier county fpl officials said construction will start this month and should be completed by the jun escapenumber escapenumber aescapenumberpower en gineering dnr says university power plant is violating clean air rules too madison wis an aging coal fired power plant operated by the university of wisconsin madison has violated the c lean air act by upgrading its boilers without installing new pollution co ntrols according to the department of natural resources the news came ju st days after the dnr warned the same plant was violating the clean water act by allowing coal runoff to seep into storm sewers that drain may escapenumber escapenumber escapelong nder daily news groups form alliance for solar solartech will help train instal lers and facilitate permitting hoping to cement the bay area's lead as a solar energy center an alliance of industrial academic and policy lead ers will unveil an organization today solartech aimed in part at helpin g homeowners finance solar arrays and at training workers to install them 'we could need escapenumber escapenumber to escapenumber escapenumber workers in the bay area alone ' said to m mccalmont chief executive of regrid power a solar energy jun escapenumber escapenumber aescapenumbersan fran cisco chronicle new jersey natural gas announces prices to remain stable going in to next winter's heating season wall n j business wire new jersey n atural gas njng today submitted its annual basic gas supply service bg ss filing to the new jersey board of public utilities bpu and announce d that natural gas prices for its residential and small commercial custom ers will remain stable going into the upcoming escapenumber escapenumber winter heating s eason whenever we can hold the line on prices that is good news jun escapenumber escapenumber escapelong wire pse g proposes modest increase in winter natural gas bills public service electric and gas co pse amp g today proposed a modest escapenumber percent increase in residential gas bill s effective october escapenumber the state's largest electric and gas utility propo sed the change in its annual gas supply filing with the new jersey board of public utilities bpu the adjustment is necessary because wholes ale supply prices are expected to remain high jun escapenumber escapenumber aescapenumberpr newsw ire usec signs power contract with tva bethesda md business wire usec inc nyse usu has signed a five year contract with the tennessee valley aut hority tva for electric power for usecs gaseous diffusion uranium enric hment plant in paducah ky tvas board of directors approved the terms of the new power agreement at its board meeting yesterday the new contract which replaces a one year pricing agreement that expires today jun escapenumber escapenumber escapelong wire maritimes northeast pipeline launches open season assessment to determine interest in expan ding system expandable pipeline is ideally situated to capture new eas t coast supply potential sources include offshore onshore and l ng suppliers seeking customer interest for natural gas transportatio n in escapenumber escapenumber halifax nova scotia and waltham mass may escapenumber prnew swire maritimes northeast pipeline is launching an open may escapenumber escapenumber aescapenumberpr news wire landmark decision orders delaware utility to negotiate long term purchase power agreement from proposed offshore wind park the nation's first the delaware public service commission an d three other state agencies made a landmark decision last week to order delmarva power light to negotiate a purchase power agreement with b luewater wind llc for what could be the nation's first offshore wind park bluewater wind proposed a escapenumber megawatt mw wind park consisting of escapenumber escapenumber mw turbines located escapenumber escapenumber escapenumber escapenumber highway miles off of the delaware may escapenumber escapenumber aescapenumberpr news wire the us is the world's second largest producer of copper and gold exporting over escapenumber billion worth of minerals and materials a year dublin ireland business wire researc h and markets http www researchandmarkets com reports cescapenumber has anno unced the addition of analyzing the mining industry in the united states to their offering the united states mining industry is an important cont ributor to the nations economy and employs over millions of workers in th is great endeavor to utilize the nations resources for growth and jun escapenumber escapenumber escapelong wire mike cherry joins arsc as vp marketing hydrastax r rollout firs t priority american security resources corporation otcbb arsc announced today that mike cherry founder of computer automa tion american security resources corporation otcbb arsc announced tod ay that mike cherry founder of computer automation systems inc predec essor company to arsc has rejoined arsc as vice president of marketing t o develop the sales and distribution channels for all company jun escapenumber escapenumber escapelong wire new era in u s electricity industry starts june escapenumber as of june escapenumber escapenumber u s utilities and o ther bulk power industry participants that violate any requirements of escapenumber reliability standards will face enforcement actions by the north america n electric reliability corporation nerc under federal law nerc preside nt and ceo rick sergel said today the electricity industry has spent yea rs preparing for this new era in which compliance with reliability jun escapenumber escapenumber aescapenumberpr newsw ire ansi seeks comments on proposal for new iso field of activity the doe has submitted a proposal to th e american national standards institute ansi for a new iso field of technical activity on the subject of energy management systems standards mss according to the doe proposal the growing global constraints on e nergy supply and the significance of energy efficiency in mitigating gree nhouse gas emissions deem advancements in energy management system may escapenumber escapenumber escapelong n national standards institute after months of increases northwestern lowering rates in july escapenumber escapenumber p m helena mont ap northwes tern energy said it will slightly reduce its montana residential electric al rates in july after gradually increasing its rates over the past year in anticipation of the end of a contract with ppl montana that would lea d to higher prices 'we've been adjusting for the higher cost of the ne w portfolio over the past several months which has created a jun escapenumber escapenumber escapelong business magazine illinois lawmakers to continue debate on electric rate relief lexington kentucky platts escapelong il linois lawmakers were unable to reach a last minute electric rate relief solution for millions of customers late thursday night and has moved into overtime scheduled to adjourn at midnight thursday the spring legislat ive session was continued through june after a furiously sought escapenumberth hour agreement eluded lawmakers commonwealth edison ameren and the jun escapenumber escapenumber aescapenumberplatts us' orion ethanol greenhunter energy to merge in escapenumber mil deal a orion ethanol and alternative energy comp any greenhunter energy have agreed to merge in a stock for stock transact ion valued at around escapenumber million the companies said early thursday bas ed in grapevine texas greenhunter energy was formed in escapenumber and has a p ortfolio of alternative and renewable power projects including wind bio mass methanol and biodiesel facilities along with six wind farm may escapenumber escapenumber aescapenumberplatts br entergy finding of tritium in indian point sewage was incorrect a escapenumber escapenumber p m buchanan n y ap the lab results that showed radioactive tritium in sewage from the indian point nuclear power plants last month were incorrect 'false positives' and foll ow ups have determined that there is no contamination the plants' owner said friday entergy nuclear also said it has found no tritium above norm al levels at the sewage plant in buchanan or anywhere else outside jun escapenumber escapenumber escapelong business magazine click here for more natio nal news international news spain energy sector outlook report helps clients to analyze the l eading edge opportunities critical to the success of energy industry in s pain dublin ireland business wire researc h and markets http www researchandmarkets com reports cescapenumber has anno unced the addition of spain energy sector outlook to their offering this report on 'spain energy sector outlook' provides extensive research and objective analysis of spanish energy industry this report helps clients to analyze the leading edge opportunities critical to the success jun escapenumber escapenumber escapelong wire rwe power to invest escapenumberm in polish wind farms rwe power in cooperation with its poli sh partner polish energy partners is to build two wind power plants wit h an installed capacity of escapenumber mw at two selected locations in tychowo we st pomerania and suwalki masuria to implement this plan two project c ompanies will be acquired in which rwe power will have a stake of escapenumber per cent and pep a stake of escapenumber per cent jun escapenumber escapenumber aescapenumberpower en gineering bush calls for summit on greenhouse gases the associated presswashington escapenumber escapenumber under international pressure to take tough action against global warmi ng president bush on thursday called for a summit of the united states a nd other nations that create the most greenhouse gases the goal set a lo ng term global strategy for reducing emissions and counter allegations t hat the united states is foot dragging the white house said the jun escapenumber escapenumber escapelong press herald argentina cold snap causes energy woes buenos aires argentina map news a c old snap in argentina led to electricity and natural gas shortages this w eek idling factories and taxis and causing sporadic blackouts in the cap ital beset by the coldest may since escapenumber millions of residents fired up space heaters straining buenos aires' electrical grid for three nights and forcing authorities to slash power supply nationwide and jun escapenumber escapenumber aescapenumbersan fran cisco examiner germany's largest power supplier will halve carbon emissions by escapenumber escapenumber e on the biggest power supplier in ge rmany plans to reduce its carbon emissions to half of their escapenumber levels by escapenumber chief executive wulf bernotat said on may escapenumber 'our ambitious tar get is to reduce our coescapenumber carbon dioxide emissions to roughly escapenumber escapenumber tons per megawatt hour by escapenumber escapenumber less than in escapenumber ' bernotat said 'along with a massive expansion of our renewables capacity we plan to jun escapenumber escapenumber escapelong week click here f or more international news table power report energy news sections national international employment weather copyright escapenumber powermarketers com all rights reserved a href escapenumberd'http cmgr netcontentinc net chandler proxy aspx escapenumberflid escapelong escapenumbercb escapenumberdeb escapenumber baescapenumber escapelong' questions or com ments legal notices</th>\n",
       "      <td>1.0</td>\n",
       "      <td>0.0</td>\n",
       "      <td>NaN</td>\n",
       "      <td>0.0</td>\n",
       "      <td>0.0</td>\n",
       "      <td>0.0</td>\n",
       "      <td>0.0</td>\n",
       "      <td>0.0</td>\n",
       "    </tr>\n",
       "    <tr>\n",
       "      <th>...</th>\n",
       "      <td>...</td>\n",
       "      <td>...</td>\n",
       "      <td>...</td>\n",
       "      <td>...</td>\n",
       "      <td>...</td>\n",
       "      <td>...</td>\n",
       "      <td>...</td>\n",
       "      <td>...</td>\n",
       "    </tr>\n",
       "    <tr>\n",
       "      <th>Â‚Ã§Â‚Â¤Â‚ÂµÂ‚Ã¤Â‚Ã Â˜bÂ‚ÂµÂ‚Ã¤Â‚Â¨Â‚Â©Â‚Ã¨Â‚Â­Â‚Â¿Â‚Ã¡Â‚Â¢Â‚Â¯Â‚Ã¨Â‚Â¢Â‚Â±Â‚Ã¦Â‚Ã¥Â‚Â·Â‚Ã¬Â‚Ã¥ÂbÂb ÂŽÂ„Â’bÂ‚Ã­Â‚Â¶Â‚ÃŸÂ‚Ã¤Â‚Ã¥Â‚Ã­Â‚Ã¨Â‚Â¢Â‚Ã±Â‚Ã¥Â‚Â·ÂbÂ‚Â±Â‚ÃªÂ‚Â¾Â‚Â¯Â‚Ã¥Â‚Ã Â‚Ã­Â‚Â©Â‚Ã¡Â‚Ã¤Â’Â¸Â‚Â¯Â‚Ã¼Â‚Â·Â‚Â©Âh ÂŒfÂŽÂ¦Â”Ã¢Â‚ÂªÂ‚Â¾Â‚ÃŸÂ‚Ã¨Â‚Ã§Â‚Â±Â‚Ã¡Â‚Â¿Â‚Ã¬ÂƒÂÂƒbÂƒzÂƒÂ“ÂƒwÂƒÂƒÂ Â‚Ã¥Â—Ã§Â‚Â¢Â‚Ã¥Â‚Â·Â‚Â©Â‚Ã§Â˜aÂ—ÂÂ‚Â­Â‚Â¾Â‚Â³Â‚Â¢Âb ÂƒÂÂƒoÂƒcÂƒÂ“Â‚ÂµÂ‚Ã¤Â‘Ã²Â‚Ã¡Â‚Ã¤Â‚Ã¼Â‚Â·Â‚Â©Â‚Ã§Âb http www hitominikanpai com wari tumazorabuai Â‚Â¨Â‘Ã²Â‚Â¿Â‚ÂµÂ‚Ã¤Â‚Â¢Â‚Ã¼Â‚Â·Â‚Ã¬Â‚Ã¥Â˜aÂ—ÂÂ‚Â­Â‚Â¾Â‚Â³Â‚Â¢Âb Â– Â“Â–Â‚Ã©Â‰Â½Â“xÂ‚Ã Â‚Â·Â‚Ã½Â‚Ã¼Â‚Â¹Â‚Ã±ÂbÂ‚Ã§Â‚Â¤Â‚ÂµÂ‚Ã¤Â‚Ã Â“ Â‚Â¦Â‚Ã¨Â‚Â­Â‚Ã¤Â‚Ã­Â‚Ã¨Â‚Ã§Â‚Ã¨Â‚Â¢ÂŽÂ–Â‚Ã¥Â‚Â·Â‚ÂµÂaÂ‚ Â‚Ã¨Â‚Â½Â‚Ã©Â‚Ã¦Â‚Ã¡Â‚Ã¤Â‚Ã Â‘Ã¥ÂÃ¸Â‚Ã¨ÂŽÂ–Â‚Â¾Â‚Ã¦ÂŽvÂ‚Â¢Â‚Ã¼Â‚Â·Â‚Ã¬Â‚Ã¥ÂcÂ‚Â²Â˜aÂ—ÂÂ‚Â¨Â‘Ã²Â‚Â¿Â‚ÂµÂ‚Ã¤Â‚Â¢Â‚Ã¼Â‚Â·Â‚Ã«Âb</th>\n",
       "      <td>1.0</td>\n",
       "      <td>1.0</td>\n",
       "      <td>NaN</td>\n",
       "      <td>1.0</td>\n",
       "      <td>1.0</td>\n",
       "      <td>1.0</td>\n",
       "      <td>1.0</td>\n",
       "      <td>1.0</td>\n",
       "    </tr>\n",
       "    <tr>\n",
       "      <th>Â„Â¡Â„ÂŸÂ„ÂŸÂ„ÂŸÂ„ÂŸÂ„ÂŸÂ„ÂŸÂ„ÂŸÂ„ÂŸÂ„ÂŸÂ„ÂŸÂ„ÂŸÂ„ÂŸÂ„ÂŸÂ„ÂŸÂ„ÂŸÂ„ÂŸÂ„ÂŸÂ„ÂŸÂ„ÂŸÂ„ÂŸÂ„ÂŸÂ„ÂŸÂ„ÂŸÂ„ÂŸÂ„ÂŸÂ„ÂŸÂ„ÂŸÂ„Â¢Âq Â— ÂlÂÃ¨ÂoÂ‰Ã¯Â‚Â¢ÂŒnÂƒtÂƒcÂƒgÂ‚Ã¥ ÂˆÃºÂ—ÂÂlÂÃ¨Â‚Ã¬ÂƒaÂƒhÂaÂŒgÂ‘Ã±Â”Ã´ÂÂ†Â‚Ã°ÂÂ¡Â‚Â·Â‚Â®ÂŽÃ¨Â‚Ã©Â“Ã¼Â‚ÃªÂ‚Ã¦Â‚Â¤ÂÃ´ ÂÂ¬ÂÂ¬ÂÂ¬ÂÂ¬ÂÂ¬ÂÂ¬ÂÂ¬ÂÂ¬ÂÂ¬ÂÂ¬ÂÂ¬ÂÂ¬ÂÂ¬ÂÂ¬ÂÂ¬ÂÂ¬ÂÂ¬ÂÂ¬ÂÂ¬ÂÂ¬ÂÂ¬ÂÂ¬ http escapelong com aitai dressage ÂÂ›ÂÂ›ÂÂ›ÂlÂÃ¨Â‚Ã¦Â‰Ã¯Â‚Â¤Â‚Â½Â‚ÃŸÂ‚Ã¬Â•kÂÂŸÂ– ÂiÂÂ›ÂÂ›ÂÂ› ÂyÂŽÂžÂŠÃ´Â‘Ã±Â‚Ã­Â’Â‹Â Â— ÂiÂz ÂlÂÃ¨Â‚ÂªÂÃ¥Â‚Ã Â“Â®Â‚Â­ÂŽÂžÂŠÃ´Â‘Ã±Â‚Ã­Â“Â–Â‘rÂa Â’Ã ÂŽÃ¥Â‚ÂªÂ‰Ã¯ÂŽÃ°Â‚Ã©ÂsÂ‚Ã¡Â‚Â½ÂŒÃ£ÂaÂ‚Ã¢Â‚Ã¼Â‚Ã¨Â’Â©escapenumberÂŽÂžÂ Â Â‚Â¨Â’Â‹Â‚ÂªÂÃ¥Â“kÂi ÂxÂ‚Ã©ÂŒÂ¾Â‚Â¦Â‚Ã®Â–Ã©Â‚Ã¦Â‚Ã¨Â‚Ã Â‘ÂÂ’Â©Â‚Â©Â‚Ã§Â’Â‹Â‚Ã¼Â‚Ã¥Â‚ÂªÂ‘ Â‚Â¢Â–ÃºÂiÂi Â Â Â Â Â ÂÃ¡ÂÃ¡ÂÃ¡ÂlÂÃ¨ÂhÂ‚Â¢Â•ÃºÂ‘Ã¨ÂÃ¢ÂÃ¢ÂÃ¢ÂÃ¢ÂiÂiÂi ÂÂ›ÂÂ›ÂÂ›ÂÂ›ÂÂ›ÂÂ›ÂÂ›ÂÂ›ÂÂ›ÂÂ›ÂÂ›ÂÂ›ÂÂ›ÂÂ›ÂÂ›ÂÂ›ÂÂ›ÂÂ›ÂÂ›ÂÂ›ÂÂ›ÂÂ›ÂÂ›ÂÂ›ÂÂ›ÂÂ›ÂÂ› ÂlÂÃ¨Â‚Ã¬ÂsÂ“Â®ÂƒpÂƒ Â ÂƒÂ“Â‚Ã°ÂŠÂ®Â‘sÂ‚Ã©Â”cÂˆÂ¬Â‚ÂµÂaÂlÂÃ¨Â‚Ã¦Â‘Â¦Âƒ Âƒ Âƒ ÂƒÂ“Â‚ÂµÂ‚Ã¦Â‚Â¤Âi Â–ÂžÂ‘Â«Â‚Â³Â‚Â¹Â‚ÃªÂ‚Ã®Âƒ Âƒ Âƒ ÂƒÂ“Â‚Ã¬Â‚Ã¢Â‚Ã Â‚Ã¨Â‚ÂªÂaÂ‚Â¨ÂÂ¬ÂŒÂ­Â‚Â¢Â‚Â­Â‚ÃªÂ‚Ã© ÂÃ£Â‹lÂ‚Ã¬Â•Ã»Â– ÂˆÃ¨ÂŠoÂ‚Ã Â—lÂxÂ‚Ã¨ÂuÂ—ÂªÂ‚Ã¬ÂŽ ÂŒÃ»Â‚Ã°Â‰ÂºÂ‹lÂ‚Ã©Â‚Ã¤Â‹lÂÃºÂÂ™ http escapelong com aitai dressage ÂoÂ‰Ã¯Â‚Â¢ÂŒnÂ‚Ã¥Â’jÂ‚Ã°Â‹ÂÂ‚ÃŸÂ‚Ã©ÂlÂÃ¨Â‚Ã­ÂˆÃºÂ—ÂÂ‚Ã¥Â—dÂ‰ÂÂ‚Ã¨Â‚Ã±Â‚Ã¥Â‚Â·ÂbÂbÂb Â’Â†Â‚Ã©Â‚Ã­Â‰Ã©Â‚Ã¢Â‚Ã´Â‚ÂµÂ‚Ã¥Â’jÂ‚Ã¦ÂqÂ‚Ã©ÂƒzÂƒÂŒÂƒuÂ‚Â³Â‚Â¦Â‹ÂÂ‚Ã©ÂiÂi Â‹mÂ•Ã»Â‚Ã¬ÂƒeÂƒnÂ‚Ã¥ÂcÂƒ Âƒ ÂƒÂ€Â‚Ã¬ÂƒeÂƒnÂ‚Ã¥ÂcÂ’Â‹ÂŠÃ´Â‚Ã¬Â‰ÃµÂŠyÂ‚Ã°Âc ÂlÂÃ¨Â‚Ã¬Â— Â‚Ã¬Â— Â‚Ã¼Â‚Ã¥Â’mÂ‚Ã¨ÂsÂ‚Â­Â‚ÂµÂ‚Ã¤Â‹mÂ•Ã»Â‚Ã ÂÂ¡Â“ÃºÂ‚Â©Â‚Ã§Âƒ Âƒ ÂƒÂ€ÂÂ™ÂƒlÂƒÂ‰Â Â‚Ã©ÂiÂh ÂÂšÂÂ™ÂÂšÂÂ™ÂÂ¡Â‰Ã±Â‚Ã¬Â“Ã¡Â“tÂÂšÂÂ™ÂÂšÂÂ™ ÂÂ¡Â‰Ã±ÂaÂ–Â³Â—Â¿Â“oÂ˜ Â‚Ã°Â‚ÂµÂ‚Â½Â’jÂÂ«Â—lÂ‚Ã©ÂÂ‰Â‰Ã±ÂŒÃ Â‚Ã¨ ÂÃ¡Â•kÂ‚Â¸ÂÃ¢ÂˆÃªÂ–Â¼Â‚Ã¬Â“Â–Â•Ã»ÂÂ„Â‘eÂ‚Ã¬ÂlÂÃ¨Â‚Ã°Â‚Â²ÂÃ°Â‰Ã®ÂiÂi ÂƒzÂƒbÂƒnÂƒxÂŠÃ³Â– Â—Â¦Â‚Ã­Â‚Ã Â‚Â¿Â‚Ã«Â‚Ã±Â‚pÂ‚oÂ‚oÂÂ“Â‚Ã¥Â‚Â·Â‚Ã¬Â‚Ã¥Â‚Â¨ÂŠyÂ‚ÂµÂ‚Ã½Â‚Ã©ÂbÂbÂb Â“Â–Â•Ã»Â‚Ã¥Â‚Ã­ ÂÃ¡ÂƒtÂƒÂŠÂ ÂƒaÂƒhÂƒÂŒÂƒxÂ‰Ã¢ÂÃ¢ ÂÃ¡Â’Â¼ÂƒaÂƒhÂ‘Â¦ÂŒÃ°ÂŠÂ·Â‚nÂ‚jÂÃ¢ Â‚Ã¥Â‚Â·Â‚Ã¬Â‚Ã¥ ÂƒtÂƒcÂƒgÂ‚Ã©Â”Â›Â‚Ã§Â‚ÃªÂ‚Ã©Â‚Â±Â‚Ã¦Â‚Ã¨Â‚Â­Â‹cÂŒyÂ‚Ã©ÂoÂ‰Ã¯Â‚Â¦Â‚Ã¼Â‚Â·ÂÂ™ http escapelong com aitai dressage</th>\n",
       "      <td>1.0</td>\n",
       "      <td>1.0</td>\n",
       "      <td>NaN</td>\n",
       "      <td>1.0</td>\n",
       "      <td>1.0</td>\n",
       "      <td>1.0</td>\n",
       "      <td>1.0</td>\n",
       "      <td>1.0</td>\n",
       "    </tr>\n",
       "    <tr>\n",
       "      <th>Ã¤Ã®Ã¡Ã°Ã®Ã¥ Ã³Ã²Ã°Ã® ÃªÃ®Ã°Ã¯Ã³Ã±Ã­Ã Ã¿ Ã¬Ã¥Ã¡Ã¥Ã«Ã¼ Ã¨ ÃªÃ³ÃµÃ­Ã¨ Ã¨Ã§ Ã±Ã®Ã¢Ã°Ã¥Ã¬Ã¥Ã­Ã­Ã»Ãµ Ã¬Ã Ã²Ã¥Ã°Ã¨Ã Ã«Ã®Ã¢ Ã Ã­Ã Ã«Ã®Ã£Ã¨ Ã¬Ã®Ã¤Ã¥Ã«Ã¥Ã© Ã¢Ã¥Ã¤Ã³Ã¹Ã¨Ãµ Ã¯Ã°Ã®Ã¨Ã§Ã¢Ã®Ã¤Ã¨Ã²Ã¥Ã«Ã¥Ã© Ã Ã­Ã Ã«Ã®Ã£Ã¨Ã·Ã­Ã®Ã£Ã® ÃªÃ Ã·Ã¥Ã±Ã²Ã¢Ã  Ã¢ Ã¤Ã¢Ã  Ã°Ã Ã§Ã  Ã¤Ã¥Ã¸Ã¥Ã¢Ã«Ã¥ Ã²Ã®Ã«Ã¼ÃªÃ® Ã³ Ã­Ã Ã± Ã¢Ã±Ã¥ Ã¨Ã§Ã¢Ã¥Ã±Ã²Ã­Ã»Ã¥ Ã¬Ã Ã²Ã¥Ã°Ã¨Ã Ã«Ã» Ã´Ã Ã±Ã Ã¤Ã®Ã¢ Ã¡Ã®Ã«Ã¥Ã¥ Ã²Ã»Ã±Ã¿Ã·Ã¨ Ã´Ã ÃªÃ²Ã³Ã° http www khnag com escapenumber escapenumber escapenumber escapenumber escapenumber escapenumber escapenumber escapenumber Ã¬Ã» Ã¦Ã¤Ã¥Ã¬ Ã¢Ã Ã± Ã¢ Ã­Ã Ã¸Ã¨Ãµ Ã¢Ã»Ã±Ã²Ã®Ã¢Ã®Ã·Ã­Ã»Ãµ Ã§Ã Ã«Ã Ãµ Ã Ã¦ Ã¢ escapenumber Ã¯Ã Ã¢Ã¨Ã«Ã¼Ã®Ã­Ã Ãµ Ã¢ Ã¬Ã®Ã±ÃªÃ¢Ã¥ Ã¯Ã°Ã®Ã¨Ã§Ã¢Ã®Ã¤Ã¨Ã¬ ÃªÃ Ã·Ã¥Ã±Ã²Ã¢Ã¥Ã­Ã­Ã³Ã¾ Ã¬Ã¥Ã¡Ã¥Ã«Ã¼ Ã¯Ã® Ã¢Ã Ã¸Ã¨Ã¬ Ã¶Ã¥Ã­Ã Ã¬</th>\n",
       "      <td>1.0</td>\n",
       "      <td>1.0</td>\n",
       "      <td>NaN</td>\n",
       "      <td>1.0</td>\n",
       "      <td>1.0</td>\n",
       "      <td>1.0</td>\n",
       "      <td>1.0</td>\n",
       "      <td>1.0</td>\n",
       "    </tr>\n",
       "    <tr>\n",
       "      <th>Ã§Â°Â¡Ã´Ã¬Â¨Â¡Ã´Â½Ã³Â¡Ã´Â´Ã½Â¡Ã´Ã—Â¨Â¡Ã´Ã²ÂµÂ¡Ã´Â»Â¯Â¡Ã´Ã±ÂµÂ¡Ã´Ã¡Â· Ã©Ã® Ã»Ãº Ã©Ã¯ ÂºÂ£ Â»Ã¡ Ã®Ã± Ã—Ã© Ã¶Â¯Â£Âº Â²Ã¦ Â¾Â­ Ã°Ã¥ Ã¯Â¢ Ã¥Ã  Ã±Âµ Â»Ãº Â¹Â¹ Â·Ã± Ã³Ã£Â£Âº escapenumberÃ´Âª Ã¨Ã« ÂºÂ¬ Â½Â² Ã²Ã¥Â¡Â¢Ã®Ã§ Â²Ã­Â¡Â¢Â²Ã¨ ÂµÃ£Â¡Â¢ÂºÃ¯ Ã³Â°Â¡Â¢Ã­Â¨ Ã±Â¶ Ã¢Â¼ Â¿Ã® Â³Ã¬ ÃªÂ± Â¼Ã¤Â£Âº Ã©Ã¯ ÂºÂ£ escapenumber Ã¤Ãª escapenumber Ã´Ã¢ escapenumber escapenumber Ã¨Ãµ Ã©Ã¯ Â¿Ã® ÂµÃ¸ ÂµÃ£Â£Âº Ã©Ã¯ ÂºÂ£ Â½Ã° Ã«Â® Ã­Ã¥ Â´Ã³ Â¾Ã¦ ÂµÃª Â²Ã® Â¼Ã³ Â¶Ã´ Ã¯Ã³ Ã§Â° Ã¬Â¨ Ã°Ã° ÃµÃ¾ Ã£Ã¸ ÃªÃ© Â¡Â¢Â°Ã¬ Â¹Â« ÃªÃ² Ã¯Ã  Â¹Ã¸ Ã¨Ã« Ã´Â± Â±Â¨ Ã£Ã» escapenumber ÂµÃ§ Â»Â°Â£Âº escapenumber escapenumberÂ£Â©Â£Â­ escapenumber escapenumber escapenumberÂ¡Â¢ escapenumber escapenumber escapenumber escapenumber Â´Â« ÃµÃ¦Â£Âº escapenumber escapenumberÂ£Â©Â£Â­ escapenumber escapenumber escapenumber Ã¶Ã¼Ã°Â¡Â½Ã£ Ã±Ã»Ã¯Ã¨Ã©Ãº escapenumber Â±Â¨ Ã£Ã» Â·Â½ ÃªÂ½Â£ÂºÂµÃ§ Â»Â° ÂµÃ§ Â¼Ã§ Â»Ã² Â´Â« ÃµÃ¦ Â±Â¨ Ã£Ã» Â·Â¢ Â³Ã¶ Â»Ã¡ Ã®Ã± Ã¨Â· Ã¨Ã¯ ÂºÂ¯ Ã¨Â· Ã¨Ã¯ Â±Â¨ Ã£Ã» Â¿Ã®Â¡Ã¬Â³Ã¬Â¡Ã¬Â±Â³Â¡Ã¬Â¾Â° Â¡Â¡Â¡Â¡ Ã§Â° Ã¬Â¨ Ã¨Ã« Ã´Â± Â£Â¬ ÃªÃ§ Â¿Ã­ Â»Â§ Ã¡Ã« Â½Ã¢ Ã®Ã² Ã£Ã§ Ã—Ã® Â³Ãµ ÂµÃ¤ Â´Â° Â¿ÃºÂ£Â¬Ã¦Ã¤ Ã±Ã´ Ã°Ã° Â¾Ã¹ Ã¶Â¹ Ã³Ã« Ã—Ã» ÂºÃ¯ Ã«Ã¸ Ã¶ÃªÂ£Â¬Â½Â« ÃªÃ§ Â¹Â« Ã«Â¾ Ã°Ã® Ã¯Ã³ Ã¶Â± Â¹Ã» ÂµÃ¤ Ã°Â´ ÃµÃµ Â¡Â£Ã§Â° Ã¬Â¨ Â½Ã³ Â´Ã½ Ã Ã± Ã²Ã§ Â¿Â´ Ã«Ã¦ Ã®Â¢ Â²Â» Ã—Ã£ ÂµÃ Â£Â¬ÃªÂµ Ã´Ã² ÃªÂ® Â·Ã¶ Ã¶Ã¸ Ã²ÂªÂ£Â¬ÂµÂ« Ã¯Ã¶ ÃªÂµ Ã¶Ã°Â£Â¬Â¾Ã¸ Â´Ã³ Â¶Ã  ÃªÃ½ Ã§Â° Ã¬Â¨ Ã¨Ã« Ã´Â± Ã£Â» Ã³Ã° ÃªÃ¼ ÂµÂ½ Â¹Ã½ Ã¯Âµ Ã­Â³ Ã±Âµ Ã¡Â·Â£Â¬Â½Â« Ã®Ã¾ Â·Â¨ Â´Ã³ Ã¨Â« Â·Â½ Ã®Â» Â½Ã§ Â¶Ã¨ Ã¨Ã¯ Ã¶Âª Ã—Ã´ Â¼Âº Â¹Â¤ Ã—Ã· ÂµÃ¤ Ã¶Ã¸ Ã²Âª Ã°Ã´Â£Â»Ã´Ãº Ã«Ã¹ Â´Ã³ ÃªÃ¢ ÂµÃ¤ Â¹Â¤ Ã—Ã· Ã¶Ã° Â¸Ã° Â¾Ãµ Ã¨Â± Â·Â¦ Ã Ã­ Ã¢Ã» Ã¶Â§ Â³Ã¶Â£Â»Â¹Â¤ Ã—Ã· Ã¶Ã° Ã—Ã¼ ÃªÃ§ Â±Â» Â¶Â¯ Ã°Ã° ÃªÃ¢Â£Â¬Â²Â» Ã¤Ã¼ Ã¶Ã· Â¶Â¯ ÃµÃ¦ Ã®Ãµ Â¹Â¤ Ã—Ã· Â½Ãº Ã—Ã Â£Â»Ã¯Ã« Ã¥Â¬ Ã¡Â¦ Ã¬Ã¡ Ã©Ã½ Â¹Â¤ Ã—Ã· ÂµÃ¤ Ã°Â§ Ã²Ã¦Â£Â¬ÂµÂ« Ã¨Â´ Â²Â» Ã¶Âª Â´Ã³ ÂºÃ® Â´Â¦ Ã¯Ã¢ ÃªÃ¶Â£Â¬Ã¨Ã§ ÂºÃ® Â½Ãº ÃªÂ¡Â£Â»ÃµÃ¢ Ã°Â© Â¶Â¼ ÃªÃ§ Ã£Â¿ Â¸Ã¶ Ã§Â° Ã¬Â¨ Ã¨Ã« Ã´Â± Ã«Ã¹ Ã£Ã¦ Â¶Ã´ Ã³Ã« Ã Â§ Â»Ã³ ÂµÃ¤Â£Â¬Ã¨Ã§ ÂºÃ® Â°Ã± Ã®Ãµ ÃµÃ½ Ã¨Â· Â·Â½ Ã¯Ã² Â´Ã³ Â¶Ã¸ Ã±Â¸ Ã«Ã¹ Ã¬Ã¡ Ã©Ã½ Ã—Ã´ Ã©Ã­ Ã¶Â° Ã²Âµ Ã«Ã¸ Ã±Ã¸Â£Â¬Â³Ã© Ã¡Ã« Ã®Ã² Ã£Ã§ Â±Ã¸ Ã°Ã« Ã£Ã¦ Â¶Ã´ Ã³Ã« Â½Ã¢ Â¾Ã¶ ÂµÃ¤ Â¿Ã® Ã¬Ã¢Â¡Â£ Â¿Ã®Â¡Ã¬Â³Ã¬Â¡Ã¬ÃªÃµÂ¡Ã¬Ã²Ã¦Â£Âº escapenumber Ã¡Ã« Â½Ã¢ Ã—Ã· Ã®Âª Ã²Â» Â¸Ã¶ Ã—Â¨ Ã²Âµ Â»Â¯ ÂµÃ¤ Ã§Â° Ã¬Â¨ Ã°Ã° ÃµÃ¾ Ã¨Ã« Ã´Â± Ã«Ã¹ Ã°Ã¨ Â¾ÃŸ Â±Â¸ ÂµÃ¤ Ã¶Â° Ã²Âµ Ã°Ã® Ã¯Ã³ Ã³Ã« Ã©Ã¬ Ã®Ã± Â½Ã³ Â´Ã½ ÂµÃ¤ Ã¤Ãº ÂºÂ­Â£Â» escapenumber Â¾Ã  ÃµÃ½ office Ã©Ã¬ Ã®Ã± Â½Ã³ Â¼Â° Â½Ã³ ÂµÃ§ Â»Â° Ã¶Ã° Â³Â£ Â¼Ã» ÂµÃ¤ Â´Ã­ Ã®Ã³Â£Â» escapenumber Ã¡Ã« Â½Ã¢ Â½Ã³ Â´Ã½ Â¿Ã­ Â»Â§ ÂµÃ¤ Ã Ã± Ã²Ã§ Ã¯Â¸ Â½ÃºÂ£Â¬Ã¨Ã£ Ã¤Ãº ÂµÃ¤ Ã£Â¿ Ã²Â» Ã®Â» Â¿Ã­ Ã¨Ã« Â±Ã¶ Ã¶Ã¡ Ã¨Ã§ Â¹Ã©Â£Â» escapenumber Ã¬Ã¡ Â¸ÃŸ Ã§Â° Ã¬Â¨ Ã°Ã° ÃµÃ¾ Ã¨Ã« Ã´Â± ÂµÃ¤ Â¹Â¤ Ã—Ã· Ã°Â§ Ã¢Ãª Â¼Â° Â¹Â¤ Ã—Ã· Ã¶Ãª Ã¡Â¿Â£Â» escapenumber Ã´Ã« Ã³Ã£ Ã©Ãº Â¶Â¯ ÂµÃ¤ Ã³Ã¯ Ã±Ã´Â£Â¬Ã­Â¨ Ã«Ã— ÂµÃ¤ ÃªÃ¢ Ã Ã½Â£Â¬Â²Â¢ Â¼Ã³ Ã©Ã¯ Ã¯Ã¶ Â³Â¡ Ã±Ã½ ÃªÂ¾Â£Â¬Â°Ã¯ Ã¶Ãº Ã¤Ãº ÃµÃ¦ Ã®Ãµ Ã©Ã¬ Ã®Ã± Ã Ã± Ã²Ã§ Â»Ã¹ Â±Â¾ ÂµÃ¤ Ã¶Âª ÃªÂ¶ escapenumber Ã¬Ã¡ Ã©Ã½ Â¸Ã¶ Ã¨Ã« ÃµÃ» Ã¬Ã¥ Ã«Ã¸ Ã¶ÃªÂ£Â¬Â¸Ã¸ Ã¨Ã« Ã¡Ã´ Ã¯Ã¢ Ã©Ã® Â¿Ã¬ ÂµÃ¤ ÂµÃº Ã²Â» Ã³Â¡ Ã¯Ã³Â¡Â£ Ã¤ÃºÂ¡Ã¬Ã¨Ã½Â£Âº Ã²Â»Â¡Â¢Â¹Ã¦ Â·Â¶ Ã—Ã´ Â¼Âº ÂµÃ¤ Ã¶Â° Ã²Âµ Ã°Ã® Ã¯Ã³ escapenumberÂ¡Â¢Ã¶Â° Â³Â¡ ÂµÃ¤ Ã²Ã§ Ã¬Â¬ Â¹Ã¦ Â·Â¶ aÂ¡Â¢Ã²Ã§ Ã¬Â¬ ÃªÃ§ Ã©Ã¬ Ã®Ã± Â»Ã® Â¶Â¯ ÂµÃ¤ Ã¶Ã¸ Ã²Âª Ã—Ã© Â³Ã© Â²Â¿ Â·Ã¶ bÂ¡Â¢Ã­Â¸ Â¹Ã½ Ã²Ã§ Ã¬Â¬ Ã¡Ã« Â½Ã¢ Ã¨Ã« ÂµÃ¤ Ã¤Ãº Ã°Ã¤ ÃªÃ  Â½Ã§ cÂ¡Â¢Ã°Ã® Ã¬Ã¥ Ã²Ã§ Ã¬Â¬ ÂµÃ¤ Ã±Âµ Ã¡Â· Â¡Ã¹ ÃµÂ¾ Ã—Ã« Â¡Âª Ã¬Ã¥ Ã¬Â¬ Ã£Ã  ÂµÃ¤ Ã¦Ã° ÂµÃ£ Â¡Ã¹ Ã—Ã¸ Ã—Ã« Â¡Âª Â¸ÃŸ Ã±Ã¥ Ã²Ã§ Ã¬Â¬ ÂµÃ¤ ÃµÂ¹ ÃªÂ¾ Â¡Ã¹ Ã—ÃŸ Ã—Ã« Â¡Âª Â¶Â¯ Ã¬Â¬ Ã£Ã  ÂµÃ¤ ÃµÂ¹ ÃªÂ¾ dÂ¡Â¢Ã²Ã§ Ã¬Â¬ Ã³Ã¯ ÂµÃ¤ Â·Ã¶ Ã Ã  escapenumberÂ¡Â¢Â¶Â¨ Ã®Â» Ã¤Ã£ ÂµÃ¤ Ã¶Â° Ã²Âµ Ã°Ã® Ã¯Ã³ aÂ¡Â¢Â·Ã¾ ÃªÃ® Ã¤Ã¼ Â±Ã­ Â´Ã¯ Ã¤Ãº ÂµÃ¤ Ã¦Â· Ã®Â¶Â¡Â¢Ã§Ã© Â¸Ã° ÂºÃ­ Â¸Ã¶ Ã°Ã´ escapenumberÂ¡Â¢Ã¶Â° Ã²Âµ Ã—Ã¥ Ã—Â° ÂµÃ¤ Â»Ã¹ Â±Â¾ Ã´Â­ Ã´Ã² aÂ¡Â¢Ã¥Â® ÃªÂ¿ Ã¬Ã— Ã¨Â¹ Ã¬Ã— Ã—Â° bÂ¡Â¢Ã¶Â° Â³Â¡ ÃµÃ½ Ã—Â°Â¡Â° Â½Ã» Â¼Ã©Â¡Â± cÂ¡Â¢Ã—Ã¥ Ã—Â°Â¡Â° tpoÂ¡Â± Ã´Â­ Ã´Ã² dÂ¡Â¢Â·Ã¾ ÃªÃ® Ã³Ã« ÃªÃ® Ã®Ã¯ ÂµÃ¤ Ã±Â¡ Ã³Ã£ escapenumberÂ¡Â¢Â¸Ã¶ Ã¨Ã« Ã°Ã® Ã¯Ã³ Ã©Ã¨ Â¼Ã¦ aÂ¡Â¢Â»Â¯ Ã—Â± Ã¦Â· ÂµÃ¤ Ã¶Ã¶ Ã Ã  bÂ¡Â¢Â»Â¯ Ã—Â± Â¹Ã¦ Ã´Ã² cÂ¡Â¢Ã¯Ã£ Ã«Â® ÂµÃ¤ ÃªÂ¹ Ã³Ã£ dÂ¡Â¢Â±Ã­ Ã§Ã© Â¡Âª Ã¤Ãº Ã°Ã¤ ÃªÃ  Â½Ã§ ÂµÃ¤ Â´Â° Â¿Ãº Ã¤Â¿ Â¹Ã¢Â¡Â¢Ã°Â¦ Ã¨Ã½ Â¶Ã¾Â¡Â¢Ã®Ã± Â±Ã¸ ÃµÃ¦ Ã®Ãµ ÂµÃ¤ Â¹Â« Ã«Â¾ Ã¤Ãº Â²Â¿ Ã¶Ã¨ Ã°Ã² escapenumberÂ¡Â¢Ã Ã« Ã—Ã¹ ÂºÃ­ Ã­Ã¢ Â³Ã¶ escapenumberÂ¡Â¢Ã±Ã¯ ÃªÃ¸ Â¹Â¤ Ã—Ã· ÃªÂ± Â¼Ã¤ escapenumberÂ¡Â¢Ã¯Ã° Ã¬Â¸ Ã³Ã« Â½Â» Ã¬Â¸ escapenumberÂ¡Â¢Ã—Ã± ÃªÃ¸ Â¹Â« Ã«Â¾ Ã¶Ã¦ Â¶Ã¨ escapenumberÂ¡Â¢Â¹Ã¸ Ã³Ãº Ã¶Â° Ã²Âµ ÂµÃ  ÂµÃ¢ Ã¨Ã½Â¡Â¢Ã©Ã¬ Ã®Ã± Â½Ã³ Â´Ã½ ÂµÃ¤ Â¼Â¼ Ã§Ã© Ã³Ã« Ã±Âµ Ã¡Â· escapenumberÂ¡Â¢Ã¨Ãµ Â³Â£ Â½Ã³ Â´Ã½ Â¹Â¤ Ã—Ã· aÂ¡Â¢Â½Ã³ Ã²Ã½ bÂ¡Â¢Â´Ã® Â³Ã« ÂµÃ§ Ã¬Ã½ cÂ¡Â¢Â·Ã® Â²Ã¨ dÂ¡Â¢Ã«Ã­ Â¿Ã­ escapenumberÂ¡Â¢Â½Ã³ Â´Ã½ Â²Â» Ã«Ã¹ Ã¶Â® Â¿Ã­ aÂ¡Â¢Â»Ã» Ã±Ã» ÃªÂ¶Â¡Â°Ã¨Ã«Â¡Â± bÂ¡Â¢Ã«ÂµÂ¡Â°Â²Â»Â¡Â± ÂµÃ¤ Ã²Ãµ ÃªÃµ cÂ¡Â¢Â½Ã³ Â´Ã½ Ã­Â¶ Ã«ÃŸ ÃµÃŸ escapenumberÂ¡Â¢Â½Ã³ Â´Ã½ Ã¶Ã¸ Ã²Âª Â±Ã¶ Â¿Ã­ aÂ¡Â¢Ã³Ã°Â¡Â°Â±Â¸Â¡Â± Ã®Ã¾ Â»Â¼ bÂ¡Â¢Â½Ã³ Â´Ã½ Â³Ã¬ Ã°Ã² cÂ¡Â¢Ã Ã± Ã¦Â· ÂµÃ¤ Ã±Â§ Ã®Ãª dÂ¡Â¢Â³Ã« Â³Âµ ÂµÃ¤ Ã—Ã¹ Â´Ã® Ã«Ã¤Â¡Â¢ÂµÃ§ Â»Â° ÂµÃ¤ Ã Ã± Ã²Ã§ Ã³Ã« Â¼Â¼ Ã§Ã© escapenumberÂ¡Â¢Ã¨Ã§ ÂºÃ® Â½Ã³ Ã¬Ã½ ÂµÃ§ Â»Â° aÂ¡Â¢Â½Ã³ Ã¬Ã½ ÂµÃ§ Â»Â° ÂµÃ¤ Â¹Ã¦ Â·Â¶ Ã³Ã£ Ã³Ã¯ bÂ¡Â¢Â°Ã¬ Â¹Â« ÃªÃ² Â³Â£ Â¼Ã» ÂµÃ§ Â»Â° ÂµÃ¤ Â½Ã³ Ã¬Ã½ cÂ¡Â¢Â½Ã³ Ã¬Ã½ ÂµÃ§ Â»Â° ÂµÃ¤ Â³Â£ Â¼Ã» Â´Ã­ Ã®Ã³ dÂ¡Â¢Ã¨Ã§ ÂºÃ® Â¶Ã´ Â¸Â¶ Ã¬Ã¶ Ã±Ã¡ ÂµÃ¤ ÂµÃ§ Â»Â° eÂ¡Â¢Â½Ã³ Ã¬Ã½ ÂµÃ§ Â»Â° ÂµÃ¤ Ã²Âª Â¾Ã¶ escapenumberÂ¡Â¢ÂµÃ§ Â»Â° Â¹Âµ Ã­Â¨ Â¼Â¼ Ã§Ã© aÂ¡Â¢ÂµÃ§ Â»Â° Â¹Âµ Ã­Â¨ escapelong bÂ¡Â¢Ã¨Ã§ ÂºÃ® Â½Ã¡ ÃªÃ¸ Ã­Â¨ Â»Â° cÂ¡Â¢Ã—Âª Â½Ã³ ÂµÃ§ Â»Â° Ã®Ã¥Â¡Â¢Â±Ã¸ Â±Â¸ ÂµÃ¤ Ã©Ã¬ Ã®Ã± Â³Â£ ÃªÂ¶ escapenumberÂ¡Â¢ÃªÃµ Â·Â¢ e mail escapenumberÂ¡Â¢ÃªÃµ Â·Â¢ fax escapenumberÂ¡Â¢Ã—Ãª Ã¡Ã¯ ÂµÃ¤ ÃµÃ» Ã Ã­ Ã¡Ã¹Â¡Â¢ÃªÂ± Â¼Ã¤ Â¹Ã¼ Ã Ã­ escapenumberÂ¡Â¢Â¿Â´ Â´Ã½ ÃªÂ± Â¼Ã¤ ÂµÃ¤ Â¼Â¸ Ã¶Ã¶ Â¹Ã» ÂµÃ£ escapenumberÂ¡Â¢ÃªÂ± Â¼Ã¤ ÂµÃ¤ Â·Ã¶ Ã¥Ã¤ escapenumberÂ¡Â¢ÃªÂ± Â¼Ã¤ Â¼Ã» Ã¶Âµ Ã«Âµ escapenumberÂ¡Â¢Ã Ã« Â·Ã± ÃªÂ± Â¼Ã¤ ÂµÃ¤ Ã´Â­ Ã²Ã² escapenumberÂ¡Â¢Â¸ÃŸ Ã°Â§ ÃªÂ± Â¼Ã¤ Â¹Ã¼ Ã Ã­ ÂµÃ¤ Â»Ã¹ Â±Â¾ Ã—Â¼ Ã´Ã² escapenumberÂ¡Â¢ÃªÂ± Â¼Ã¤ Â¹Ã¼ Ã Ã­ ÂµÃ¤ Â·Â½ Â·Â¨ ÂºÃ­ Â¼Â¼ Ã§Ã© Ã¦ÃŸÂ¡Â¢Â¿Ã® Â³Ã¬ Ã—Ã¼ Â½Ã¡ escapenumberÂ¡Â¢Â¸Ã¤ Ã©Ã¦ ÂµÃ¤ Â¹Ã¬ Â¼Â£ escapenumberÂ¡Â¢Ã°Ã¥ Ã¤Ã®Â¡Â¢Ã¯Â° Â¹ÃŸ ÂºÃ­ Â·Â½ Â·Â¨ Â½Â²Â¡Ã¬ÃªÂ¦Â¡Ã¬Â¼Ã²Â¡Ã¬Â½Ã© Â¿Ã¯ Ã¯Ã¨Ã©ÃºÂ£Â¬Â¹Â¤ Ã©Ã¬ Â¹Ã¼ Ã Ã­ Ã«Â¶ ÃªÂ¿Â£Â¬ÃªÂµ ÃµÂ½ Ã°Ã­ Â¿Ã­ Â»Â§ Â·Ã¾ Ã®Ã± Â¹Ã¼ Ã Ã­ Ã—Â¨ Â¼Ã²Â¡Â£Ã´Ã¸ Ã¨Ã® Â¿Ã§ Â¹Ãº Â¹Â« Ã«Â¾ ÃªÃ° Â³Â¡ Â²Â¿ Â¾Â­ Ã Ã­Â¡Â¢ Â¿Ã­ Â·Ã¾ Ã—Ã¼ Â¼Ã Â£Â¬Ã¥Ã  Ã±Âµ Ã—Ã¼ Â¼Ã Â£Â»Ã³Ã° Â³Â¬ Â¹Ã½ escapenumber Ã¤Ãª ÂµÃ¤ Â·Ã¾ Ã®Ã± Â¹Ã¼ Ã Ã­ Â¼Â° Ã¥Ã  Ã±Âµ Â¾Â­ Ã±Ã©Â¡Â£Â¿Ã¯ Ã¯Ã¨ Ã©Ãº Ã´Ãº Â³Â¤ Ã¦Ãº ÂµÃ¤ Â½Ã¬ Ã±Â§ ÃªÂµ Â¼Ã¹ Ã¶Ã°Â£Â¬Â¸Ã¹ Â¾Ã½ Â³Ã© Ã¨Ã« Ã±Â§ Ã¯Â° ÂµÃ¤ Ã¬Ã¸ ÂµÃ£ ÂºÃ­ Ã¯Â° Â¹ÃŸÂ£Â¬Ã¤Ã¼ Â½Â« Â¿Ã½ Ã´Ã¯ ÂµÃ¤ Ã Ã­ Ã¢Ã» Â»Â¯ Â·Â± Ã®Âª Â¼Ã²Â¡Â¢Â»Â¯ Â¼Ã² Ã®Âª Ã²Ã—Â¡Â¢Â»Â¯ Ã²Ã— Â³Ã© Ã¨Â¤Â¡Â£ Ã—Ã´ Ã¶Â® Ã´Ãº Â¿Ã® Â³Ã¬ Ã¶Ã° Â´Â© Â²Ã¥ Â´Ã³ Ã¡Â¿ÂµÃ¤ Ã³Ã® Ã¯Â· ÂºÃ­ Ã¤Â£ Ã¤Ã¢ Ã¡Â· Ã¯Â°Â£Â¬ÃªÂ¹ Ã±Â§ Ã´Â± Ã´Ãº Â¿Ã¬ Ã Ã¶ Ã±Â§ Ã¯Â° Ã¶Ã° Ã¡Ã¬ Ã®Ã² Ã°Ã¢ ÂµÃ¤ Ã«Â¼ Â¿Â¼ Ã¤Â£ ÃªÂ½Â£Â¬ÃµÃ¦ Ã®Ãµ Ã¨Â« Ã°Ã¢ ÂµÃ¤ Ã Ã­ Ã¤Ã® Â¼Â° Â¼Â¼ Ã§Ã©Â¡Â£Ã¦Ã¤ Ã¬Ã¸ Ã³Ã° ÂµÃ¤ Ã¨Ã¨ Ã§Ã© ÂºÃ­ Ã²Ã½ ÂµÂ¼ Ã¤Ã¼ Ã¡Â¦ Ã²Ã´ Â¼Â° Ã§Â¿ Ã¡Ã² Â½Ã¢ Â¾Ã¶ Ã®ÃªÃ¬Ã¢ ÂµÃ¤ ÃªÂ¹ Ã£Ã¼ Â¸Ã°Â£Â¬ ÃªÂ¹ Ã«Ã» ÂµÃ¤ Â¿Ã® Â³Ã¬ Â¼Ã¨ Ã³Ã° Â¸Ã° Ã¨Â¾ Ã¡Â¦Â£Â¬Ã³Ã¶ Â¾ÃŸ Ã³Ã° ÃªÂµ ÃµÂ½ Ã°Ã´Â¡Â£ÃªÃº Â¿Ã® Â·Ã§ Â¸Ã± Â»Ã® Ã¦Ã£ Ã³Ã¤ Ã¤Â¬Â£Â¬Â¿Ã® Ã¬Ã£ Ã¦Ã¸ Â·Ãµ Â»Ã® Ã´Â¾Â£Â¬Ã¥Ã  Ã±Âµ Ã°Â§ Â¹Ã» Ã¢Ãº Ã²Ã¢ Ã¢Ãª Â±Â£ Â³Ã¶ escapenumberÂ£Â¥ Ã²Ã´ Ã©Ã¯Â¡Â£ Ã´Ã¸ Â½Ã³ ÃªÃ¼ Ã¥Ã  Ã±Âµ Â¼Â° Ã—Ã© Ã±Â¯ ÂµÃ¤ Â²Â¿ Â·Ã¶ Ã¦Ã³ Ã²ÂµÂ£ÂºÂ¿Â¨ Â¸Â¥ Ã Â¼ Â³Ã· Â¾ÃŸÂ¡Â¢Ã«Â³ ÂµÃ¢ Ã²Ã¦ Â¶Â¯Â¡Â¢escapenumbercn comÂ¡Â¢Â¹Ã£ Ã¶Ã½ Ã°Ã¥ Â³Ã¯ Ã¨Ã« ÃªÃ¹Â¡Â¢Ã©Ã¯ ÂºÂ£ Ã¦Â½ Â°Â² Â±Â£ Ã¯ÃµÂ¡Â¢Â¹Ã£ Ã¶Ã½ ÃªÂ© Ã¤Ã­ ÂµÃ¢Â¡Â¢Â¶Â« Ã½Â¸ ÂµÃ¢ Ã©Ãº Â¼Â¯ Ã­Ã¥Â¡Â¢Â¹Ã£ Â¶Â« Â»Ã½ Ã¦Ã¶ ÂµÃ§ Ã—Ã³Â¡Â¢Ã©Ã® Ã»Ãº Ã³Ã£ Ã³Ã± Ã¨Ã­ Â¼Ã¾Â¡Â¢Ã¯Ã£ Â¸Ã» Ã²Ã¸ Ã¬Ã» Â¼Â¯ Ã­Ã¥Â¡Â¢Ã©Ã® Ã»Ãº Ã­Ã² Â¿Ã¦ ÂµÃ¸ Â²ÃºÂ¡Â¢Â¿Âª Ã¦Â½ Â»Ã´ Ã¤Ã¡ Ã­Ã¾ Â¶Ã»Â¡Â¢Ã£Ã  Â¹Ãº ÂµÃ§ Â»Â° ÂµÃ§ Â±Â¨ Â¹Ã£ Ã¶Ã½ Â·Ã¶ Â¹Â« Ã«Â¾Â¡Â¢Ã¶Ã° Ã©Â½ ÂµÃ§ Ã°Ã¥Â¡Â¢ÂºÂ£ Ã¤Ã¯ Â¿Ã© Â¿Ãº Â¿Ã© Ã Ã¶ Â¹Â« Ã«Â¾Â¡Â¢Ã£Ã  ÂµÃ¤ Ã©Ã¬ Ã³Ã£ Â¿Ãµ ÂµÃ·Â¡Â¢ Ã©Ã® Ã»Ãº Ã¤Âª Ã¤Ã¡Â¿Â¨ Ã£Ã  Ã¤Ã¼ Â´Ã¯ Ã©Ã¬ Ã³Ã£ Â¿Ã¦ Â¼Â¼ ÂµÃ¨ ÂµÃ¨Â¡Â£ Â¡Â¡Â¡Â¶ Â»Ã¸ Ã¶Â´ Â¡Â· ÂµÂ¥ Ã®Â» Ã£Ã» Â³Ã¦ Ã¡Âª Ã¯Âµ Ã¨Ã« Â²Â¿ Ã£Ã¥Â£Âº ÂµÃ§ Â»Â° Â´Â« ÃµÃ¦ Ã³Ãª Â¼Ã¾ Â¡Â¡ Â²Ã® Â»Ã¡ Ã¨Ã« ÃªÃ½ Ã¨Ã« Ã°Ãµ Ã£Ã» ÂµÃ§ Â»Â°Â£Âº ÃªÃ¶ Â»ÃºÂ£Âº Ã°Ãµ Ã£Ã» ÂµÃ§ Â»Â°Â£Âº ÃªÃ¶ Â»ÃºÂ£Âº Â¡Â¡ Ã°Ãµ Ã£Ã» ÂµÃ§ Â»Â°Â£Âº ÃªÃ¶ Â»ÃºÂ£Âº Â¡Â¡ Ã°Ãµ Ã£Ã» ÂµÃ§ Â»Â°Â£Âº ÃªÃ¶ Â»ÃºÂ£Âº Â¸Â¶ Â¿Ã® Â·Â½ ÃªÂ½ Â¡ÃµescapenumberÂ¡Â¢Ã¯Ã¶ Â½Ã° Â¡ÃµescapenumberÂ¡Â¢Ã—Âª ÃµÃª Â¡ÃµescapenumberÂ¡Â¢ÂµÃ§ Â»Ã£ Â²Ã® Â»Ã¡ Â·Ã± Ã³Ã£ Â£Â¤Â£Âº Ã´Âª Ã—Â¡ Ã«Ã¾ Ã²Âª Ã§Ã³Â£Â¨Ã°Â­ Ã¶Ãº Â°Â² Ã¥Ã¥Â£Â¬Â·Ã± Ã³Ã£ Ã—Ã´ Ã Ã­Â£Â© ÃªÃ§ Â¡Ãµ Â·Ã± Â¡Ãµ Ã—Â¡ Ã«Ã¾ Ã¨Ã« Ã—Â¡ Ã¬Ã¬ ÃªÃ½Â£Â¨ Â£Â©Ã¬Ã¬ Ã¨Ã« Ã—Â¡ ÃªÂ± Â¼Ã¤ escapenumber Ã¤Ãª Ã´Ã¢ Ã¨Ãµ Â±Ãª Ã«Â« Â¡Ãµ Â£Â¨ Â£Â©Â¼Ã¤ Â±Ãª ÂµÂ¥ Â¡Ãµ Â£Â¨ Â£Â©Â¼Ã¤ Â²Ã® Â»Ã¡ Â·Â½ ÃªÂ½Â£ÂºÃ§Ã« Ã¤Ãº Â°Ã± Â»Ã¸ Ã¶Â´ Â±Ã­ Ã¬Ã® Ã°Â´ ÂºÃ£ Â»Ã¸ Â´Â« Ã¶Ã¡ escapenumber escapenumberÂ£Â©Â£Â­ escapenumber escapenumber Â£Â¬Â¿Ã® Ã§Â° Ã²Â» Ã°Ã§ Ã¦Ãº Ã¤Ãº Â½Â« Â»Ã¡ ÃªÃµ ÂµÂ½ Â´Â« ÃµÃ¦ ÂºÂ¯Â£Â¬Â°Ã¼ Ã Â¨ Ã¥Ã  Ã±Âµ Ã—Â¢ Ã²Ã¢ ÃªÃ¢ Ã¯Ã® Â¼Â° Ã¯Ãª Ã¯Â¸ Â°Â² Ã¥Ã¥Â¡Â£</th>\n",
       "      <td>1.0</td>\n",
       "      <td>1.0</td>\n",
       "      <td>NaN</td>\n",
       "      <td>1.0</td>\n",
       "      <td>1.0</td>\n",
       "      <td>1.0</td>\n",
       "      <td>1.0</td>\n",
       "      <td>1.0</td>\n",
       "    </tr>\n",
       "    <tr>\n",
       "      <th>Ã°Ã¢Â¡Â°Ã¦Ã³Ã²ÂµÃ«Ã¹ÂµÃ£Ã«Â°Â·Â¨Â¡Â±ÂµÃ¤Â±Ã¤Â»Â¯Â·Ã¶Ã®Ã¶Ã³Ã« Â±Ã¼Ã«Â° Â³Ã¯Â»Â®Ã«Â¼Ã¢Â· Â¿ÂªÂ¿Ã®Ã¨ÃµÃ¦Ãº escapenumberÃ¤ÃªescapenumberÃ´Ã¢escapenumber escapenumberÃ¨Ãµ Â¿ÂªÂ¿Ã®ÂµÃ¸ÂµÃ£ Ã©Ã®Ã»Ãº Â½Ã°Ã¨ÃºÃ¥Ã Ã±ÂµÃ¶Ã°Ã°Ã¤ Â¿ÂªÂ¿Ã®Ã¨ÃµÃ¦Ãº escapenumberÃ¤ÃªescapenumberÃ´Ã¢escapenumber escapenumberÃ¨Ãµ Â¿ÂªÂ¿Ã®ÂµÃ¸ÂµÃ£ Ã©Ã¯ÂºÂ£ Â½Ã°Ã«Â®Ã­Ã¥Â´Ã³Â¾Ã¦ÂµÃª Â¿ÂªÂ¿Ã®Ã¨ÃµÃ¦Ãº escapenumberÃ¤ÃªescapenumberÃ´Ã¢escapenumber escapenumberÃ¨Ãµ Â¿ÂªÂ¿Ã®ÂµÃ¸ÂµÃ£ Â±Â±Â¾Â© Ã°Ã¢Ã°Ã«Â¾Ã¦ÂµÃª ÃªÃµÂ·Ã±Â±ÃªÃ—Â¼Â£ÂºÂ£Â¤escapenumber Ã¨Ã«Â£Â¨ÂºÂ¬ÃªÃºÂ¿Ã®Â·Ã±Â¡Â¢Ã—ÃªÃ¡Ã¯Â·Ã±Â¡Â¢Â»Ã¡Ã®Ã±Â·Ã±Â¡Â¢Ã®Ã§Â²Ã­Â·Ã±Â£Â© ÂµÃ§Â»Â° escapenumber escapenumber escapenumber Ã¡ÂªÃ¯Âµ Ã¥Ã Ã±ÂµÂ²Â¿ ÃµÃ¥Ã¯Ã¨Ã©Ãº Ã¶Ã¼Ã°Â¡Â½Ã£ Ã¡ÂºÃ°Â¡Â½Ã£ Ã­ÃµÃ°Â¡Â½Ã£ Ã Ã®Ã¯Ã¨Ã©Ãº Â´Â«ÃµÃ¦ escapenumber escapenumber Â¿Ã®Â³Ã¬Ã©Ã¨Ã¶Ã£Â£Âº Ã¦Ã´Â·Â¢ÃªÂ½Â½Â²ÃªÃºÂ¡Â¢Â»Â¥Â¶Â¯ÃªÂ½Â½Ã¬Ã±Â§Â¡Â¢Ã°Â¡Ã—Ã©Ã³Ã®Ã¯Â·Â¡Â¢Â½Ã§Ã©Â«Â°Ã§Ã±Ã½Â¡Â¢Â°Â¸Ã Ã½Â·Ã¶Ã®Ã¶ ÃªÃªÃ³Â¦Â¶Ã´Ã¯Ã³Â£Âº Â¸Ã·Â¼Â¶ÃµÃ¾Â¸Â®Â²Â¿Ã£Ã¥Â¸ÂºÃ´Ã°Â²Ã¦Ã®Ã±Â¹Â¤Ã—Ã·ÂµÃ¤Ã¡Ã¬ÂµÂ¼Â¡Â¢Â¹ÃºÃ³Ã°Â´Ã³Ã¶Ã°Ã°Ã­Ã¦Ã³Ã²ÂµÂ¡Â¢Ã©Ã¯ÃªÃ°Â¹Â«Ã«Â¾Â¡Â¢Â¹Ã©Â·Ã½Ã¶Ã¦Ã¦Ã³Ã²ÂµÂ¡Â¢Ã£Ã±Ã³ÂªÃ¦Ã³Ã²ÂµÂ¡Â¢ Ã¶Ã°Ã­Ã¢ÂºÃ¯Ã—ÃªÃ¦Ã³Ã²ÂµÂ¡Â¢Ã­Ã¢Ã©Ã¬Â¶Ã Ã—ÃªÃ¦Ã³Ã²ÂµÂ¡Â¢Â»Ã¡Â¼Ã¦ÃªÂ¦ÃªÃ¢Ã®Ã±Ã«Ã¹Â¼Â°ÃªÃ¢Ã²ÂµÂ¿Ã¦Ã±Ã°ÂµÂ¥Ã®Â»ÂµÃ¤Â¶Â­ÃªÃ¢Â³Â¤Â¡Â¢Ã—Ã¼Â¾Â­Ã Ã­Â¡Â¢Ã—Ã¼Â»Ã¡Â¼Ã¦ÃªÂ¦Â¡Â¢Â²Ã¦Ã®Ã±Ã—Ã¼Â¼Ã  Â£Â¨Â¾Â­Ã Ã­Â£Â©Â¡Â¢Â²Ã¦Ã®Ã±Ã—Ã¼Â¼Ã ÂºÃ³Â±Â¸Ã¨Ã«Ã±Â¡Â£Â»Â²Ã¦Ã®Ã±Â´Â¦Â³Â¤Â£Â¨Â¿Ã¦Â³Â¤Â£Â©Â¡Â¢Â»Ã¡Â¼Ã¦Ã¶Ã·Â¹Ã¼ÂµÃ¨Ã¯Ã Â¹Ã¸Â»Ã¡Â¼Ã¦Ã¨Ã«Ã´Â±Â£Â» Â¿Ã®Â³Ã¬Â±Â³Â¾Â° escapenumberÃ¤ÃªescapenumberÃ´Ã¢ÂµÃºÃªÂ®Â½Ã¬Ã¨Â«Â¹ÃºÃ¨Ã«Ã£Ã±Â´ÃºÂ±Ã­Â´Ã³Â»Ã¡ÂµÃºÃ®Ã¥Â´Ã®Â»Ã¡Ã²Ã©Ã´ÃºÂ¾Â©ÃµÃ¹Â¿ÂªÂ£Â¬Â´Ã³Â»Ã¡Â¶Ã´Â¡Â¶Ã¶Ã°Â»ÂªÃ¨Ã«Ã£Ã±Â¹Â²ÂºÃ­Â¹ÃºÃ¦Ã³Ã²ÂµÃ«Ã¹ÂµÃ£Ã«Â°Â·Â¨Â¡Â·Â½Ã¸Ã°Ã° Ã¡Ã«Ã©Ã³Ã²Ã©Â²Â¢Â±Ã­Â¾Ã¶Ã­Â¨Â¹Ã½Â¡Â£Ã¨Â«Â¹ÃºÃ¨Ã«Â´Ã³Ã¶Ã¦Â¶Â¨Ã­Â³Ã²Â»ÂµÃ¤Ã¦Ã³Ã²ÂµÃ«Ã¹ÂµÃ£Ã«Â°Â·Â¨Â£Â¬Ã®ÂªÃ®Ã²Â¹ÃºÂ¸Ã·Ã¦Ã³Ã²ÂµÂ´Â´Ã´Ã¬Ã²Â»Â¸Ã¶Â³Ã©ÃªÃ¬Â¹Ã¦Â·Â¶Â¡Â¢Â¹Â«Ã¦Â½Â¾ÂºÃµÃ¹ÂµÃ¤ Ã«Â°ÃªÃµÂ·Â¨Ã¶Ã¦Â»Â·Â¾Â³Â¡Â£Â¡Â°Ã¡Â½Ã«Â°ÂºÃ¯Â²Â¢Â¡Â±ÂºÃ³ÂµÃ¤Ã¦Ã³Ã²ÂµÃ«Ã¹ÂµÃ£Ã«Â°Â·Â¨Â£Â¬Â·Ã»ÂºÃ¯Â¡Â°Â¼Ã²Ã«Â°Ã¶Ã¦Â¡Â¢Â¿Ã­Ã«Â°Â»Ã¹Â¡Â¢ÂµÃ­Ã«Â°Ã¢ÃªÂ¡Â¢Ã±Ã¯ÃµÃ·Â¹Ã¼Â¡Â±ÂµÃ¤Ã«Â°Ã¶Ã¦Â¸Ã¤ Â¸Ã¯Â¾Â«Ã©Ã±Â£Â¬Ã—Ã±Ã±Â­Ã¡Ã«Â¹ÃºÃ£Ã±Â´Ã½Ã³Ã¶Ã´Â­Ã´Ã²Â£Â¬Ã¦Ã¤Ã¶Ã·Ã²ÂªÃ¬Ã¥Ã¯Ã¶Ã´ÃºÂ¡Â°Ã«Ã¤Â¸Ã¶Ã­Â³Ã²Â»Â¡Â±Â¡Â¢Â¡Â°Ã«Ã¤Ã¶Ã¶Â·Â½ÃªÂ½Â¡Â±Â¡Â¢Â¡Â°Ã²Â»Ã¯Ã®ÃµÃµÂ¹Ã«Â¡Â±Â¡Â¢Â¡Â°Ã²Â»Â¸Ã¶Â¹Ã½ Â¶Ã©Â¡Â±Â¡Â¢Â¡Â°Ã¡Â½Ã°Ã¢Â¸Ã¥Ã¤Ã®Â¡Â±Â¡Â¢Â¡Â°Ã®Ã¥Ã¯Ã®Â¿Ã»Â³Ã½Â¡Â±ÂºÃ­Â¡Â°Ã²Â»ÃªÃµÃ²Â»Ã£Ã¢Â¡Â±ÂµÃ¨Â±Ã¤Â»Â¯Â¡Â£Ã­Â¬ÃªÂ±Â£Â¬Ã®ÂªÃ¥Ã¤ÂºÃ¯Â¡Â°Ã¡Â½Ã«Â°ÂºÃ¯Â²Â¢Â¡Â±ÂµÃ¤Â¸Ã¤Â¸Ã¯Â£Â¬Â¹ÃºÂ¼Ã² Â½Â«Â½Ã¸Ã²Â»Â²Â½Ã Â©Â´Ã³Ã´Ã¶Ã¶ÂµÃ«Â°Ã³Ã©Â¡Â°Ã©ÃºÂ²ÃºÃ°Ã­Â¡Â±Ã¯Ã²Â¡Â°Ã¯Ã»Â·Ã±Ã°Ã­Â¡Â±Ã—ÂªÃ°Ã­ÂµÃ¤ÃªÃ´ÂµÃ£Â·Â¶Ã®Â§Â£Â¬Â»Â¹Â½Â«Â¶Ã´Â·Â¿ÂµÃ¸Â²ÃºÂµÃ¨Ã°Ã°Ã²ÂµÂµÃ¤Ã³Ã°Â¹Ã¸Ã«Â°ÃªÃµÃµÃ¾Â²ÃŸ Â½Ã¸Ã°Ã°ÂµÃ·ÃµÃ»Â£Â¬Â²Â¢Ã§Ã²Â´Ã³escapenumberÃ¤ÃªescapenumberÃ´Ã¢escapenumberÃ¨ÃµÃ¦Ã°Â¿ÂªÃªÂ¼Ã¶Â´Ã°Ã°Ã°Ã¢Â¡Â¶escapenumberÃ¤ÃªÂ¹Ã¸Ã«Â°ÃªÂµÃªÂ©Â·Â½Â°Â¸Â¡Â·Â¡Â¾Ã«Â°Ã®Â¯Â»Ã¡Â£Â¨escapenumberÂ£Â©escapenumberÂºÃ¥Â¡Â¿Ã®Ã¤Â£Â¬Â¹Ã¸ Ã«Â°Ã—Ã¶Ã¡Ã«Ã¨Â«Ã£Ã¦ÂµÃ·ÃµÃ»Â¡Â£Ã£Ã¦Â¶Ã´Â½Â¨Â¹ÃºÃ²Ã´Ã Â´ÂµÃºÂ¶Ã¾Â´Ã®Ã«Â°ÃªÃµÃµÃ¾Â²ÃŸÂµÃ¤Ã¶Ã¸Â´Ã³Â¸Ã¤Â¸Ã¯Â£Â¬Ã®Ã²Ã£Ã§Â¹Ã£Â´Ã³Ã¦Ã³Ã²ÂµÃ—Ã¶ÂµÂ½Ã®Â´Ã³ÃªÂ³Ã±Ã§Ã±Â£Â¬ÂºÃ£ÃµÃ¾Â²ÃŸÃ²ÂªÃ´Ã§ Ã´Ã«Ã³Ã£Â¡Â¢Ã´Ã§ÃªÃ¼Ã²Ã¦Â£Â¬Â¾Â¡Ã´Ã§ÂµÃ·ÃµÃ»Ã¦Ã³Ã²ÂµÂ¼Ã¼Â¹Â¹ÂºÃ­Ã­Â¶Ã—ÃªÂ²ÃŸÃ¢Ã´Â£Â¬Ã¨Â¥ÃªÃªÃ³Â¦Ã°Ã¢ÂµÃ¤Ã«Â°ÃªÃµÃ³Ã¥Â»Ã½ÃµÃ¾Â²ÃŸÂ¡Â£ Â¿Ã®Â³Ã¬Ã¤ÃºÃ¨Ã½ ÂµÃºÃ²Â»Â²Â¿Â·Ã¶Ã°Ã¢Ã¦Ã³Ã²ÂµÃ«Ã¹ÂµÃ£Ã«Â°Â·Â¨Â²Ã½Â°Â¸ÂµÃ¤Ã´Ã­Ã¤Ã°ÂºÃ­Ã©Ã³Ã²Ã© Ã²Â»Â¡Â¢ Ã®Ã²Â¹ÃºÃ¯Ã¶Ã°Ã°Ã¤ÃºÃ—ÃªÂºÃ­Ã­Ã¢Ã—ÃªÃ¦Ã³Ã²ÂµÃ«Ã¹ÂµÃ£Ã«Â°Ã«Â°Ã¶Ã¦Ã¶Ã·Ã²ÂªÂ²Ã®Ã²Ã¬ÂµÃ¤Â±Ã¨Â½Ã¯ Â¶Ã¾Â¡Â¢ Ã°Ã¢Ã¦Ã³Ã²ÂµÃ«Ã¹ÂµÃ£Ã«Â°Â·Â¨Â²Ã½Â°Â¸ÂµÃ¤Ã´Ã­Ã¤Ã°ÂºÃ­Ã©Ã³Ã²Ã© Ã¨Ã½Â¡Â¢Ã°Ã¢Ã¦Ã³Ã²ÂµÃ«Ã¹ÂµÃ£Ã«Â°Â·Â¨Â²Ã½Â°Â¸ÂµÃ¤Â±Ã¤Â»Â¯Ã¨Ã¨ÂµÃ£ Ã«Ã¤Â¡Â¢Â¡Â°Â¶Ã¾Ã«Â°ÂºÃ¯Â²Â¢Â¡Â±ÂµÃ¤Ã¶Ã¸Â´Ã³Ã²Ã¢Ã²Ã¥ ÂµÃºÂ¶Ã¾Â²Â¿Â·Ã¶Â¡Â°Ã¡Â½Ã«Â°ÂºÃ¯Â²Â¢Â¡Â±ÂµÃ¤Ã°Ã¢Â¸Ã¥Ã¤Ã®Â·Ã¶Ã®Ã¶Ã³Ã«Ã³Â¦Ã³Ã£ Ã²Â»Â¡Â¢Â¾Ã³Ã£Ã±Ã¦Ã³Ã²ÂµÃ³Ã«Â·Ã§Â¾Ã³Ã£Ã±Ã¦Ã³Ã²ÂµÂµÃ¤Ã§Ã¸Â±Ã°Â¼Â°Ã¦Ã¤Â·Ã¶Ã®Ã¶ escapenumberÂ¡Â¢Â¾Ã³Ã£Ã±Ã¦Ã³Ã²ÂµÃ³Ã«Â·Ã§Â¾Ã³Ã£Ã±Ã¦Ã³Ã²ÂµÂµÃ¤Â¸Ã¥Ã¤Ã®Â¼Â°Â»Â®Â·Ã¶Â±ÃªÃ—Â¼ escapenumberÂ¡Â¢Â¾Ã³Ã£Ã±Ã¦Ã³Ã²ÂµÃ³Ã«Â·Ã§Â¾Ã³Ã£Ã±Ã¦Ã³Ã²ÂµÃ«Ã¹Â¶Ã´Ã³Â¦ÂµÃ¤Ã«Â°ÃªÃµÃµÃ¾Â²ÃŸÂ¼Â°ÃµÃ·ÃªÃµÂ¹Ã¼Ã Ã­ Â¶Ã¾Â¡Â¢Ã¶Â±Â½Ã³Ã«Â°ÂºÃ­Â¼Ã¤Â½Ã³Ã«Â°ÂµÃ¤Ã§Ã¸Â±Ã°Â¼Â°Ã¦Ã¤Â·Ã¶Ã®Ã¶ escapenumberÂ¡Â¢Ã«Â°ÃªÃµÂµÃ¤Â·Ã¶Ã Ã Â¼Â°Â²Â»Ã­Â¬Â¹ÃºÂ¼Ã²Ã«Â°Ã¶Ã¦Â½Ã¡Â¹Â¹ÂµÃ¤Â²Ã®Ã²Ã¬ escapenumberÂ¡Â¢Ã¶Â±Â½Ã³Ã«Â°ÂºÃ­Â¼Ã¤Â½Ã³Ã«Â°ÂµÃ¤Â·Ã¶Ã Ã Â¼Â°Ã¬Ã¸ÂµÃ£ escapenumberÂ¡Â¢Ã¶Â±Â½Ã³Ã«Â°ÂºÃ­Â¼Ã¤Â½Ã³Ã«Â°ÂµÃ¤Â·Â¨Ã±Â§Ã Ã­Â½Ã¢Â¼Â°Ã²Ã¢Ã²Ã¥ Ã¨Ã½Â¡Â¢Â¡Â°Ã²Ã´Â·Â¨Ã¨Ã«Ã—Ã©Ã¶Â¯Ã®ÂªÃ¤Ã©Ã«Â°Ã¨Ã«Â¡Â±ÂµÃ¤Â²Ã®Ã²Ã¬Â·Ã¶Ã®Ã¶ escapenumberÂ¡Â¢Â¡Â°Ã²Ã´Â·Â¨Ã¨Ã«Ã—Ã©Ã¶Â¯Ã®ÂªÃ¤Ã©Ã«Â°Ã¨Ã«Â¡Â±Ã³Ã«Ã´Â­Ã¤Ã©Ã«Â°Â±ÃªÃ—Â¼ÂµÃ¤Ã§Ã¸Â±Ã° escapenumberÂ¡Â¢ÃªÂµÃ°Ã°Ã³Ã©Â·Â¨Ã¨Ã«Â»Ã£Ã—Ã¼Ã¤Ã©Ã«Â°ÂµÃ¤Ã¬Ã¸ÂµÃ£Â¼Â°Ã¦Ã¤Â·Â½Â·Â¨ escapenumberÂ¡Â¢Ã¯Ã¶Ã°Ã°Ã«Â°Â·Â¨Ã¨Ã§ÂºÃ®Ã¨Ã¯Â¶Â¨Ã¦Ã³Ã²ÂµÃ«Ã¹ÂµÃ£Ã«Â°Â»Ã£Ã—Ã¼Ã¤Ã©Ã«Â°Ã¬ÃµÂ¼Ã¾ escapenumberÂ¡Â¢Ã¨Ã«Â¶Ã Ã—ÃªÃ¦Ã³Ã²ÂµÂºÃ­ÂºÃ¯Â»Ã¯Ã¦Ã³Ã²ÂµÂµÃ¤Ã¤Ã©Ã«Â°Â·Â½ÃªÂ½Â·Ã¶Ã®Ã¶ ÂµÃºÃ¨Ã½Â²Â¿Â·Ã¶Ã°Ã¢Â¡Â¶Ã¦Ã³Ã²ÂµÃ«Ã¹ÂµÃ£Ã«Â°Â·Â¨Â¡Â·ÂµÃ¤Â¸Ã¤Â¸Ã¯Ã¡Ã¡ÂµÃ£Ã¦ÃªÃ®Ã¶Ã³Ã«Ã´Ã«Ã³Ã£Â²ÃŸÂ»Â® Ã²Â»Â¡Â¢Ã¤ÃºÃ­Ã¢Ã—ÃªÃ¦Ã³Ã²ÂµÃªÃªÃ³Ã£Ã­Â³Ã²Â»ÂµÃ¤Ã¦Ã³Ã²ÂµÃ«Ã¹ÂµÃ£Ã«Â°Â·Â¨ÂµÃ¤Ã³Â°Ã¯Ã¬Â·Ã¶Ã®Ã¶ Â¶Ã¾Â¡Â¢Ã­Â³Ã²Â»Â¹Ã¦Â·Â¶Ã«Â°Ã§Â°Â¿Ã»Â³Ã½Â°Ã¬Â·Â¨ÂºÃ­Â±ÃªÃ—Â¼Â¼Â°ÃªÃµÃ¨Ã«ÂµÃ¤Â½Ã¢Â¶Ã¡Ã³Ã«Ã³Â¦Ã³Ã£Â·Ã¶Ã®Ã¶ escapenumberÂ¡Â¢Ã¦Ã³Ã²ÂµÂ¹Â«Ã²Ã¦Â¾Ã¨Ã´Ã¹Â¿Ã»Â³Ã½Â±Ã¨Ã Ã½Ã¬Ã¡Â¸ÃŸescapenumber escapenumberÂ¡Â¢ÃªÂµÃ°Ã°Â¼Ã¦Ã«Â°Â¹Â¤Ã—Ãªescapenumber Â¿Ã»Â³Ã½Ã¶Ã¦Â¶Ã¨ escapenumberÂ¡Â¢Ã¦Ã³Ã²ÂµÃ±Ã°Â·Â¢Â·Ã±Ã³Ã£ÃªÂµÃ°Ã°escapenumber Â¿Ã»Â³Ã½Â·Â½Â·Â¨ escapenumberÂ¡Â¢Ã¤ÃºÃ­Ã¢Ã—ÃªÃ¦Ã³Ã²ÂµÂ¹Ã£Â¸Ã¦Â·Ã±Â¿Ã»Â³Ã½Â±Ã¨Ã Ã½ÂµÃ¤ÂµÃ·ÃµÃ»Â·Ã¶Ã®Ã¶ escapenumberÂ¡Â¢Ã³Â¦Ã«Â°ÃªÃµÃ¨Ã«Â¡Â¢Â²Â»ÃµÃ·Ã«Â°ÃªÃµÃ¨Ã«Â¡Â¢Ã£Ã¢Ã«Â°ÃªÃµÃ¨Ã«Â¼Â°Ã«Ã¹ÂµÃ£Ã«Â°ÂµÃ¤Â¼Ã¦Ã«Ã£Â¹Ã¦Â¶Â¨ÂµÃ¤Ã¤ÃºÃ¨Ã½ Ã«Ã¤Â¡Â¢Ã—ÃªÂ²ÃºÂµÃ¤Ã«Â°Ã®Ã±Â´Â¦Ã Ã­Ã²Â»Ã¶Ã¢Ã°Ã´Â·Ã¶Ã®Ã¶ escapenumberÂ¡Â¢Â¹Ã¬Â¶Â¨Ã—ÃªÂ²ÃºÃ«Â°Ã§Â°Â¿Ã»Â³Ã½Â°Ã¬Â·Â¨ÂµÃ¤Ã°Ã¢Ã¤ÃºÃ¨Ã½ escapenumberÂ¡Â¢Ã®Ã¾Ã°Ã®Ã—ÃªÂ²ÃºÃ«Â°Ã§Â°Â¿Ã»Â³Ã½Â°Ã¬Â·Â¨ÂµÃ¤Ã°Ã¢Â·Â½Â·Â¨ escapenumberÂ¡Â¢Â³Â¤Ã¦ÃºÂ´Ã½Ã¬Â¯Â·Ã±Ã³Ã£Ã«Â°Ã§Â°Â¿Ã»Â³Ã½Â°Ã¬Â·Â¨ÂµÃ¤Ã°Ã¢Â¸Ã¤Â¸Ã¯ escapenumberÂ¡Â¢Ã­Â¶Ã—ÃªÃ—ÃªÂ²ÃºÃ«Â°Ã§Â°Â¿Ã»Â³Ã½Â°Ã¬Â·Â¨ÂµÃ¤Ã°Ã¢Â·Â½ÃªÂ½ escapenumberÂ¡Â¢Â´Ã¦Â»ÃµÃ«Â°Ã§Â°Â¿Ã»Â³Ã½Â°Ã¬Â·Â¨ÂµÃ¤Ã°Ã¢Â±Ã¤Â»Â¯ Ã®Ã¥Â¡Â¢Ã­Â³Ã²Â»Ã«Â°ÃªÃµÃ³Ã¥Â»Ã½ÃµÃ¾Â²ÃŸÂµÃ¤Â½Ã¢Â¶Ã¡ Ã¡Ã¹Â¡Â¢Â¡Â°Ã Â©Â¡Â¢Â±Â£Â¡Â¢Ã¬Ã¦Â¡Â¢Ã¯Ã»Â¡Â±Ã«Ã¤Ã¶Ã¶Â·Â½ÃªÂ½ÃµÃ»ÂºÃ¯ÂµÃ¤Â·Ã¶Ã®Ã¶Ã³Ã«Ã´Ã«Ã³Ã£ Ã²Â»ÃªÃ§Â¡Â°Ã Â©Â´Ã³Â¡Â±Â¡ÂªÂ¡Âª escapenumberÂ¡Â¢Ã¶Ã¸ÂµÃ£Â·Ã¶Â³Ã¶Â¸ÃŸÃ°Ã¢Â¼Â¼ÃªÃµÃ¦Ã³Ã²ÂµÂµÃ¤Ã«Â°ÃªÃµÃ³Ã¥Â»Ã½ÃµÃ¾Â²ÃŸÂ·Ã¶Ã®Ã¶Ã³Ã«Ã´Ã«Ã³Ã£Ã¶Â¸Ã¤Ã¯ escapenumberÂ¡Â¢Ã¦Ã³Ã²ÂµÃ­Â¶Ã—ÃªÃ³ÃºÂ»Â·Â±Â£Â¡Â¢Â½ÃºÃ¤Ã¼Â¡Â¢Â°Â²Ã¨Â«ÂµÃ¨Â·Â½Ã£Ã¦ÂµÃ¤Ã«Â°ÃªÃµÃ³Ã¥Â»Ã½ÃµÃ¾Â²ÃŸÂ·Ã¶Ã®Ã¶ escapenumberÂ¡Â¢Ã Â©Â´Ã³Â¶Ã´Â´Â´Ã²ÂµÃ­Â¶Ã—ÃªÃ¦Ã³Ã²ÂµÂµÃ¤Ã«Â°ÃªÃµÃ³Ã¥Â»Ã½ÃµÃ¾Â²ÃŸÂ·Ã¶Ã®Ã¶ Â¶Ã¾ÃªÃ§Â¡Â°Â±Â£Ã¡Ã´Â¡Â±Â¡ÂªÂ¡Âª escapenumberÂ¡Â¢Â±Â£Ã¡Ã´Â¶Ã´Ã¥Â©Ã¡Ã¶Ã¤Ã¡Ã³Ã¦Ã²ÂµÂµÃ¤Ã«Â°ÃªÃµÃ³Ã¥Â»Ã½ÃµÃ¾Â²ÃŸÂ·Ã¶Ã®Ã¶ escapenumberÂ¡Â¢Â±Â£Ã¡Ã´Â¶Ã´Â»Ã¹Â´Â¡Ã©Ã¨ÃªÂ©Ã­Â¶Ã—ÃªÂµÃ¤Ã«Â°ÃªÃµÃ³Ã¥Â»Ã½ÃµÃ¾Â²ÃŸÂ·Ã¶Ã®Ã¶ Ã¨Ã½ÃªÃ§Â¡Â°Ã¬Ã¦Â´ÃºÂ¡Â±Â¡ÂªÂ¡Âª escapenumberÂ¡Â¢Ã Ã­Â¶Â¯Â·Ã¾Ã®Ã±Ã°Ã­Ã¦Ã³Ã²ÂµÂµÃ¤Ã«Â°ÃªÃµÃ³Ã¥Â»Ã½ÃµÃ¾Â²ÃŸÃ¬Ã¦Â´ÃºÃ°Ã´Â·Ã¶Ã®Ã¶ escapenumberÂ¡Â¢Â¸Â£Ã Ã»Ã¦Ã³Ã²ÂµÂµÃ¤Ã«Â°ÃªÃµÃ³Ã¥Â»Ã½ÃµÃ¾Â²ÃŸÃ¬Ã¦Â´ÃºÃ°Ã´Â·Ã¶Ã®Ã¶ escapenumberÂ¡Â¢Ã—ÃªÃ´Â´Ã—Ã»ÂºÃ¯Ã Ã»Ã³Ã£Ã¦Ã³Ã²ÂµÂµÃ¤Ã«Â°ÃªÃµÃ³Ã¥Â»Ã½ÃµÃ¾Â²ÃŸÃ¬Ã¦Â´ÃºÃ°Ã´Â·Ã¶Ã®Ã¶ Ã«Ã¤ÃªÃ§Â¡Â°Â¹Ã½Â¶Ã©Â¡Â±Â¡ÂªÂ¡Âª escapenumberÂ¡Â¢Â¾Â­Â¼Ã£Ã¬Ã¸Ã§Ã¸Ã«Â°ÃªÃµÃ³Ã¥Â»Ã½ÃµÃ¾Â²ÃŸÂ·Ã¶Ã®Ã¶ escapenumberÂ¡Â¢Ã®Ã·Â²Â¿Â´Ã³Â¿ÂªÂ·Â¢ÂµÃ¸Ã§Ã¸Ã«Â°ÃªÃµÃ³Ã¥Â»Ã½ÃµÃ¾Â²ÃŸÂ·Ã¶Ã®Ã¶ Ã®Ã¥ÃªÃ§Â¡Â°Ã¨Â¡Ã¯Ã»Â¡Â±Â¡ÂªÂ¡Âª escapenumberÂ¡Â¢Ã¨Â¡Ã¯Ã»Ã©ÃºÂ²ÃºÃ°Ã´Ã­Ã¢Ã—ÃªÃ¦Ã³Ã²ÂµÂ¶Â¨Ã¦ÃºÂ¼ÃµÃ£Ã¢Ã«Â°Ã³Ã¥Â»Ã½ÃµÃ¾Â²ÃŸÂ·Ã¶Ã®Ã¶ escapenumberÂ¡Â¢Ã¨Â¡Ã¯Ã»Â²ÃºÃ¦Â·Ã¶Ã·Ã²ÂªÂ³Ã¶Â¿ÃºÂµÃ¤Ã­Ã¢Ã—ÃªÃ¦Ã³Ã²ÂµÂ¼ÃµÂ°Ã«ÃµÃ·Ã«Â°Ã³Ã¥Â»Ã½ÃµÃ¾Â²ÃŸÂ·Ã¶Ã®Ã¶ escapenumberÂ¡Â¢Ã°Ã¢Â·Â¨Â£Â¨Â¹ÃºÃ®Ã±Ã´ÂºÃ¯Â¸Ã´Ã²Â£Â©Ã³Ã°Â¿Ã©Ã¤Ã¼Â±Â£Ã¡Ã´ÂµÃ¤Ã¦Ã³Ã²ÂµÃ«Ã¹ÂµÃ£Ã«Â°Ã«Â°ÃªÃµÃ³Ã¥Â»Ã½ Ã¦ÃŸÂ¡Â¢ÃªÂµÃ°Ã°escapenumberÂ£Â¥ÂµÃ¤ÃµÃµÂ¹Ã«Ã°Ã´Ã¦Ã³Ã²ÂµÃ«Ã¹ÂµÃ£Ã«Â°Ã«Â°Ã¢ÃªÂµÃ¤ÃªÃªÃ³Ã£Ã°Ã´Â·Ã¶ÃµÃ» Â°Ã«Â¡Â¢escapenumberÃ¤ÃªÂ¹Ã½Â¶Ã©Ã¦ÃºÂµÃ¤Â½Ã¢Ã®Ã¶Ã³Ã«Ã¦Ã³Ã²ÂµÃ¤Ã©Ã«Â°Â³Ã¯Â»Â®ÂµÃ¤ÃªÂµÂ¼ÃªÃ´Ã«Ã³Ã£ Â¾Ã¥Â¡Â¢Â¡Â°Ã¬Ã¸Â±Ã°Ã¤Ã©Ã«Â°ÂµÃ·ÃµÃ»Â¡Â±Ã³Ã«Â·Â´Â±Ã¼Ã«Â°Â½Ã©Ã©Ã¼Â¼Â°Â°Â¸Ã Ã½Â·Ã¶Ã®Ã¶ Â£Â¨Ã²Â»Â£Â©Ã—ÂªÃ¨Ã£Â¶Â¨Â¼Ã»ÂºÃ­Ã´Â¤Ã´Â¼Â¶Â¨Â¼Ã»Ã¶Ã¦Â¶Ã¨ÂµÃ¤Â·Ã¶Ã®Ã¶Ã³Ã«Ã´Ã«Ã³Ã£ Â£Â¨Â¶Ã¾Â£Â©Â¡Â°Â¶Ã Ã¡Â¢Â½Â»Ã²Ã—Ã´Â­Ã´Ã²Â¡Â±ÂµÃ¤Â²Ã¹Ã—Ã·Ã°Ã´Ã³Â¦Ã³Ã£Â·Ã¶Ã®Ã¶ Â£Â¨Ã¨Ã½Â£Â©Â³Ã©Â±Â¾Â·Ã±Ã³Ã£Â·Ã¶Ã¬Â¯Â±Ã¼Ã«Â°Â¼Â¼Ã§Ã©Ã³Ã«Â·Â´Â±Ã¼Ã«Â°Â¼Â°Â°Â¸Ã Ã½Â½Ã¢Ã®Ã¶ Â£Â¨Ã«Ã¤Â£Â©bviÂ¹Â«Ã«Â¾ÂµÃ¤Â±Ã¼Ã«Â°Ã³Ã«Â·Â´Â±Ã¼Ã«Â°Â¼Â°Â°Â¸Ã Ã½Â½Ã¢Ã®Ã¶ escapenumberÂ¡Â¢Â¿Ã§Â¹ÃºÂ¹Â«Ã«Â¾ÂµÃ¤Â±Ã¼Ã«Â°Ã Ã Ã°Ã­ escapenumberÂ¡Â¢Â±Ã¼Ã«Â°Ã¬Ã¬Ã¬Ã£ÂµÃ¤Ã³ÃµÂ»Ã³ escapenumberÂ¡Â¢bviÂ±Ã¼Ã«Â°Â¼Â°Ã°Ã¢Â·Â¨ÂµÃ¤Â·Â´Ã¶Ã¦Â£Âº escapenumberÂ¡Â¢Â¿Ã§Â¹ÃºÂ¹Â«Ã«Â¾Â±Ã¼Ã«Â°Â²Ã¹Ã—Ã·Â°Â¸Ã Ã½Â·Ã¶Ã®Ã¶ escapenumberÂ¡Â¢ÂµÃ¤Ã°Ã­Â¹ÃºÂ¼ÃªÂ±Ã¼Ã«Â°Â°Â¸Ã Ã½Â½Ã¢Ã®Ã¶ ÂµÃºÃ«Ã¤Â²Â¿Â·Ã¶Ã¦Ã³Ã²ÂµÃ«Ã¹ÂµÃ£Ã«Â°Â²ÃŸÂ»Â®Â¼Â¼Ã§Ã©ÃªÂ¾Â·Â¶Â²Ã¹Ã—Ã·Â°Â¸Ã Ã½Â£Â¨escapenumber escapenumberÂ£Â© Ã«Ã¹ÂµÃ£Ã«Â°Â²ÃŸÂ»Â®Â²Ã¹Ã—Ã·Â°Â¸Ã Ã½escapenumber Â£ÂºÃ´ÃµÃ±Ã¹Â¡Â°Â¹Ã£Â¸Ã¦Â¡Â±Â²Ã¥Â½ÃºÃ«Â° Ã«Ã¹ÂµÃ£Ã«Â°Â²ÃŸÂ»Â®Â²Ã¹Ã—Ã·Â°Â¸Ã Ã½escapenumber Â£ÂºÂ¾Â³Ã­Ã¢Â±Â£Ã¯ÃµÂ·Ã±ÂµÃ¤Â²ÃŸÂ»Â®Â¼Â¼Ã§Ã© Ã«Ã¹ÂµÃ£Ã«Â°Â²ÃŸÂ»Â®Â²Ã¹Ã—Ã·Â°Â¸Ã Ã½escapenumber Â£ÂºÃ®Ã¯Ã¡Ã·Ã¦Ã³Ã²ÂµÃ£Ã¶Â²Â¹Â¿Ã·Ã«Ã°Ã³Ã°Â¼Â¼Ã§Ã© Ã«Ã¹ÂµÃ£Ã«Â°Â²ÃŸÂ»Â®Â²Ã¹Ã—Ã·Â°Â¸Ã Ã½escapenumber Â£ÂºÃ§Ã©Ã£Ã®Â·Ã¶Ã¥Ã¤Â¹Ã¼Ã Ã­Â·Ã±Ã³Ã£Â¿Ã©ÂºÃ¯Ã Ã­Â½ÃºÃ«Â° Ã«Ã¹ÂµÃ£Ã«Â°Â²ÃŸÂ»Â®Â²Ã¹Ã—Ã·Â°Â¸Ã Ã½escapenumber Â£ÂºÃ Ã»Ã³Ã£Â´Ã»Â¿Ã®Ã­Â¶Ã—ÃªÂ¿Ã©Â½ÃºÃ«Â° Ã«Ã¹ÂµÃ£Ã«Â°Â²ÃŸÂ»Â®Â²Ã¹Ã—Ã·Â°Â¸Ã Ã½escapenumber Â£ÂºÂ¹Â«Ã²Ã¦Â¾Ã¨Ã´Ã¹Ã²Â²Ã³Ã°Â²ÃŸÂ»Â®Â¿ÃµÂ¼Ã¤ Ã«Ã¹ÂµÃ£Ã«Â°Â²ÃŸÂ»Â®Â²Ã¹Ã—Ã·Â°Â¸Ã Ã½escapenumber Â£ÂºÃ´Â¤Â½Ã©Ã¦Ã³Ã²ÂµÃ«Ã¹ÂµÃ£Ã«Â°Â²ÃŸÂ»Â®Â°Â¸Ã Ã½Â·Ã¶Ã®Ã¶ Ã«Ã¹ÂµÃ£Ã«Â°Â²ÃŸÂ»Â®Â²Ã¹Ã—Ã·Â°Â¸Ã Ã½escapenumber Â£ÂºÃ§Ã©Ã±Â¡Â¼Ã§ÃµÃ«Â»Ã£Ã¢ÃªÂ²ÃŸÂ»Â®Ã¦Ã³Ã²ÂµÃ«Ã¹ÂµÃ£Ã«Â° Ã«Ã¹ÂµÃ£Ã«Â°Â²ÃŸÂ»Â®Â²Ã¹Ã—Ã·Â°Â¸Ã Ã½escapenumber Â£ÂºÂ·Ã¶Ã Ã«Ã¯ÃºÃªÃ»Â²Â¿Ã´Ã¶Â¼Ã³Â·Ã±Ã³Ã£Â¿Ã»Â³Ã½ÂµÃ¤Â²ÃŸÂ»Â® Ã«Ã¹ÂµÃ£Ã«Â°Â²ÃŸÂ»Â®Â²Ã¹Ã—Ã·Â°Â¸Ã Ã½escapenumber Â£ÂºÃ¦Ã³Ã²ÂµÃ«Ã¹ÂµÃ£Ã«Â°Â»Ã£Â½Ã©Ã¶Ã°ÂµÃ¤Ã¨Â¨Ã²Ã¦Â·Ã¶Ã®Ã¶ Ã«Ã¹ÂµÃ£Ã«Â°Â²ÃŸÂ»Â®Â²Ã¹Ã—Ã·Â°Â¸Ã Ã½escapenumber Â£ÂºÃ´Ã¹Ã­Â¶Ã—ÃªÃ­Ã«Ã«Â°Â½ÃºÃ«Â°Â°Â¸Ã Ã½ Ã«Ã¹ÂµÃ£Ã«Â°Â²ÃŸÂ»Â®Â²Ã¹Ã—Ã·Â°Â¸Ã Ã½escapenumber Â£ÂºÃ¦Ã³Ã²ÂµÃ¯ÃºÃªÃ»Â·Ã±Ã³Ã£ÂµÃ¤Ã«Â°ÃªÃµÂ²ÃŸÂ»Â® Ã«Ã¹ÂµÃ£Ã«Â°Â²ÃŸÂ»Â®Â²Ã¹Ã—Ã·Â°Â¸Ã Ã½escapenumber Â£ÂºÂµÃ·ÃµÃ»Â¼ÃµÃ¶ÂµÃ—Â¼Â±Â¸Â±Ã¼Ã£Ã¢Ã¶Ã¸Â¸Â´Â½Ã©Ã«Â° Ã«Ã¹ÂµÃ£Ã«Â°Â²ÃŸÂ»Â®Â²Ã¹Ã—Ã·Â°Â¸Ã Ã½escapenumber Â£ÂºÂ·Ã±Ã³Ã£Ã§Ã©Â°Â²Ã¥Ã¥Â½ÃºÃ«Â°Ã°Â§Â¹Ã»Â¼Ã± Ã«Ã¹ÂµÃ£Ã«Â°Â²ÃŸÂ»Â®Â²Ã¹Ã—Ã·Â°Â¸Ã Ã½escapenumber Â£ÂºÃ¦Ã³Ã²ÂµÃµÃ»Ã¬Ã¥Ã—ÃªÂ²ÃºÃ¶Ã£Â»Â»ÂµÃ¤Â²ÃŸÂ»Â®ÃªÂµÃ Ã½ Ã«Ã¹ÂµÃ£Ã«Â°Â²ÃŸÂ»Â®Â²Ã¹Ã—Ã·Â°Â¸Ã Ã½escapenumber Â£ÂºÃ³Ã£Â±Â¸ÂµÃ¶Â·Â¨ÂºÃ«Ã«Ã£Â»ÂµÃµÃ«Ã«Ã°ÃªÂ§ Ã«Ã¹ÂµÃ£Ã«Â°Â²ÃŸÂ»Â®Â²Ã¹Ã—Ã·Â°Â¸Ã Ã½escapenumber Â£ÂºÃ Ã»Ã³Ã£Ã´Ã¹Ã­Â¶Ã—ÃªÃ³Ã¥Â»Ã½ÃµÃ¾Â²ÃŸÂ½ÃºÃ«Â° Ã«Ã¹ÂµÃ£Ã«Â°Â²ÃŸÂ»Â®Â²Ã¹Ã—Ã·Â°Â¸Ã Ã½escapenumber Â£ÂºÃ³Ã¥Â»Â¯Ã­Â¶Ã—ÃªÂ½Ã¡Â¹Â¹Â¿Ã©Â½ÃºÃ«Â° Ã«Ã¹ÂµÃ£Ã«Â°Â²ÃŸÂ»Â®Â²Ã¹Ã—Ã·Â°Â¸Ã Ã½escapenumber Â£ÂºÂ¹Â«Ã«Â¾Ã—ÂªÃ¨Ã£Ã°Ã¨Â¿Ã¸Ã¶Ã¦Â·Ã§Â¹Ã©Ã¨Â¨Â½Â»Ã²Ã—Â¶Ã® Ã«Ã¹ÂµÃ£Ã«Â°Â²ÃŸÂ»Â®Â²Ã¹Ã—Ã·Â°Â¸Ã Ã½escapenumber Â£ÂºÂ³Ã¶Â°Ã¦Ã¦Ã³Ã²ÂµÃ«Ã¹ÂµÃ£Ã«Â°Ã¤Ã©Ã«Â°Â²ÃŸÂ»Â®Â·Â½Â°Â¸ Ã«Ã¹ÂµÃ£Ã«Â°Â²ÃŸÂ»Â®Â²Ã¹Ã—Ã·Â°Â¸Ã Ã½escapenumber Â£ÂºÂ¶Ã¾Ã«Â°ÂºÃ¯Â²Â¢Ã§Â°ÃµÂ°Ã°Ã´Ã«Â°Ã®Ã±Â²ÃŸÂ»Â®Ã—Ã¼Â²ÃŸÃ¢Ã´Â¼Â°Ã¯ÂµÃ¡Ã°Â°Â¸Ã Ã½Â£Â¨escapenumber escapenumberÂ£Â© Â½Â²ÃªÂ¦Â½Ã©Ã©Ã¼Â£ÂºÂ³Ã¢Â½Â¨Â²Ã½Ã Ã¯ÃªÂ¦ Ã¶Ã°Ã¦Ã³Ã¥Ã Ã±ÂµÃ´ÃºÃ¯ÃŸÂ¸ÃŸÂ¼Â¶Â½Â²ÃªÂ¦ Ã¶Ã°Â¹ÃºÃ«Â°Ã®Ã±Ã¢Ã©ÃªÂ¦Â¡Â¢Â²Ã¦Ã«Â°Â£Â¨Â·Â¨Ã¢Ã©Â£Â©Â¸ÃŸÂ¼Â¶Â½Â²ÃªÂ¦Â¡ÂªÂ¼Ã¨ÃªÃ§ÃªÂµÃµÂ½Â¼Ã²Â£Â¬Ã²Â²ÃªÃ§Ã±Ã½Â½Â²Â¼Ã²Â£Â»Ã—ÃªÃ©Ã®Ã«Â° Ã®Ã±Â³Ã¯Â»Â®Ã—Â¨Â¼Ã²Â¡Â¢Â²Ã¦Ã«Â°Â£Â¨Â·Â¨Ã¢Ã©Â£Â©Ã—Ã»ÂºÃ¯Â¹Ã«Ã®ÃªÂ¡ÂªÃ«Â°Ã®Ã±Â»Ã¼Â²Ã©Â³Ã¶Ã©Ã­Â£Â¬Â³Ã¯Â»Â®Â¸Ã¼Â¾ÃŸÃ¨Â¨Ã­Ã¾Â£Â»Â²Ã¦Ã«Â°Â´Ã³Ã—Â¨Â¡Â¢Â·Â¨Ã¢Ã©Â±Â¾Â¿Ã¦Â±Ã¯Ã²Âµ Â²Ã¦Ã«Â° Â¡Â¢Â·Â¨Ã¢Ã©Â¿Ã¦Â°Ã Â³Ã¶Ã©Ã­Â£Â¬Â²Ã¦Ã«Â°Â¡Â¢Â·Â¨Ã¢Ã©Â¾ÃŸÃ©Ã®ÂºÃ±Ã¶ÂªÃªÂ¶Â¹Â¦ÂµÃ—Â£Â»Ã—Â¢Â²Ã¡Ã«Â°Ã®Ã±ÃªÂ¦Â¡Â¢Â»Ã¡Â¼Ã¦ÃªÂ¦Â¡Â¢Ã¢Ã©ÃªÂ¦ Â¾Â«Ã«Â°Â·Â¨Â£Â¬Â¶Â®Â²Ã¦Â»Ã¡Â£Â¬Ã­Â¨Â·Â¨Ã¢Ã© Â£Â¬Â¡Â°Ã¨Ã½ÃªÂ¦Â¡Â±Â¾Ã»Ã²Â»Ã©Ã­Â¡Â£ Â±Â±Â¾Â©Ã«Â°ÃªÃµÃ³Ã«ÃªÃ°Â³Â¡ÂµÃ·Â²Ã©Ã±Ã°Â¾Â¿Ã¶Ã°Ã°Ã¤ Â¡Â°Ã¦Ã³Ã²ÂµÃ³Ã«ÃªÃ°Â³Â¡Ã¤Ã©Ã«Â°Ã®ÃªÃ¬Ã¢Â´Ã°Ã²Ã©Â¡Â±Â¡Â¢Â¡Â°Ã¤Ã©Ã«Â°Â¾Ã£Ã Ã¶Â²Â¿Â¡Â±Ã´Ã³Ã¶Â¾Ã¬Ã¸Ã´Â¼Ã—Â«Â¸Ã¥Ã¨Ã« Ã¶Ã·Â½Â²Â¿Ã®Â³Ã¬ Â¡Â¶Ã—Ã®Ã°Ã¢Ã«Â°Ã¶Ã¦Ã¤Ã©Ã«Â°Â³Ã¯Â»Â®Â¼Â°Â³Ã¯Â»Â®Â°Â¸Ã Ã½Â·Ã¶Ã®Ã¶Â¡Â·Â¡Â¢Â¡Â¶Ã«Â°Ã®Ã±Â»Ã¼Â²Ã©Ã³Â¦Â¶Ã´Â¼Â°Ã©Ã¦Ã«Â°Â·Â¨Ã¢Ã©Â·Ã§Ã¯ÃµÂ·Ã Â·Â¶Â²ÃŸÃ¢Ã´Ã´ÃŸÂ°Â¸Ã Ã½ Â·Ã¶Ã®Ã¶Â¡Â·Â¡Â¢Â¡Â¶Â·Â¿ÂµÃ¸Â²ÃºÃ«Â°Ã®Ã±Â»Ã¼Â²Ã©Ã³Â¦Â¶Ã´Â²ÃŸÃ¢Ã´Â¼Â°ÃµÃ¾Â²ÃŸÂ½Ã¢Ã®Ã¶Ã´ÃŸÂ°Â¸Ã Ã½Â·Ã¶Ã®Ã¶Â¡Â·Â¡Â¢Â¡Â¶Ã¦Ã³Ã²ÂµÂ£Â¨Â°Ã¼Ã Â¨Ã­Ã¢Ã—ÃªÂ£Â©Ã«Ã¹ÂµÃ£Ã«Â°Â»Ã£Â½Ã©Â·Â¨Â¹Ã¦Â½Ã¢ Ã®Ã¶Â¼Â°Ã¦Ã³Ã²ÂµÂ»Ã¡Â¼Ã¦Ã¶Ã¦Â¶Ã¨Ã³Ã«Ã«Â°Â·Â¨Â²Ã®Ã²Ã¬Â·Ã¶Ã®Ã¶Â£Â¨ÂµÃ·ÃµÃ»Â£Â©Â¡Â·Â¡Â¢Â¡Â¶Ã¦Ã³Ã²ÂµÃ—Ã®Ã°Ã¢ÃªÂµÃ³Ã£Ã´Ã¶Ã¶ÂµÃ«Â°Â·Â¨Â¹Ã¦Â¼Â°Ã«Ã¹ÂµÃ£Ã«Â°Â»Ã£Â½Ã©ÃªÂµÃ®Ã±Ã¨Ã¨ÂµÃ£Â¡Â¢Ã¤Ã± ÂµÃ£Ã®ÃªÃ¬Ã¢Â½Ã¢Â¶Ã¡Â½Â²Ã²Ã©Â¡Â·Â¡Â¢Â¡Â¶Ã¦Ã³Ã²ÂµÃ«Ã¹ÂµÃ£Ã«Â°ÂµÃ¤Â»Ã¡Â¼Ã¦Â¿Ã¸Ã¶Ã¦Ã³Ã«Ã¤Ã©Ã«Â°Â³Ã¯Â»Â®Â½Â²Ã²Ã©Â¡Â·Â¡Â¢Â¡Â¶Â½Ã¸Â³Ã¶Â¿ÃºÃ©ÃºÂ²ÃºÂ£Â¨Ã£Â³Ã²Ã—Â£Â©Ã¦Ã³Ã²ÂµÃ«Â°ÃªÃµÂ²Ã¹Ã—Ã· ÃªÂµÃ®Ã±Â¡Â·Â¡Â¢Â¡Â¶Ã­Ã¢Ã—ÃªÃ¦Ã³Ã²ÂµÃ´Ã¹Ã­Â¶Ã—ÃªÃ­Ã«Ã«Â°Â¡Â¢Ã£Ã¢ÂµÃ¶Ã«Â°Â¼Â°Â½Ã¸Â¿ÃºÃ©Ã¨Â±Â¸Ã£Ã¢Ã«Â°Â²Ã¹Ã—Ã·Ã¶Â¸Ã¤Ã¯Â¡Â·Â¡Â¢Â¡Â¶Ã—ÂªÃ¨Ã£Â¶Â¨Â¼Ã»Ã«Â°ÃªÃµÂ²Ã¹Ã—Ã·Â¼Â°Ã«Â°Ã®Ã±Â·Â´Â±Ã¼ Ã«Â°Ã³Â¦Â¶Ã´Ã¶Â¸Ã¤Ã¯Â¡Â·Â¡Â¢Â¡Â¶escapenumberÃ—Ã®Ã°Ã¢Ã«Â°Â·Â¨Ã¨Ã¨ÂµÃ£Â¡Â¢Ã¤Ã±ÂµÃ£Ã®ÃªÃ¬Ã¢Â½Ã¢Ã®Ã¶Â¡Â·Â¡Â¢Â¡Â¶ÂºÃ¯Ã­Â¬Â·Ã§Ã¯ÃµÂ·Ã Â·Â¶Ã³Ã«ÂºÃ¯Ã­Â¬Â±Ã¼Ã«Â°Â¼Â¼Ã§Ã©Â¡Â·Â¡Â¢Â¡Â¶Ã—Ã®Ã°Ã¢Â»Ã¡ Â¼Ã¦Â´Ã­Â±Ã—Â·Ã¶Ã®Ã¶Ã³Ã«ÂµÃ·ÃµÃ«Â¼Â¼Ã§Ã©Â¡Â·Â¡Â¶Â·Â¿ÂµÃ¸Â²ÃºÃ¦Ã³Ã²ÂµÃ­Ã¡ÂµÃ¸Ã´Ã¶Ã¶ÂµÃ«Â°Ã§Ã¥Ã«Ã£Ã³Ã«Â³Ã¯Â»Â®ÃªÂµÃ®Ã±Â½Â²Ã—Ã¹Â¡Â·Â¡Â¶Â³Ã¯Ã°Ã¥Ã¤Ã©Ã«Â°Ã³Ã«Ã¤Ã©Ã«Â°Ã—Ã´Â²Ã©Â¡Â·Â¡Â¢Â¡Â¶ Ã°Ã¢Ã¦Ã³Ã²ÂµÂ»Ã¡Â¼Ã¦Ã—Â¼Ã´Ã²Ã³Â¦Ã³Ã£Ã¶Â¸Ã¤Ã¯Â¼Â°Ã¶Ã·Ã²ÂªÂºÃ«Ã«Ã£Â°Â¸Ã Ã½Â½Ã¢Ã®Ã¶Â½Â²Ã—Ã¹Â¡Â·Â¡Â¢Â¸Ã¶Ã¨Ã«Ã«Ã¹ÂµÃ£Ã«Â°Ã—Ã®Ã°Ã¢Â·Â¨Â¹Ã¦Â½Ã¢Â¶Ã¡Ã³Ã«Ã¤Ã©Ã«Â°Â³Ã¯Â»Â®Â¼Â¼Ã§Ã©Ã´ÃŸÂ°Â¸Ã Ã½ Â·Ã¶Ã®Ã¶Â¡Â¢Â¡Â¶Ã—Ã®Ã°Ã¢Ã¦Ã³Ã²ÂµÃ«Ã¹ÂµÃ£Ã«Â°Â»Ã£Â½Ã©Â·Â¨Â¹Ã¦Â½Ã¢Â¶Ã¡Â¼Â°Ã«Â°Â·Â¨Ã³Ã«Â»Ã¡Â¼Ã¦Â²Ã®Ã²Ã¬Â·Ã¶Ã®Ã¶Ã´ÃŸÂ»Ã£Â½Ã©ÃªÂµÃ®Ã±Ã¤Ã±ÂµÃ£Ã®ÃªÃ¬Ã¢Â½Ã¢Ã®Ã¶Â¡Â·Â£Â¨Ã¤ÃºÃ—ÃªÂºÃ­Ã­Ã¢Ã—Ãª Ã¦Ã³Ã²ÂµÂ£Â©Â¡Â£ Â³Ã¢Ã Ã¯ÃªÂ¦Ã²Ã´Ã—Ã´Â¼ÂºÃ´Ã¸Â²Ã©Â´Â¦ÂµÃ¤Â»Ã¼Â²Ã©Â°Â¸Ã Ã½Ã±Ã½ÃªÂ¾Ã«Â°Â·Â¨ ÃµÃ¦ÃªÂµÂ¡Â¢Ã©ÃºÂ¶Â¯Â£Â¬Ã³Â°Ã¯Ã¬Ã©Ã®Â¿Ã¬Â£Â»Â£Â¬Ã²Ã´Â¶Ã¾ÃªÂ®Â¶Ã Ã¤ÃªÂµÃ¤Â»Ã¼Â²Ã©Â¾Â­Ã±Ã©Â½Ã¢ Ã«ÂµÂ³Ã¯Â»Â® Ã´Â¢Ã§Ã©Â¡Â¢Ã´Â¢Ã Ã­Â£Â¬Ã¡Ã¬Ã®Ã²Â·Ã§Â·Â²Â¡Â¢Â£Â»Ã®Ã±ÃªÂµÂ¡Â¢Ã¯ÂµÃ­Â³Â¡Â¢Â¾Â«Â²ÃªÂµÃ¤Ã«Â°Â·Â¨Â½Ã¢Â¶Ã¡Â£Â¬ÃµÃ¦Â³Ã¯Â¡Â¢Ã±Ã³Ã²Ã§Â¡Â¢Â»Ã¶Ã°Â³ÂµÃ¤Â²Ã¦Ã«Â°Ã±Ã½Â½Â²Â£Â¬ Ã²Ã´Â¼Â°Ã©Ã¦Ã³ÃºÂ»Â¥Â¶Â¯ÃªÂ½Â¿Ã®Ã¬Ã£Â½Â»Ã¡Ã·ÂµÃ¤ÃªÃºÂ¿Ã®Â·Ã§Â¸Ã±Â£Â¬Ã´Ã¸ÃªÃ¼ÂµÂ½Ã¨Â«Â¹ÃºÂ¸Ã·ÂµÃ¸Ã¥Ã Ã±ÂµÃ±Â§Ã´Â±ÂµÃ¤Ã²Â»Ã¶Ã¢ÂºÃ£Ã¦Ã Â£Â¬Â±Â»Ã³Ã·Ã®ÂªÂ¡Â°Â²Ã¦Ã«Â°Ã¥Ã Ã±ÂµÂµÃ¤Ã±Ã½Â½Â² Â¼Ã²Â¡Â±Â¡Â¢Â¡Â°Â²Ã¦Ã«Â°Ã³Ã«Â·Â¨Ã¢Ã©Ã­ÃªÃ£Ã Â½Ã¡ÂºÃ¯ÂµÃ¤Â»Â¯Ã©Ã­Â¡Â±Â¡Â£ Â¨ÂˆÂ¨ÂˆÂ¨ÂˆÂ¨ÂˆÂ¨ÂˆÂ¨ÂˆÂ¨ÂˆÂ¨ÂˆÂ¨Âˆ Ã¥Ã  Ã±Âµ Â»Ã¸ Ã¶Â´ Â±Ã­ Â£Â¨Â´Ã«Â±Ã­Â¸Â´Ã¶Ã¦Ã³Ã°Ã°Â§Â£Â©Â¨ÂˆÂ¨ÂˆÂ¨ÂˆÂ¨ÂˆÂ¨ÂˆÂ¨ÂˆÂ¨ÂˆÂ¨ÂˆÂ¨Âˆ Ã®Ã²ÂµÂ¥Ã®Â»Â¹Â² Ã¨Ã«Â±Â¨Ã£Ã»Â²Ã®Â¼Ã³escapenumberÃ¤Ãª Ã´Ã¢ Ã¨ÃµÃ´Ãº Â¾Ã¹Â°Ã¬ÂµÃ¤Â£ÂºÃ°Ã¢Â¡Â°Ã¦Ã³Ã²ÂµÃ«Ã¹ÂµÃ£Ã«Â°Â·Â¨Â¡Â±ÂµÃ¤Â±Ã¤Â»Â¯Â·Ã¶Ã®Ã¶Â£Â» ÂµÂ¥Ã®Â»Ã£Ã»Â³Ã¦Â£Âº Ã¥Ã Ã±ÂµÃ¡ÂªÃ¯ÂµÃ¨Ã«Â£Âº Ã¡ÂªÃ¯ÂµÂµÃ§Â»Â°Â£Âº Ã¡ÂªÃ¯ÂµÂ´Â«ÃµÃ¦Â£Âº Ã²Ã¦Â¶Â¯ÂµÃ§Â»Â°Â£Âº ÂµÃ§Ã—Ã³Ã³ÃªÃ¯Ã¤Â£Âº Â²Ã®Â¼Ã³Ã¨Ã«ÃªÃ½Â£Âº Ã¨Ã« Â·Ã±Ã³Ã£Ã—Ã¼Â¼Ã¦Â£Âº Ã´Âª Â²Ã® Â»Ã¡ Ã¨Ã«Â£Âº Ã«Ã¹Ã¨Ã®Ã¶Â°Ã®Ã±Â£Âº Ã²Ã¦Â¶Â¯ÂµÃ§Â»Â°Â£Âº Â²Ã® Â»Ã¡ Ã¨Ã«Â£Âº Ã«Ã¹Ã¨Ã®Ã¶Â°Ã®Ã±Â£Âº Ã²Ã¦Â¶Â¯ÂµÃ§Â»Â°Â£Âº Â²Ã® Â»Ã¡ Ã¨Ã«Â£Âº Ã«Ã¹Ã¨Ã®Ã¶Â°Ã®Ã±Â£Âº Ã²Ã¦Â¶Â¯ÂµÃ§Â»Â°Â£Âº Â¸Â¶Â¿Ã®Â·Â½ÃªÂ½Â£ÂºÂ£Â¨Ã§Ã«Ã±Â¡Ã´Ã±Â´Ã²Â¹Â³ Â£Â© Â¡ÃµescapenumberÂ¡Â¢Ã¯Ã¶Â½Ã°Â¡Â¡Â¡Â¡Â¡ÃµescapenumberÂ¡Â¢Ã—ÂªÃµÃª Â²Ã®Â»Ã¡Â·Â½ÃªÂ½Â£ÂºÃ§Ã«Ã¤ÃºÂ°Ã±Ã¥Ã Ã±ÂµÂ»Ã¸Ã¶Â´Â±Ã­Ã¨Ã¯ÃµÃ¦Ã¬Ã®Ã°Â´ÂºÃ£ÂºÃ³Â»Ã¸Â´Â«ÂµÂ½escapenumber escapenumberÂ£Â¬Â¿Ã®Ã§Â°Ã²Â»Ã°Ã§Ã¦ÃºÃ¤ÃºÂ½Â«Â»Ã¡ÃªÃµÂµÂ½Â´Â«ÃµÃ¦ÂºÂ¯Â£Â¬Â°Ã¼Ã Â¨ Ã¥Ã Ã±ÂµÃ—Â¢Ã²Ã¢ÃªÃ¢Ã¯Ã®Â¼Â°Ã¯ÃªÃ¯Â¸ÃªÂ±Â¼Ã¤Â°Â²Ã¥Ã¥ÂµÃ¨Â¡Â£ ÂµÃ§Â»Â° escapenumber escapenumber escapenumber Ã¡ÂªÃ¯Âµ Ã¥Ã Ã±ÂµÂ²Â¿ ÃµÃ¥Ã¯Ã¨Ã©Ãº Ã¶Ã¼Ã°Â¡Â½Ã£ Ã¡ÂºÃ°Â¡Â½Ã£ Ã­ÃµÃ°Â¡Â½Ã£ Ã Ã®Ã¯Ã¨Ã©Ãº Â´Â«ÃµÃ¦ escapenumber escapenumber to captains wheat uwaterloo ca</th>\n",
       "      <td>1.0</td>\n",
       "      <td>1.0</td>\n",
       "      <td>NaN</td>\n",
       "      <td>1.0</td>\n",
       "      <td>1.0</td>\n",
       "      <td>1.0</td>\n",
       "      <td>1.0</td>\n",
       "      <td>1.0</td>\n",
       "    </tr>\n",
       "  </tbody>\n",
       "</table>\n",
       "<p>3497 rows × 8 columns</p>\n",
       "</div>"
      ],
      "text/plain": [
       "                                                   label                     \\\n",
       "                                                   count mean std  min  25%   \n",
       "text                                                                          \n",
       " \\\\ let employers find you on job banks job sea...   1.0  0.0 NaN  0.0  0.0   \n",
       " a home jobsite the p ower marketing associatio...   1.0  0.0 NaN  0.0  0.0   \n",
       " a home jobsite the p ower marketing associatio...   1.0  0.0 NaN  0.0  0.0   \n",
       " a home jobsite the p ower marketing associatio...   1.0  0.0 NaN  0.0  0.0   \n",
       " a home jobsite the p ower marketing associatio...   1.0  0.0 NaN  0.0  0.0   \n",
       "...                                                  ...  ...  ..  ...  ...   \n",
       "Â‚Ã§Â‚Â¤Â‚ÂµÂ‚Ã¤Â‚Ã Â˜bÂ‚ÂµÂ‚Ã¤Â‚Â¨Â‚Â©Â‚Ã¨Â‚Â­...   1.0  1.0 NaN  1.0  1.0   \n",
       "Â„Â¡Â„ÂŸÂ„ÂŸÂ„ÂŸÂ„ÂŸÂ„ÂŸÂ„ÂŸÂ„ÂŸÂ„ÂŸÂ„ÂŸÂ„ÂŸÂ„Â...   1.0  1.0 NaN  1.0  1.0   \n",
       "Ã¤Ã®Ã¡Ã°Ã®Ã¥ Ã³Ã²Ã°Ã® ÃªÃ®Ã°Ã¯Ã³Ã±Ã­Ã Ã¿ Ã¬Ã¥Ã¡...   1.0  1.0 NaN  1.0  1.0   \n",
       "Ã§Â°Â¡Ã´Ã¬Â¨Â¡Ã´Â½Ã³Â¡Ã´Â´Ã½Â¡Ã´Ã—Â¨Â¡Ã´Ã²ÂµÂ¡Ã...   1.0  1.0 NaN  1.0  1.0   \n",
       "Ã°Ã¢Â¡Â°Ã¦Ã³Ã²ÂµÃ«Ã¹ÂµÃ£Ã«Â°Â·Â¨Â¡Â±ÂµÃ¤Â±Ã¤Â»Â...   1.0  1.0 NaN  1.0  1.0   \n",
       "\n",
       "                                                                   \n",
       "                                                    50%  75%  max  \n",
       "text                                                               \n",
       " \\\\ let employers find you on job banks job sea...  0.0  0.0  0.0  \n",
       " a home jobsite the p ower marketing associatio...  0.0  0.0  0.0  \n",
       " a home jobsite the p ower marketing associatio...  0.0  0.0  0.0  \n",
       " a home jobsite the p ower marketing associatio...  0.0  0.0  0.0  \n",
       " a home jobsite the p ower marketing associatio...  0.0  0.0  0.0  \n",
       "...                                                 ...  ...  ...  \n",
       "Â‚Ã§Â‚Â¤Â‚ÂµÂ‚Ã¤Â‚Ã Â˜bÂ‚ÂµÂ‚Ã¤Â‚Â¨Â‚Â©Â‚Ã¨Â‚Â­...  1.0  1.0  1.0  \n",
       "Â„Â¡Â„ÂŸÂ„ÂŸÂ„ÂŸÂ„ÂŸÂ„ÂŸÂ„ÂŸÂ„ÂŸÂ„ÂŸÂ„ÂŸÂ„ÂŸÂ„Â...  1.0  1.0  1.0  \n",
       "Ã¤Ã®Ã¡Ã°Ã®Ã¥ Ã³Ã²Ã°Ã® ÃªÃ®Ã°Ã¯Ã³Ã±Ã­Ã Ã¿ Ã¬Ã¥Ã¡...  1.0  1.0  1.0  \n",
       "Ã§Â°Â¡Ã´Ã¬Â¨Â¡Ã´Â½Ã³Â¡Ã´Â´Ã½Â¡Ã´Ã—Â¨Â¡Ã´Ã²ÂµÂ¡Ã...  1.0  1.0  1.0  \n",
       "Ã°Ã¢Â¡Â°Ã¦Ã³Ã²ÂµÃ«Ã¹ÂµÃ£Ã«Â°Â·Â¨Â¡Â±ÂµÃ¤Â±Ã¤Â»Â...  1.0  1.0  1.0  \n",
       "\n",
       "[3497 rows x 8 columns]"
      ]
     },
     "execution_count": 12,
     "metadata": {},
     "output_type": "execute_result"
    }
   ],
   "source": [
    "df.groupby('text').describe()"
   ]
  },
  {
   "cell_type": "code",
   "execution_count": 13,
   "id": "d8b86fc1",
   "metadata": {},
   "outputs": [
    {
     "data": {
      "text/plain": [
       "label    1500\n",
       "text     1502\n",
       "dtype: int64"
      ]
     },
     "execution_count": 13,
     "metadata": {},
     "output_type": "execute_result"
    }
   ],
   "source": [
    "df.isnull().sum()"
   ]
  },
  {
   "cell_type": "code",
   "execution_count": 14,
   "id": "71e02e03",
   "metadata": {},
   "outputs": [],
   "source": [
    "df = df.dropna()\n"
   ]
  },
  {
   "cell_type": "code",
   "execution_count": 15,
   "id": "6099ceea",
   "metadata": {},
   "outputs": [
    {
     "data": {
      "text/plain": [
       "label    0\n",
       "text     0\n",
       "dtype: int64"
      ]
     },
     "execution_count": 15,
     "metadata": {},
     "output_type": "execute_result"
    }
   ],
   "source": [
    "df.isnull().sum()"
   ]
  },
  {
   "cell_type": "code",
   "execution_count": 16,
   "id": "8dffcbcf",
   "metadata": {},
   "outputs": [
    {
     "data": {
      "text/plain": [
       "0       1.0\n",
       "1       1.0\n",
       "2       0.0\n",
       "3       1.0\n",
       "4       0.0\n",
       "       ... \n",
       "4994    1.0\n",
       "4995    0.0\n",
       "4996    0.0\n",
       "4997    1.0\n",
       "4998    1.0\n",
       "Name: label, Length: 3497, dtype: float64"
      ]
     },
     "execution_count": 16,
     "metadata": {},
     "output_type": "execute_result"
    }
   ],
   "source": [
    "df['label']"
   ]
  },
  {
   "cell_type": "code",
   "execution_count": 17,
   "id": "5d77ef0b",
   "metadata": {},
   "outputs": [],
   "source": [
    "df['length']=df['text'].apply(len)"
   ]
  },
  {
   "cell_type": "code",
   "execution_count": 18,
   "id": "18a99f7b",
   "metadata": {},
   "outputs": [
    {
     "data": {
      "text/html": [
       "<div>\n",
       "<style scoped>\n",
       "    .dataframe tbody tr th:only-of-type {\n",
       "        vertical-align: middle;\n",
       "    }\n",
       "\n",
       "    .dataframe tbody tr th {\n",
       "        vertical-align: top;\n",
       "    }\n",
       "\n",
       "    .dataframe thead th {\n",
       "        text-align: right;\n",
       "    }\n",
       "</style>\n",
       "<table border=\"1\" class=\"dataframe\">\n",
       "  <thead>\n",
       "    <tr style=\"text-align: right;\">\n",
       "      <th></th>\n",
       "      <th>label</th>\n",
       "      <th>text</th>\n",
       "      <th>length</th>\n",
       "    </tr>\n",
       "  </thead>\n",
       "  <tbody>\n",
       "    <tr>\n",
       "      <th>0</th>\n",
       "      <td>1.0</td>\n",
       "      <td>ounce feather bowl hummingbird opec moment ala...</td>\n",
       "      <td>148</td>\n",
       "    </tr>\n",
       "    <tr>\n",
       "      <th>1</th>\n",
       "      <td>1.0</td>\n",
       "      <td>wulvob get your medircations online qnb ikud v...</td>\n",
       "      <td>808</td>\n",
       "    </tr>\n",
       "    <tr>\n",
       "      <th>2</th>\n",
       "      <td>0.0</td>\n",
       "      <td>computer connection from cnn com wednesday es...</td>\n",
       "      <td>2235</td>\n",
       "    </tr>\n",
       "    <tr>\n",
       "      <th>3</th>\n",
       "      <td>1.0</td>\n",
       "      <td>university degree obtain a prosperous future m...</td>\n",
       "      <td>593</td>\n",
       "    </tr>\n",
       "    <tr>\n",
       "      <th>4</th>\n",
       "      <td>0.0</td>\n",
       "      <td>thanks for all your answers guys i know i shou...</td>\n",
       "      <td>1362</td>\n",
       "    </tr>\n",
       "  </tbody>\n",
       "</table>\n",
       "</div>"
      ],
      "text/plain": [
       "   label                                               text  length\n",
       "0    1.0  ounce feather bowl hummingbird opec moment ala...     148\n",
       "1    1.0  wulvob get your medircations online qnb ikud v...     808\n",
       "2    0.0   computer connection from cnn com wednesday es...    2235\n",
       "3    1.0  university degree obtain a prosperous future m...     593\n",
       "4    0.0  thanks for all your answers guys i know i shou...    1362"
      ]
     },
     "execution_count": 18,
     "metadata": {},
     "output_type": "execute_result"
    }
   ],
   "source": [
    "df.head()"
   ]
  },
  {
   "cell_type": "code",
   "execution_count": 19,
   "id": "6f2d94e0",
   "metadata": {},
   "outputs": [
    {
     "name": "stdout",
     "output_type": "stream",
     "text": [
      "<class 'pandas.core.frame.DataFrame'>\n",
      "Index: 3497 entries, 0 to 4998\n",
      "Data columns (total 3 columns):\n",
      " #   Column  Non-Null Count  Dtype  \n",
      "---  ------  --------------  -----  \n",
      " 0   label   3497 non-null   float64\n",
      " 1   text    3497 non-null   object \n",
      " 2   length  3497 non-null   int64  \n",
      "dtypes: float64(1), int64(1), object(1)\n",
      "memory usage: 109.3+ KB\n"
     ]
    }
   ],
   "source": [
    "df.info()"
   ]
  },
  {
   "cell_type": "code",
   "execution_count": 20,
   "id": "601605d6",
   "metadata": {},
   "outputs": [],
   "source": [
    "import seaborn as sns"
   ]
  },
  {
   "cell_type": "code",
   "execution_count": 21,
   "id": "76217b02",
   "metadata": {},
   "outputs": [
    {
     "data": {
      "text/plain": [
       "<seaborn.axisgrid.FacetGrid at 0x2783c7c5d00>"
      ]
     },
     "execution_count": 21,
     "metadata": {},
     "output_type": "execute_result"
    },
    {
     "data": {
      "image/png": "[encoded data removed]",
      "text/plain": [
       "<Figure size 360x360 with 1 Axes>"
      ]
     },
     "metadata": {
      "needs_background": "light"
     },
     "output_type": "display_data"
    }
   ],
   "source": [
    "sns.displot(df['label'],bins=3)"
   ]
  },
  {
   "cell_type": "code",
   "execution_count": 22,
   "id": "c18c34f4",
   "metadata": {},
   "outputs": [
    {
     "data": {
      "text/plain": [
       "32759"
      ]
     },
     "execution_count": 22,
     "metadata": {},
     "output_type": "execute_result"
    }
   ],
   "source": [
    "df['length'].max()"
   ]
  },
  {
   "cell_type": "code",
   "execution_count": 23,
   "id": "c356e48d",
   "metadata": {},
   "outputs": [
    {
     "name": "stdout",
     "output_type": "stream",
     "text": [
      "25\n"
     ]
    }
   ],
   "source": [
    "print(len(df[df['length']>15000]))"
   ]
  },
  {
   "cell_type": "code",
   "execution_count": 24,
   "id": "4f55e0a2",
   "metadata": {},
   "outputs": [],
   "source": [
    "df.drop(df[df['length']>15000].index, inplace=True)"
   ]
  },
  {
   "cell_type": "code",
   "execution_count": 25,
   "id": "99a750d8",
   "metadata": {},
   "outputs": [
    {
     "name": "stdout",
     "output_type": "stream",
     "text": [
      "<class 'pandas.core.frame.DataFrame'>\n",
      "Index: 3472 entries, 0 to 4998\n",
      "Data columns (total 3 columns):\n",
      " #   Column  Non-Null Count  Dtype  \n",
      "---  ------  --------------  -----  \n",
      " 0   label   3472 non-null   float64\n",
      " 1   text    3472 non-null   object \n",
      " 2   length  3472 non-null   int64  \n",
      "dtypes: float64(1), int64(1), object(1)\n",
      "memory usage: 108.5+ KB\n"
     ]
    }
   ],
   "source": [
    "df.info()"
   ]
  },
  {
   "cell_type": "raw",
   "id": "30aef79f",
   "metadata": {},
   "source": [
    "Writing message_text_process which will remove the pre-processing steps of NLP"
   ]
  },
  {
   "cell_type": "code",
   "execution_count": 26,
   "id": "8ad74d15",
   "metadata": {},
   "outputs": [],
   "source": [
    "stop_words = set(stopwords.words('english'))\n",
    "\n",
    "def message_text_process(mess):\n",
    "    for char in mess:\n",
    "        no_punctuation =''.join([char for char in mess if char not in string.punctuation])\n",
    "        #no_punctuation = ''.join(no_punctuation)\n",
    "        return ' '.join ([word for word in no_punctuation.split() if word.lower() not in stop_words])\n",
    "            "
   ]
  },
  {
   "cell_type": "code",
   "execution_count": 27,
   "id": "8de6db97",
   "metadata": {},
   "outputs": [
    {
     "data": {
      "text/plain": [
       "'name Rajith dsaasd isdas'"
      ]
     },
     "execution_count": 27,
     "metadata": {},
     "output_type": "execute_result"
    }
   ],
   "source": [
    "message_text_process('my name is Rajith? dsaasd isdas OUR WE MY  , myself')"
   ]
  },
  {
   "cell_type": "code",
   "execution_count": 28,
   "id": "ece1a86a",
   "metadata": {},
   "outputs": [
    {
     "name": "stdout",
     "output_type": "stream",
     "text": [
      "!\"#$%&'()*+,-./:;<=>?@[\\]^_`{|}~\n"
     ]
    }
   ],
   "source": [
    "print(string.punctuation)"
   ]
  },
  {
   "cell_type": "code",
   "execution_count": 29,
   "id": "9f3c7d8e",
   "metadata": {},
   "outputs": [
    {
     "name": "stdout",
     "output_type": "stream",
     "text": [
      "['i', 'me', 'my', 'myself', 'we', 'our', 'ours', 'ourselves', 'you', \"you're\", \"you've\", \"you'll\", \"you'd\", 'your', 'yours', 'yourself', 'yourselves', 'he', 'him', 'his', 'himself', 'she', \"she's\", 'her', 'hers', 'herself', 'it', \"it's\", 'its', 'itself', 'they', 'them', 'their', 'theirs', 'themselves', 'what', 'which', 'who', 'whom', 'this', 'that', \"that'll\", 'these', 'those', 'am', 'is', 'are', 'was', 'were', 'be', 'been', 'being', 'have', 'has', 'had', 'having', 'do', 'does', 'did', 'doing', 'a', 'an', 'the', 'and', 'but', 'if', 'or', 'because', 'as', 'until', 'while', 'of', 'at', 'by', 'for', 'with', 'about', 'against', 'between', 'into', 'through', 'during', 'before', 'after', 'above', 'below', 'to', 'from', 'up', 'down', 'in', 'out', 'on', 'off', 'over', 'under', 'again', 'further', 'then', 'once', 'here', 'there', 'when', 'where', 'why', 'how', 'all', 'any', 'both', 'each', 'few', 'more', 'most', 'other', 'some', 'such', 'no', 'nor', 'not', 'only', 'own', 'same', 'so', 'than', 'too', 'very', 's', 't', 'can', 'will', 'just', 'don', \"don't\", 'should', \"should've\", 'now', 'd', 'll', 'm', 'o', 're', 've', 'y', 'ain', 'aren', \"aren't\", 'couldn', \"couldn't\", 'didn', \"didn't\", 'doesn', \"doesn't\", 'hadn', \"hadn't\", 'hasn', \"hasn't\", 'haven', \"haven't\", 'isn', \"isn't\", 'ma', 'mightn', \"mightn't\", 'mustn', \"mustn't\", 'needn', \"needn't\", 'shan', \"shan't\", 'shouldn', \"shouldn't\", 'wasn', \"wasn't\", 'weren', \"weren't\", 'won', \"won't\", 'wouldn', \"wouldn't\"]\n"
     ]
    }
   ],
   "source": [
    "print(stopwords.words('english'))"
   ]
  },
  {
   "cell_type": "code",
   "execution_count": 30,
   "id": "8daa5d69",
   "metadata": {},
   "outputs": [
    {
     "data": {
      "text/plain": [
       "179"
      ]
     },
     "execution_count": 30,
     "metadata": {},
     "output_type": "execute_result"
    }
   ],
   "source": [
    "len(stopwords.words('english'))"
   ]
  },
  {
   "cell_type": "code",
   "execution_count": 31,
   "id": "035a64c3",
   "metadata": {},
   "outputs": [
    {
     "data": {
      "text/plain": [
       "0    ounce feather bowl hummingbird opec moment ala...\n",
       "1    wulvob get medircations online qnb ikud viagra...\n",
       "2    computer connection cnn com wednesday escapenu...\n",
       "3    university degree obtain prosperous future mon...\n",
       "4    thanks answers guys know checked rsync manual ...\n",
       "Name: text, dtype: object"
      ]
     },
     "execution_count": 31,
     "metadata": {},
     "output_type": "execute_result"
    }
   ],
   "source": [
    "df['text'].head(5).apply(message_text_process)"
   ]
  },
  {
   "cell_type": "code",
   "execution_count": 32,
   "id": "664c2c0f",
   "metadata": {},
   "outputs": [
    {
     "data": {
      "text/plain": [
       "0       ounce feather bowl hummingbird opec moment ala...\n",
       "1       wulvob get medircations online qnb ikud viagra...\n",
       "2       computer connection cnn com wednesday escapenu...\n",
       "3       university degree obtain prosperous future mon...\n",
       "4       thanks answers guys know checked rsync manual ...\n",
       "                              ...                        \n",
       "4994    see accounting records echo first line cat usr...\n",
       "4995    per mark palmer instruction forwarding report ...\n",
       "4996    please look arescapenumber array data escapenu...\n",
       "4997    message contains graphics see graphics click v...\n",
       "4998    hey wanted share experiences past year many me...\n",
       "Name: text, Length: 3472, dtype: object"
      ]
     },
     "execution_count": 32,
     "metadata": {},
     "output_type": "execute_result"
    }
   ],
   "source": [
    "df['text'].apply(message_text_process)"
   ]
  },
  {
   "cell_type": "raw",
   "id": "293ab762",
   "metadata": {},
   "source": [
    "Applying text into the message_test_process function so that all the punctuation, stopwords and pre-processing steps will be done"
   ]
  },
  {
   "cell_type": "code",
   "execution_count": 33,
   "id": "460d0ca8",
   "metadata": {},
   "outputs": [],
   "source": [
    "df['processed_text'] = df['text'].apply(message_text_process)\n"
   ]
  },
  {
   "cell_type": "code",
   "execution_count": 34,
   "id": "38249ca9",
   "metadata": {},
   "outputs": [
    {
     "data": {
      "text/html": [
       "<div>\n",
       "<style scoped>\n",
       "    .dataframe tbody tr th:only-of-type {\n",
       "        vertical-align: middle;\n",
       "    }\n",
       "\n",
       "    .dataframe tbody tr th {\n",
       "        vertical-align: top;\n",
       "    }\n",
       "\n",
       "    .dataframe thead th {\n",
       "        text-align: right;\n",
       "    }\n",
       "</style>\n",
       "<table border=\"1\" class=\"dataframe\">\n",
       "  <thead>\n",
       "    <tr style=\"text-align: right;\">\n",
       "      <th></th>\n",
       "      <th>label</th>\n",
       "      <th>text</th>\n",
       "      <th>length</th>\n",
       "      <th>processed_text</th>\n",
       "    </tr>\n",
       "  </thead>\n",
       "  <tbody>\n",
       "    <tr>\n",
       "      <th>0</th>\n",
       "      <td>1.0</td>\n",
       "      <td>ounce feather bowl hummingbird opec moment ala...</td>\n",
       "      <td>148</td>\n",
       "      <td>ounce feather bowl hummingbird opec moment ala...</td>\n",
       "    </tr>\n",
       "    <tr>\n",
       "      <th>1</th>\n",
       "      <td>1.0</td>\n",
       "      <td>wulvob get your medircations online qnb ikud v...</td>\n",
       "      <td>808</td>\n",
       "      <td>wulvob get medircations online qnb ikud viagra...</td>\n",
       "    </tr>\n",
       "    <tr>\n",
       "      <th>2</th>\n",
       "      <td>0.0</td>\n",
       "      <td>computer connection from cnn com wednesday es...</td>\n",
       "      <td>2235</td>\n",
       "      <td>computer connection cnn com wednesday escapenu...</td>\n",
       "    </tr>\n",
       "    <tr>\n",
       "      <th>3</th>\n",
       "      <td>1.0</td>\n",
       "      <td>university degree obtain a prosperous future m...</td>\n",
       "      <td>593</td>\n",
       "      <td>university degree obtain prosperous future mon...</td>\n",
       "    </tr>\n",
       "    <tr>\n",
       "      <th>4</th>\n",
       "      <td>0.0</td>\n",
       "      <td>thanks for all your answers guys i know i shou...</td>\n",
       "      <td>1362</td>\n",
       "      <td>thanks answers guys know checked rsync manual ...</td>\n",
       "    </tr>\n",
       "  </tbody>\n",
       "</table>\n",
       "</div>"
      ],
      "text/plain": [
       "   label                                               text  length  \\\n",
       "0    1.0  ounce feather bowl hummingbird opec moment ala...     148   \n",
       "1    1.0  wulvob get your medircations online qnb ikud v...     808   \n",
       "2    0.0   computer connection from cnn com wednesday es...    2235   \n",
       "3    1.0  university degree obtain a prosperous future m...     593   \n",
       "4    0.0  thanks for all your answers guys i know i shou...    1362   \n",
       "\n",
       "                                      processed_text  \n",
       "0  ounce feather bowl hummingbird opec moment ala...  \n",
       "1  wulvob get medircations online qnb ikud viagra...  \n",
       "2  computer connection cnn com wednesday escapenu...  \n",
       "3  university degree obtain prosperous future mon...  \n",
       "4  thanks answers guys know checked rsync manual ...  "
      ]
     },
     "execution_count": 34,
     "metadata": {},
     "output_type": "execute_result"
    }
   ],
   "source": [
    "df.head()"
   ]
  },
  {
   "cell_type": "code",
   "execution_count": 35,
   "id": "9cc7ec8e",
   "metadata": {},
   "outputs": [
    {
     "data": {
      "text/html": [
       "<div>\n",
       "<style scoped>\n",
       "    .dataframe tbody tr th:only-of-type {\n",
       "        vertical-align: middle;\n",
       "    }\n",
       "\n",
       "    .dataframe tbody tr th {\n",
       "        vertical-align: top;\n",
       "    }\n",
       "\n",
       "    .dataframe thead th {\n",
       "        text-align: right;\n",
       "    }\n",
       "</style>\n",
       "<table border=\"1\" class=\"dataframe\">\n",
       "  <thead>\n",
       "    <tr style=\"text-align: right;\">\n",
       "      <th></th>\n",
       "      <th>label</th>\n",
       "      <th>text</th>\n",
       "      <th>length</th>\n",
       "      <th>processed_text</th>\n",
       "    </tr>\n",
       "  </thead>\n",
       "  <tbody>\n",
       "    <tr>\n",
       "      <th>0</th>\n",
       "      <td>1.0</td>\n",
       "      <td>ounce feather bowl hummingbird opec moment ala...</td>\n",
       "      <td>148</td>\n",
       "      <td>ounce feather bowl hummingbird opec moment ala...</td>\n",
       "    </tr>\n",
       "    <tr>\n",
       "      <th>1</th>\n",
       "      <td>1.0</td>\n",
       "      <td>wulvob get your medircations online qnb ikud v...</td>\n",
       "      <td>808</td>\n",
       "      <td>wulvob get medircations online qnb ikud viagra...</td>\n",
       "    </tr>\n",
       "    <tr>\n",
       "      <th>2</th>\n",
       "      <td>0.0</td>\n",
       "      <td>computer connection from cnn com wednesday es...</td>\n",
       "      <td>2235</td>\n",
       "      <td>computer connection cnn com wednesday escapenu...</td>\n",
       "    </tr>\n",
       "    <tr>\n",
       "      <th>3</th>\n",
       "      <td>1.0</td>\n",
       "      <td>university degree obtain a prosperous future m...</td>\n",
       "      <td>593</td>\n",
       "      <td>university degree obtain prosperous future mon...</td>\n",
       "    </tr>\n",
       "    <tr>\n",
       "      <th>4</th>\n",
       "      <td>0.0</td>\n",
       "      <td>thanks for all your answers guys i know i shou...</td>\n",
       "      <td>1362</td>\n",
       "      <td>thanks answers guys know checked rsync manual ...</td>\n",
       "    </tr>\n",
       "    <tr>\n",
       "      <th>...</th>\n",
       "      <td>...</td>\n",
       "      <td>...</td>\n",
       "      <td>...</td>\n",
       "      <td>...</td>\n",
       "    </tr>\n",
       "    <tr>\n",
       "      <th>4994</th>\n",
       "      <td>1.0</td>\n",
       "      <td>to see the accounting records echo first line ...</td>\n",
       "      <td>1032</td>\n",
       "      <td>see accounting records echo first line cat usr...</td>\n",
       "    </tr>\n",
       "    <tr>\n",
       "      <th>4995</th>\n",
       "      <td>0.0</td>\n",
       "      <td>per mark palmer ' s instruction , i am forward...</td>\n",
       "      <td>379</td>\n",
       "      <td>per mark palmer instruction forwarding report ...</td>\n",
       "    </tr>\n",
       "    <tr>\n",
       "      <th>4996</th>\n",
       "      <td>0.0</td>\n",
       "      <td>please have a look at this arescapenumber arra...</td>\n",
       "      <td>4008</td>\n",
       "      <td>please look arescapenumber array data escapenu...</td>\n",
       "    </tr>\n",
       "    <tr>\n",
       "      <th>4997</th>\n",
       "      <td>1.0</td>\n",
       "      <td>this message contains graphics if you do not s...</td>\n",
       "      <td>1369</td>\n",
       "      <td>message contains graphics see graphics click v...</td>\n",
       "    </tr>\n",
       "    <tr>\n",
       "      <th>4998</th>\n",
       "      <td>1.0</td>\n",
       "      <td>hey ,\\ni just wanted to share with you the exp...</td>\n",
       "      <td>2370</td>\n",
       "      <td>hey wanted share experiences past year many me...</td>\n",
       "    </tr>\n",
       "  </tbody>\n",
       "</table>\n",
       "<p>3472 rows × 4 columns</p>\n",
       "</div>"
      ],
      "text/plain": [
       "      label                                               text  length  \\\n",
       "0       1.0  ounce feather bowl hummingbird opec moment ala...     148   \n",
       "1       1.0  wulvob get your medircations online qnb ikud v...     808   \n",
       "2       0.0   computer connection from cnn com wednesday es...    2235   \n",
       "3       1.0  university degree obtain a prosperous future m...     593   \n",
       "4       0.0  thanks for all your answers guys i know i shou...    1362   \n",
       "...     ...                                                ...     ...   \n",
       "4994    1.0  to see the accounting records echo first line ...    1032   \n",
       "4995    0.0  per mark palmer ' s instruction , i am forward...     379   \n",
       "4996    0.0  please have a look at this arescapenumber arra...    4008   \n",
       "4997    1.0  this message contains graphics if you do not s...    1369   \n",
       "4998    1.0  hey ,\\ni just wanted to share with you the exp...    2370   \n",
       "\n",
       "                                         processed_text  \n",
       "0     ounce feather bowl hummingbird opec moment ala...  \n",
       "1     wulvob get medircations online qnb ikud viagra...  \n",
       "2     computer connection cnn com wednesday escapenu...  \n",
       "3     university degree obtain prosperous future mon...  \n",
       "4     thanks answers guys know checked rsync manual ...  \n",
       "...                                                 ...  \n",
       "4994  see accounting records echo first line cat usr...  \n",
       "4995  per mark palmer instruction forwarding report ...  \n",
       "4996  please look arescapenumber array data escapenu...  \n",
       "4997  message contains graphics see graphics click v...  \n",
       "4998  hey wanted share experiences past year many me...  \n",
       "\n",
       "[3472 rows x 4 columns]"
      ]
     },
     "execution_count": 35,
     "metadata": {},
     "output_type": "execute_result"
    }
   ],
   "source": [
    "df"
   ]
  },
  {
   "cell_type": "markdown",
   "id": "b354a1d0",
   "metadata": {},
   "source": [
    "# Applying TfidfVectorizer to convert into sparse matrix"
   ]
  },
  {
   "cell_type": "code",
   "execution_count": 36,
   "id": "bd28aef9",
   "metadata": {},
   "outputs": [],
   "source": [
    "from sklearn.feature_extraction.text import TfidfVectorizer\n",
    "\n",
    "tfidf=TfidfVectorizer()\n",
    "\n"
   ]
  },
  {
   "cell_type": "code",
   "execution_count": 37,
   "id": "a5cec0b6",
   "metadata": {},
   "outputs": [],
   "source": [
    "X=tfidf.fit_transform(df['processed_text']).toarray()"
   ]
  },
  {
   "cell_type": "code",
   "execution_count": 38,
   "id": "457c7215",
   "metadata": {},
   "outputs": [
    {
     "data": {
      "text/plain": [
       "array([[0., 0., 0., ..., 0., 0., 0.],\n",
       "       [0., 0., 0., ..., 0., 0., 0.],\n",
       "       [0., 0., 0., ..., 0., 0., 0.],\n",
       "       ...,\n",
       "       [0., 0., 0., ..., 0., 0., 0.],\n",
       "       [0., 0., 0., ..., 0., 0., 0.],\n",
       "       [0., 0., 0., ..., 0., 0., 0.]])"
      ]
     },
     "execution_count": 38,
     "metadata": {},
     "output_type": "execute_result"
    }
   ],
   "source": [
    "X"
   ]
  },
  {
   "cell_type": "code",
   "execution_count": 39,
   "id": "da865b81",
   "metadata": {},
   "outputs": [],
   "source": [
    "y=df['label'].values"
   ]
  },
  {
   "cell_type": "code",
   "execution_count": 40,
   "id": "4e935dee",
   "metadata": {},
   "outputs": [
    {
     "data": {
      "text/plain": [
       "(3472,)"
      ]
     },
     "execution_count": 40,
     "metadata": {},
     "output_type": "execute_result"
    }
   ],
   "source": [
    "y.shape"
   ]
  },
  {
   "cell_type": "code",
   "execution_count": 41,
   "id": "6b30cf7f",
   "metadata": {},
   "outputs": [
    {
     "name": "stdout",
     "output_type": "stream",
     "text": [
      "Length of X_train: 3472\n",
      "Length of y_train: 3472\n"
     ]
    }
   ],
   "source": [
    "print(f\"Length of X_train: {len(X)}\")\n",
    "print(f\"Length of y_train: {len(y)}\")"
   ]
  },
  {
   "cell_type": "code",
   "execution_count": 42,
   "id": "12e5c4b4",
   "metadata": {},
   "outputs": [],
   "source": [
    "from sklearn.model_selection import train_test_split\n",
    "\n",
    "\n",
    "X_train,X_test,y_train,y_test=train_test_split(X,y,test_size=0.2,random_state=2)\n",
    "\n"
   ]
  },
  {
   "cell_type": "markdown",
   "id": "2b774b0d",
   "metadata": {},
   "source": [
    "# As it is a classification model we are checking accuracy with Logistic Regression, SVM, Random forest, decision tree, gradient boosting,KNN"
   ]
  },
  {
   "cell_type": "code",
   "execution_count": 43,
   "id": "789d6d43",
   "metadata": {},
   "outputs": [],
   "source": [
    "from sklearn.linear_model import LogisticRegression\n",
    "logistic=LogisticRegression(n_jobs=4,C=0.1, tol=1e-4,solver='saga') # Parallel Processing,Regularization Strength (C parameter),Convergence Criteria,Solver Selection,//"
   ]
  },
  {
   "cell_type": "code",
   "execution_count": 44,
   "id": "59fdf303",
   "metadata": {},
   "outputs": [
    {
     "data": {
      "text/html": [
       "<style>#sk-container-id-1 {color: black;}#sk-container-id-1 pre{padding: 0;}#sk-container-id-1 div.sk-toggleable {background-color: white;}#sk-container-id-1 label.sk-toggleable__label {cursor: pointer;display: block;width: 100%;margin-bottom: 0;padding: 0.3em;box-sizing: border-box;text-align: center;}#sk-container-id-1 label.sk-toggleable__label-arrow:before {content: \"▸\";float: left;margin-right: 0.25em;color: #696969;}#sk-container-id-1 label.sk-toggleable__label-arrow:hover:before {color: black;}#sk-container-id-1 div.sk-estimator:hover label.sk-toggleable__label-arrow:before {color: black;}#sk-container-id-1 div.sk-toggleable__content {max-height: 0;max-width: 0;overflow: hidden;text-align: left;background-color: #f0f8ff;}#sk-container-id-1 div.sk-toggleable__content pre {margin: 0.2em;color: black;border-radius: 0.25em;background-color: #f0f8ff;}#sk-container-id-1 input.sk-toggleable__control:checked~div.sk-toggleable__content {max-height: 200px;max-width: 100%;overflow: auto;}#sk-container-id-1 input.sk-toggleable__control:checked~label.sk-toggleable__label-arrow:before {content: \"▾\";}#sk-container-id-1 div.sk-estimator input.sk-toggleable__control:checked~label.sk-toggleable__label {background-color: #d4ebff;}#sk-container-id-1 div.sk-label input.sk-toggleable__control:checked~label.sk-toggleable__label {background-color: #d4ebff;}#sk-container-id-1 input.sk-hidden--visually {border: 0;clip: rect(1px 1px 1px 1px);clip: rect(1px, 1px, 1px, 1px);height: 1px;margin: -1px;overflow: hidden;padding: 0;position: absolute;width: 1px;}#sk-container-id-1 div.sk-estimator {font-family: monospace;background-color: #f0f8ff;border: 1px dotted black;border-radius: 0.25em;box-sizing: border-box;margin-bottom: 0.5em;}#sk-container-id-1 div.sk-estimator:hover {background-color: #d4ebff;}#sk-container-id-1 div.sk-parallel-item::after {content: \"\";width: 100%;border-bottom: 1px solid gray;flex-grow: 1;}#sk-container-id-1 div.sk-label:hover label.sk-toggleable__label {background-color: #d4ebff;}#sk-container-id-1 div.sk-serial::before {content: \"\";position: absolute;border-left: 1px solid gray;box-sizing: border-box;top: 0;bottom: 0;left: 50%;z-index: 0;}#sk-container-id-1 div.sk-serial {display: flex;flex-direction: column;align-items: center;background-color: white;padding-right: 0.2em;padding-left: 0.2em;position: relative;}#sk-container-id-1 div.sk-item {position: relative;z-index: 1;}#sk-container-id-1 div.sk-parallel {display: flex;align-items: stretch;justify-content: center;background-color: white;position: relative;}#sk-container-id-1 div.sk-item::before, #sk-container-id-1 div.sk-parallel-item::before {content: \"\";position: absolute;border-left: 1px solid gray;box-sizing: border-box;top: 0;bottom: 0;left: 50%;z-index: -1;}#sk-container-id-1 div.sk-parallel-item {display: flex;flex-direction: column;z-index: 1;position: relative;background-color: white;}#sk-container-id-1 div.sk-parallel-item:first-child::after {align-self: flex-end;width: 50%;}#sk-container-id-1 div.sk-parallel-item:last-child::after {align-self: flex-start;width: 50%;}#sk-container-id-1 div.sk-parallel-item:only-child::after {width: 0;}#sk-container-id-1 div.sk-dashed-wrapped {border: 1px dashed gray;margin: 0 0.4em 0.5em 0.4em;box-sizing: border-box;padding-bottom: 0.4em;background-color: white;}#sk-container-id-1 div.sk-label label {font-family: monospace;font-weight: bold;display: inline-block;line-height: 1.2em;}#sk-container-id-1 div.sk-label-container {text-align: center;}#sk-container-id-1 div.sk-container {/* jupyter's `normalize.less` sets `[hidden] { display: none; }` but bootstrap.min.css set `[hidden] { display: none !important; }` so we also need the `!important` here to be able to override the default hidden behavior on the sphinx rendered scikit-learn.org. See: https://github.com/scikit-learn/scikit-learn/issues/21755 */display: inline-block !important;position: relative;}#sk-container-id-1 div.sk-text-repr-fallback {display: none;}</style><div id=\"sk-container-id-1\" class=\"sk-top-container\"><div class=\"sk-text-repr-fallback\"><pre>LogisticRegression(C=0.1, n_jobs=4, solver=&#x27;saga&#x27;)</pre><b>In a Jupyter environment, please rerun this cell to show the HTML representation or trust the notebook. <br />On GitHub, the HTML representation is unable to render, please try loading this page with nbviewer.org.</b></div><div class=\"sk-container\" hidden><div class=\"sk-item\"><div class=\"sk-estimator sk-toggleable\"><input class=\"sk-toggleable__control sk-hidden--visually\" id=\"sk-estimator-id-1\" type=\"checkbox\" checked><label for=\"sk-estimator-id-1\" class=\"sk-toggleable__label sk-toggleable__label-arrow\">LogisticRegression</label><div class=\"sk-toggleable__content\"><pre>LogisticRegression(C=0.1, n_jobs=4, solver=&#x27;saga&#x27;)</pre></div></div></div></div></div>"
      ],
      "text/plain": [
       "LogisticRegression(C=0.1, n_jobs=4, solver='saga')"
      ]
     },
     "execution_count": 44,
     "metadata": {},
     "output_type": "execute_result"
    }
   ],
   "source": [
    "logistic.fit(X_train,y_train)"
   ]
  },
  {
   "cell_type": "code",
   "execution_count": 45,
   "id": "319bf636",
   "metadata": {},
   "outputs": [
    {
     "name": "stdout",
     "output_type": "stream",
     "text": [
      "time take:27.83570909500122.2f , seconds\n"
     ]
    }
   ],
   "source": [
    "import time\n",
    "\n",
    "start=time.time()\n",
    "logistic.fit(X_train,y_train)\n",
    "end=time.time()\n",
    "\n",
    "print(f'time take:{ end-start}.2f , seconds')"
   ]
  },
  {
   "cell_type": "code",
   "execution_count": 46,
   "id": "2801b8ec",
   "metadata": {},
   "outputs": [],
   "source": [
    "predict=logistic.predict(X_test)"
   ]
  },
  {
   "cell_type": "code",
   "execution_count": 47,
   "id": "4994ff57",
   "metadata": {},
   "outputs": [
    {
     "data": {
      "text/plain": [
       "array([1., 1., 1., 1., 1., 1., 0., 1., 1., 1., 1., 1., 1., 1., 0., 1., 1.,\n",
       "       1., 0., 1., 1., 0., 1., 1., 1., 0., 1., 0., 1., 1., 1., 1., 1., 1.,\n",
       "       1., 0., 0., 1., 1., 1., 1., 1., 1., 0., 1., 1., 1., 1., 0., 0., 1.,\n",
       "       0., 1., 1., 1., 1., 1., 1., 0., 0., 1., 0., 0., 1., 0., 0., 1., 0.,\n",
       "       1., 1., 1., 0., 0., 0., 0., 1., 1., 0., 1., 1., 1., 1., 0., 1., 1.,\n",
       "       0., 0., 1., 0., 1., 1., 1., 1., 0., 1., 1., 1., 0., 1., 0., 1., 0.,\n",
       "       0., 1., 1., 1., 1., 1., 1., 0., 0., 1., 0., 0., 1., 1., 1., 1., 1.,\n",
       "       1., 1., 0., 0., 1., 1., 0., 1., 1., 0., 1., 1., 1., 1., 1., 0., 1.,\n",
       "       0., 1., 0., 1., 0., 0., 1., 0., 1., 1., 0., 1., 0., 1., 0., 0., 1.,\n",
       "       0., 0., 1., 0., 1., 1., 1., 0., 1., 1., 1., 1., 1., 0., 0., 1., 0.,\n",
       "       1., 0., 1., 0., 1., 0., 0., 0., 1., 1., 1., 0., 0., 1., 1., 1., 0.,\n",
       "       0., 1., 1., 1., 0., 1., 0., 0., 1., 1., 1., 1., 0., 1., 0., 1., 1.,\n",
       "       0., 1., 1., 1., 0., 1., 0., 0., 1., 1., 0., 0., 1., 1., 1., 0., 1.,\n",
       "       1., 1., 0., 1., 1., 0., 1., 1., 1., 1., 1., 1., 1., 1., 1., 1., 1.,\n",
       "       1., 1., 1., 0., 0., 1., 0., 0., 1., 1., 1., 1., 1., 0., 1., 1., 0.,\n",
       "       1., 0., 0., 1., 0., 1., 1., 1., 1., 1., 1., 1., 1., 1., 1., 0., 1.,\n",
       "       1., 1., 1., 1., 1., 1., 1., 1., 1., 1., 1., 0., 1., 0., 0., 1., 0.,\n",
       "       1., 1., 0., 0., 0., 1., 1., 0., 1., 0., 1., 0., 1., 0., 1., 0., 1.,\n",
       "       1., 0., 1., 1., 0., 1., 1., 0., 1., 0., 0., 1., 1., 1., 1., 1., 1.,\n",
       "       1., 1., 0., 1., 1., 1., 1., 0., 1., 1., 1., 1., 0., 1., 1., 1., 1.,\n",
       "       0., 0., 1., 0., 1., 1., 0., 0., 1., 1., 1., 0., 0., 1., 0., 0., 1.,\n",
       "       0., 0., 0., 1., 1., 0., 1., 1., 1., 0., 1., 1., 1., 1., 1., 0., 0.,\n",
       "       1., 1., 1., 1., 1., 0., 1., 1., 1., 1., 1., 1., 1., 1., 0., 0., 1.,\n",
       "       1., 0., 0., 0., 0., 1., 1., 1., 1., 1., 1., 1., 1., 1., 0., 0., 0.,\n",
       "       0., 0., 1., 0., 0., 0., 1., 1., 1., 0., 1., 1., 0., 0., 0., 0., 0.,\n",
       "       0., 1., 1., 1., 1., 1., 1., 1., 1., 0., 1., 0., 1., 0., 0., 1., 0.,\n",
       "       0., 1., 0., 1., 1., 1., 1., 0., 1., 1., 1., 0., 1., 0., 1., 1., 1.,\n",
       "       1., 1., 1., 1., 1., 1., 1., 1., 1., 0., 0., 0., 0., 0., 0., 1., 0.,\n",
       "       1., 1., 0., 1., 1., 1., 0., 0., 0., 1., 1., 1., 1., 1., 1., 0., 0.,\n",
       "       1., 0., 1., 0., 1., 0., 1., 1., 0., 1., 1., 0., 0., 1., 1., 0., 1.,\n",
       "       1., 1., 1., 1., 1., 1., 1., 0., 1., 0., 1., 1., 1., 1., 1., 1., 0.,\n",
       "       1., 1., 1., 1., 1., 0., 0., 1., 0., 0., 1., 1., 1., 0., 0., 1., 1.,\n",
       "       0., 1., 0., 1., 0., 0., 0., 1., 1., 0., 0., 1., 0., 1., 1., 1., 1.,\n",
       "       1., 1., 0., 0., 1., 0., 1., 0., 1., 1., 0., 1., 0., 1., 1., 1., 1.,\n",
       "       1., 1., 0., 0., 1., 1., 1., 1., 1., 0., 0., 1., 0., 1., 1., 1., 1.,\n",
       "       0., 1., 0., 1., 0., 0., 0., 1., 1., 0., 0., 0., 1., 1., 1., 1., 0.,\n",
       "       1., 0., 1., 0., 0., 0., 0., 1., 0., 1., 0., 0., 1., 1., 0., 1., 1.,\n",
       "       1., 1., 1., 1., 1., 0., 0., 1., 1., 0., 0., 1., 0., 1., 1., 1., 1.,\n",
       "       1., 1., 1., 1., 1., 1., 1., 1., 0., 1., 1., 0., 1., 0., 1., 1., 1.,\n",
       "       1., 1., 0., 1., 0., 1., 0., 1., 0., 1., 1., 1., 0., 1., 1., 1., 1.,\n",
       "       1., 0., 0., 1., 1., 0., 0., 0., 1., 1., 1., 1., 1., 0., 1.])"
      ]
     },
     "execution_count": 47,
     "metadata": {},
     "output_type": "execute_result"
    }
   ],
   "source": [
    "predict"
   ]
  },
  {
   "cell_type": "code",
   "execution_count": 48,
   "id": "35da9e52",
   "metadata": {},
   "outputs": [
    {
     "data": {
      "text/plain": [
       "0.8633093525179856"
      ]
     },
     "execution_count": 48,
     "metadata": {},
     "output_type": "execute_result"
    }
   ],
   "source": [
    "expected=y_test\n",
    "\n",
    "from sklearn.metrics import accuracy_score\n",
    "\n",
    "accuracy_score(expected,predict)"
   ]
  },
  {
   "cell_type": "markdown",
   "id": "4d075d7b",
   "metadata": {},
   "source": [
    "# Using MultinomialNB(NavieBayes) which works well for spam detection"
   ]
  },
  {
   "cell_type": "code",
   "execution_count": 49,
   "id": "f180b2ca",
   "metadata": {},
   "outputs": [],
   "source": [
    "from sklearn.naive_bayes import MultinomialNB\n",
    "from sklearn.metrics import precision_score\n",
    "spam_detect6 = MultinomialNB().fit(X_train,y_train)"
   ]
  },
  {
   "cell_type": "code",
   "execution_count": 50,
   "id": "0f4a3aa1",
   "metadata": {},
   "outputs": [],
   "source": [
    "predict=spam_detect6.predict(X_test)"
   ]
  },
  {
   "cell_type": "code",
   "execution_count": 51,
   "id": "efc3697d",
   "metadata": {},
   "outputs": [
    {
     "data": {
      "text/plain": [
       "0.9539568345323741"
      ]
     },
     "execution_count": 51,
     "metadata": {},
     "output_type": "execute_result"
    }
   ],
   "source": [
    "accuracy_score(y_test,predict)"
   ]
  },
  {
   "cell_type": "code",
   "execution_count": 52,
   "id": "32327088",
   "metadata": {},
   "outputs": [
    {
     "data": {
      "text/plain": [
       "0.9621621621621622"
      ]
     },
     "execution_count": 52,
     "metadata": {},
     "output_type": "execute_result"
    }
   ],
   "source": [
    "precision_score(y_test,predict)"
   ]
  },
  {
   "cell_type": "markdown",
   "id": "c022158c",
   "metadata": {},
   "source": [
    "# Using SVM(Support Vector Machine)"
   ]
  },
  {
   "cell_type": "code",
   "execution_count": 53,
   "id": "ec246a23",
   "metadata": {},
   "outputs": [],
   "source": [
    "from sklearn.svm import SVC\n",
    "spam_detect = SVC(kernel='linear', C=1,gamma= 10).fit(X_train, y_train)"
   ]
  },
  {
   "cell_type": "code",
   "execution_count": 54,
   "id": "1bff0281",
   "metadata": {},
   "outputs": [],
   "source": [
    "predicted=spam_detect.predict(X_test)"
   ]
  },
  {
   "cell_type": "code",
   "execution_count": 56,
   "id": "9db24dd3",
   "metadata": {},
   "outputs": [
    {
     "name": "stdout",
     "output_type": "stream",
     "text": [
      "              precision    recall  f1-score   support\n",
      "\n",
      "         0.0       0.98      0.96      0.97       321\n",
      "         1.0       0.97      0.98      0.97       374\n",
      "\n",
      "    accuracy                           0.97       695\n",
      "   macro avg       0.97      0.97      0.97       695\n",
      "weighted avg       0.97      0.97      0.97       695\n",
      "\n",
      "[[308  13]\n",
      " [  6 368]]\n",
      "0.9658792650918635\n"
     ]
    }
   ],
   "source": [
    "expect=y_test\n",
    "from sklearn import metrics\n",
    "print(metrics.classification_report(expect, predicted))\n",
    "print(metrics.confusion_matrix(expect, predicted))\n",
    "print(metrics.precision_score(expect, predicted))"
   ]
  },
  {
   "cell_type": "code",
   "execution_count": 57,
   "id": "d94319c9",
   "metadata": {},
   "outputs": [],
   "source": [
    "expect=y_test\n",
    "\n",
    "from sklearn.metrics import accuracy_score"
   ]
  },
  {
   "cell_type": "code",
   "execution_count": 58,
   "id": "0b097e95",
   "metadata": {},
   "outputs": [
    {
     "data": {
      "text/plain": [
       "0.9726618705035971"
      ]
     },
     "execution_count": 58,
     "metadata": {},
     "output_type": "execute_result"
    }
   ],
   "source": [
    "accuracy_score(expect,predicted)"
   ]
  },
  {
   "cell_type": "markdown",
   "id": "cc4a4119",
   "metadata": {},
   "source": [
    "# Random Forest"
   ]
  },
  {
   "cell_type": "code",
   "execution_count": 59,
   "id": "ae575ecb",
   "metadata": {},
   "outputs": [],
   "source": [
    "from sklearn.ensemble import RandomForestClassifier\n",
    "from sklearn.metrics import precision_score"
   ]
  },
  {
   "cell_type": "code",
   "execution_count": 60,
   "id": "1154fef3",
   "metadata": {},
   "outputs": [],
   "source": [
    "rm=RandomForestClassifier(n_estimators=100)  #it will reach upto 100 decision trees"
   ]
  },
  {
   "cell_type": "code",
   "execution_count": 61,
   "id": "1ef1a3b6",
   "metadata": {},
   "outputs": [],
   "source": [
    "spam1=rm.fit(X_train,y_train)"
   ]
  },
  {
   "cell_type": "code",
   "execution_count": 62,
   "id": "4e6c4f3a",
   "metadata": {},
   "outputs": [],
   "source": [
    "expect1=spam1.predict(X_test)"
   ]
  },
  {
   "cell_type": "code",
   "execution_count": 63,
   "id": "081f779e",
   "metadata": {},
   "outputs": [
    {
     "data": {
      "text/plain": [
       "0.962589928057554"
      ]
     },
     "execution_count": 63,
     "metadata": {},
     "output_type": "execute_result"
    }
   ],
   "source": [
    "accuracy_score(expect1,y_test)"
   ]
  },
  {
   "cell_type": "code",
   "execution_count": 64,
   "id": "d972ee76",
   "metadata": {},
   "outputs": [
    {
     "data": {
      "text/plain": [
       "0.9759358288770054"
      ]
     },
     "execution_count": 64,
     "metadata": {},
     "output_type": "execute_result"
    }
   ],
   "source": [
    "precision_score(expect1,y_test)"
   ]
  },
  {
   "cell_type": "code",
   "execution_count": 82,
   "id": "2605ef64",
   "metadata": {},
   "outputs": [
    {
     "name": "stdout",
     "output_type": "stream",
     "text": [
      "[[304   9]\n",
      " [ 17 365]]\n",
      "0.9759358288770054\n"
     ]
    }
   ],
   "source": [
    "print(metrics.confusion_matrix(expect1, y_test))\n",
    "print(metrics.precision_score(expect1, y_test))"
   ]
  },
  {
   "cell_type": "markdown",
   "id": "3295aa3f",
   "metadata": {},
   "source": [
    "# Decision Tree"
   ]
  },
  {
   "cell_type": "code",
   "execution_count": 65,
   "id": "ef0e3268",
   "metadata": {},
   "outputs": [],
   "source": [
    "from sklearn.tree import DecisionTreeClassifier"
   ]
  },
  {
   "cell_type": "code",
   "execution_count": 66,
   "id": "91cc4e22",
   "metadata": {},
   "outputs": [],
   "source": [
    "dt=DecisionTreeClassifier()"
   ]
  },
  {
   "cell_type": "code",
   "execution_count": 67,
   "id": "c8969a54",
   "metadata": {},
   "outputs": [],
   "source": [
    "spam2=dt.fit(X_train,y_train)"
   ]
  },
  {
   "cell_type": "code",
   "execution_count": 68,
   "id": "ca66153f",
   "metadata": {},
   "outputs": [],
   "source": [
    "expect2=spam2.predict(X_test)"
   ]
  },
  {
   "cell_type": "code",
   "execution_count": 69,
   "id": "d98f5d3e",
   "metadata": {},
   "outputs": [
    {
     "data": {
      "text/plain": [
       "0.9251798561151079"
      ]
     },
     "execution_count": 69,
     "metadata": {},
     "output_type": "execute_result"
    }
   ],
   "source": [
    "accuracy_score(expect2,y_test)"
   ]
  },
  {
   "cell_type": "code",
   "execution_count": 83,
   "id": "32b08626",
   "metadata": {},
   "outputs": [
    {
     "name": "stdout",
     "output_type": "stream",
     "text": [
      "[[295  26]\n",
      " [ 26 348]]\n",
      "0.93048128342246\n"
     ]
    }
   ],
   "source": [
    "print(metrics.confusion_matrix(expect2, y_test))\n",
    "print(metrics.precision_score(expect2, y_test))"
   ]
  },
  {
   "cell_type": "markdown",
   "id": "27d54b76",
   "metadata": {},
   "source": [
    "# Gradient Boosting"
   ]
  },
  {
   "cell_type": "code",
   "execution_count": 70,
   "id": "a686b2fd",
   "metadata": {},
   "outputs": [],
   "source": [
    "from sklearn.ensemble import GradientBoostingClassifier"
   ]
  },
  {
   "cell_type": "code",
   "execution_count": 71,
   "id": "2c81e1fc",
   "metadata": {},
   "outputs": [],
   "source": [
    "GB=GradientBoostingClassifier(n_estimators=100, learning_rate=0.1, max_depth=3) # if we include these parameters the accuracy is reducing due to low training values"
   ]
  },
  {
   "cell_type": "code",
   "execution_count": 72,
   "id": "7c0a417a",
   "metadata": {},
   "outputs": [],
   "source": [
    "spam3=GB.fit(X_train,y_train)"
   ]
  },
  {
   "cell_type": "code",
   "execution_count": 73,
   "id": "eed4296a",
   "metadata": {},
   "outputs": [],
   "source": [
    "expect3=spam3.predict(X_test)"
   ]
  },
  {
   "cell_type": "code",
   "execution_count": 74,
   "id": "a2a819c3",
   "metadata": {},
   "outputs": [
    {
     "data": {
      "text/plain": [
       "0.9338129496402877"
      ]
     },
     "execution_count": 74,
     "metadata": {},
     "output_type": "execute_result"
    }
   ],
   "source": [
    "accuracy_score(expect3,y_test)"
   ]
  },
  {
   "cell_type": "code",
   "execution_count": 84,
   "id": "b5ceba67",
   "metadata": {},
   "outputs": [
    {
     "name": "stdout",
     "output_type": "stream",
     "text": [
      "[[286  11]\n",
      " [ 35 363]]\n",
      "0.9705882352941176\n"
     ]
    }
   ],
   "source": [
    "print(metrics.confusion_matrix(expect3, y_test))\n",
    "print(metrics.precision_score(expect3, y_test))"
   ]
  },
  {
   "cell_type": "markdown",
   "id": "62e6115f",
   "metadata": {},
   "source": [
    "# KNN (K-Nearest Neighbors)"
   ]
  },
  {
   "cell_type": "code",
   "execution_count": 75,
   "id": "3c99eeaa",
   "metadata": {},
   "outputs": [],
   "source": [
    "from sklearn.neighbors import KNeighborsClassifier"
   ]
  },
  {
   "cell_type": "code",
   "execution_count": 76,
   "id": "9e076dc1",
   "metadata": {},
   "outputs": [],
   "source": [
    "knn=KNeighborsClassifier()"
   ]
  },
  {
   "cell_type": "code",
   "execution_count": 77,
   "id": "79f3cd62",
   "metadata": {},
   "outputs": [],
   "source": [
    "spam4=knn.fit(X_train,y_train)"
   ]
  },
  {
   "cell_type": "code",
   "execution_count": 78,
   "id": "a3a3524c",
   "metadata": {},
   "outputs": [],
   "source": [
    "except4=spam4.predict(X_test)"
   ]
  },
  {
   "cell_type": "code",
   "execution_count": 79,
   "id": "c4874edf",
   "metadata": {},
   "outputs": [
    {
     "data": {
      "text/plain": [
       "0.8992805755395683"
      ]
     },
     "execution_count": 79,
     "metadata": {},
     "output_type": "execute_result"
    }
   ],
   "source": [
    "accuracy_score(except4,y_test)"
   ]
  },
  {
   "cell_type": "code",
   "execution_count": 86,
   "id": "509aacf7",
   "metadata": {},
   "outputs": [
    {
     "name": "stdout",
     "output_type": "stream",
     "text": [
      "[[314  63]\n",
      " [  7 311]]\n",
      "0.8315508021390374\n"
     ]
    }
   ],
   "source": [
    "print(metrics.confusion_matrix(except4, y_test))\n",
    "print(metrics.precision_score(except4, y_test))"
   ]
  },
  {
   "cell_type": "markdown",
   "id": "dca1a0d8",
   "metadata": {},
   "source": [
    "# Pickling the model"
   ]
  },
  {
   "cell_type": "code",
   "execution_count": 80,
   "id": "79c439fc",
   "metadata": {},
   "outputs": [],
   "source": [
    "\n",
    "import pickle\n",
    "\n",
    "#pickle_out=open(\"spam_model.pkl\", \"wb\" )\n",
    "\n",
    "pickle.dump(spam_detect, open(\"spam_model.pkl\", \"wb\" ))\n",
    "\n",
    "pickle.dump(tfidf,open('message_tfid.pkl','wb'))\n",
    "\n",
    "my_scaler = pickle.load(open(\"spam_model.pkl\", \"rb\" ))\n",
    "\n",
    "#predictions = my_scaler.predict(X_test)"
   ]
  },
  {
   "cell_type": "code",
   "execution_count": 81,
   "id": "3ec88a1f",
   "metadata": {},
   "outputs": [],
   "source": [
    "tfidf = pickle.load(open('message_tfid.pkl', \"rb\"))"
   ]
  },
  {
   "cell_type": "code",
   "execution_count": null,
   "id": "3a40ece1",
   "metadata": {},
   "outputs": [],
   "source": []
  },
  {
   "cell_type": "code",
   "execution_count": null,
   "id": "653a7884",
   "metadata": {},
   "outputs": [],
   "source": []
  }
 ],
 "metadata": {
  "kernelspec": {
   "display_name": "Python 3",
   "language": "python",
   "name": "python3"
  },
  "language_info": {
   "codemirror_mode": {
    "name": "ipython",
    "version": 3
   },
   "file_extension": ".py",
   "mimetype": "text/x-python",
   "name": "python",
   "nbconvert_exporter": "python",
   "pygments_lexer": "ipython3",
   "version": "3.8.8"
  }
 },
 "nbformat": 4,
 "nbformat_minor": 5
}
